{
 "cells": [
  {
   "cell_type": "markdown",
   "metadata": {},
   "source": [
    "# `Troll Tweets Using NLP`\n",
    "\n",
    "# <font color=red>Mr Fugu Data Science</font>\n",
    "\n",
    "# (◕‿◕✿)\n",
    "\n",
    "**`Help Support The Channel: Patreon @mrfugudatasci`**\n",
    "\n",
    "**`Or Consider: Buy Me A Coffee @mrfugudatasci`**"
   ]
  },
  {
   "cell_type": "code",
   "execution_count": 210,
   "metadata": {},
   "outputs": [],
   "source": [
    "# %%html\n",
    "# <iframe src=\"https://giphy.com/embed/WV9MMJsicOOGxl2rE6\" width=\"426\" height=\"480\" frameBorder=\"0\" class=\"giphy-embed\" allowFullScreen></iframe><p><a href=\"https://giphy.com/gifs/memecandy-WV9MMJsicOOGxl2rE6\">via GIPHY</a></p>"
   ]
  },
  {
   "cell_type": "code",
   "execution_count": 3,
   "metadata": {},
   "outputs": [],
   "source": [
    "import pickle                            # open our file\n",
    "import pandas as pd\n",
    "import os\n",
    "import re\n",
    "\n",
    "# plotting image with word cloud\n",
    "from PIL import Image                    # for our images\n",
    "import numpy as np                       # convert image to np arrays\n",
    "from wordcloud import WordCloud,ImageColorGenerator,STOPWORDS # generate word cloud\n",
    "import matplotlib.pyplot as plt          # plotting\n",
    "\n",
    "# nlp\n",
    "import nltk                              # text processing\n",
    "from nltk import word_tokenize           # split sentence into list of words\n",
    "from nltk.corpus import stopwords        # remove: and,it,i,etc\n",
    "import string                            # remove punctuation\n",
    "from collections import defaultdict      # dictionary with values as lists\n",
    "from nltk.stem import WordNetLemmatizer  # remove word endings etc\n"
   ]
  },
  {
   "cell_type": "code",
   "execution_count": 4,
   "metadata": {},
   "outputs": [],
   "source": [
    "# Connect to Kaggle Api\n",
    "\n",
    "from kaggle.api.kaggle_api_extended import KaggleApi\n",
    "api = KaggleApi()\n",
    "api.authenticate()"
   ]
  },
  {
   "cell_type": "code",
   "execution_count": 5,
   "metadata": {},
   "outputs": [
    {
     "name": "stdout",
     "output_type": "stream",
     "text": [
      "Warning: Looks like you're using an outdated API Version, please consider updating (server 1.5.10 / client 1.5.4)\n"
     ]
    },
    {
     "data": {
      "text/plain": [
       "[vikasg/russian-troll-tweets,\n",
       " fivethirtyeight/russian-troll-tweets,\n",
       " dataturks/dataset-for-detection-of-cybertrolls,\n",
       " tannergi/microcontroller-detection,\n",
       " kapastor/democratvsrepublicantweets,\n",
       " mohammadqahtani/trolley-dilemma,\n",
       " paultimothymooney/russian-political-influence-campaigns,\n",
       " ixioixi/3-million-russian-troll-tweets-538,\n",
       " kkairu/nbc-russian-troll-tweets,\n",
       " tannergi/microcontroller-segmentation,\n",
       " wadhasnalhamdan/date-fruit-image-dataset-in-controlled-environment,\n",
       " charcoal/controllers,\n",
       " realc9der/datasets-for-controlled-over-fittinghubmap,\n",
       " kani14am/tweets1,\n",
       " hollyhetherington/russian-troll-tweets,\n",
       " omermetinn/tweets-about-the-top-companies-from-2015-to-2020,\n",
       " kishor1123/nnkdataset,\n",
       " aellatif/troll,\n",
       " jnunezp19/microcontroller-detection,\n",
       " dipinpradeep/microcontroller-detection]"
      ]
     },
     "execution_count": 5,
     "metadata": {},
     "output_type": "execute_result"
    }
   ],
   "source": [
    "# all datasets with troll keyword:\n",
    "\n",
    "api.dataset_list(search='Troll')"
   ]
  },
  {
   "cell_type": "code",
   "execution_count": 6,
   "metadata": {},
   "outputs": [
    {
     "data": {
      "text/plain": [
       "[IRAhandle_tweets_7.csv,\n",
       " IRAhandle_tweets_3.csv,\n",
       " IRAhandle_tweets_8.csv,\n",
       " IRAhandle_tweets_1.csv,\n",
       " IRAhandle_tweets_5.csv,\n",
       " IRAhandle_tweets_2.csv,\n",
       " IRAhandle_tweets_9.csv,\n",
       " IRAhandle_tweets_4.csv,\n",
       " IRAhandle_tweets_6.csv]"
      ]
     },
     "execution_count": 6,
     "metadata": {},
     "output_type": "execute_result"
    }
   ],
   "source": [
    "# files in this dataset: total of 9 csv\n",
    "api.dataset_list_files('fivethirtyeight/russian-troll-tweets').files"
   ]
  },
  {
   "cell_type": "markdown",
   "metadata": {},
   "source": [
    "# `Create Folder to Store Troll Tweets Data`"
   ]
  },
  {
   "cell_type": "code",
   "execution_count": 7,
   "metadata": {},
   "outputs": [
    {
     "name": "stdout",
     "output_type": "stream",
     "text": [
      "Successfully created the directory /Users/zatoichi59/Desktop/troll_tweets \n"
     ]
    }
   ],
   "source": [
    "import os\n",
    "\n",
    "# define the name of the directory to be created\n",
    "path = os.getcwd()+\"/troll_tweets\"\n",
    "\n",
    "try:\n",
    "    os.mkdir(path)\n",
    "except OSError:\n",
    "    print (\"Creation of the directory %s failed\" % path)\n",
    "else:\n",
    "    print (\"Successfully created the directory %s \" % path)"
   ]
  },
  {
   "cell_type": "markdown",
   "metadata": {},
   "source": [
    "# `Get all of the datasets reflecting our search:`\n",
    "\n",
    "`api.dataset_download_files('file you want',\n",
    "        'location to send file')`\n"
   ]
  },
  {
   "cell_type": "code",
   "execution_count": 8,
   "metadata": {},
   "outputs": [],
   "source": [
    "# Download dataset: you have an 'onwer/file_name'\n",
    "\n",
    "api.dataset_download_files('fivethirtyeight/russian-troll-tweets',\n",
    "        '/Users/zatoichi59/Desktop/troll_tweets')\n",
    "\n",
    "# you can download unzipped as well"
   ]
  },
  {
   "cell_type": "code",
   "execution_count": 9,
   "metadata": {},
   "outputs": [
    {
     "data": {
      "text/plain": [
       "['russian-troll-tweets.zip']"
      ]
     },
     "execution_count": 9,
     "metadata": {},
     "output_type": "execute_result"
    }
   ],
   "source": [
    "# find what is inside the new folder from downloaded data:\n",
    "troll_tweets_=!ls /Users/zatoichi59/Desktop/troll_tweets\n",
    "troll_tweets_"
   ]
  },
  {
   "cell_type": "code",
   "execution_count": 10,
   "metadata": {},
   "outputs": [
    {
     "data": {
      "text/plain": [
       "'/Users/zatoichi59/Desktop/troll_tweets01'"
      ]
     },
     "execution_count": 10,
     "metadata": {},
     "output_type": "execute_result"
    }
   ],
   "source": [
    "def os_dir_search(file):\n",
    "    u=[]\n",
    "    for p,n,f in os.walk(os.getcwd()):\n",
    "        \n",
    "        for a in f:\n",
    "            a = str(a)\n",
    "            if a.endswith(file): # can be (.csv) or a file like I did and search \n",
    "#                 print(a)\n",
    "#                 print(p)\n",
    "                t=p\n",
    "    return t\n",
    "\n",
    "os_dir_search(troll_tweets_[0])"
   ]
  },
  {
   "cell_type": "code",
   "execution_count": 11,
   "metadata": {},
   "outputs": [
    {
     "name": "stdout",
     "output_type": "stream",
     "text": [
      "File Name                                             Modified             Size\n",
      "IRAhandle_tweets_1.csv                         2019-10-03 00:12:48     87874842\n",
      "IRAhandle_tweets_2.csv                         2019-10-03 00:12:56     89384804\n",
      "IRAhandle_tweets_3.csv                         2019-10-03 00:13:02     87696348\n",
      "IRAhandle_tweets_4.csv                         2019-10-03 00:13:10     87771344\n",
      "IRAhandle_tweets_5.csv                         2019-10-03 00:13:18     79412644\n",
      "IRAhandle_tweets_6.csv                         2019-10-03 00:13:24     77962778\n",
      "IRAhandle_tweets_7.csv                         2019-10-03 00:13:32     82408170\n",
      "IRAhandle_tweets_8.csv                         2019-10-03 00:13:38     85947534\n",
      "IRAhandle_tweets_9.csv                         2019-10-03 00:13:46      9444208\n",
      "Extracting all the files now...\n",
      "Done!\n"
     ]
    }
   ],
   "source": [
    "from zipfile import ZipFile\n",
    "# specifying the zip file name \n",
    "\n",
    "file_name=os_dir_search(troll_tweets_[0])+ '/' + troll_tweets_[0]\n",
    "  \n",
    "# opening the zip file in READ mode \n",
    "with ZipFile(file_name, 'r') as zip: \n",
    "    # printing all the contents of the zip file \n",
    "    zip.printdir() \n",
    "  \n",
    "    # extracting all the files \n",
    "    print('Extracting all the files now...') \n",
    "    zip.extractall('/Users/zatoichi59/Desktop/troll_tweets') \n",
    "    print('Done!')\n",
    "\n"
   ]
  },
  {
   "cell_type": "code",
   "execution_count": 12,
   "metadata": {},
   "outputs": [
    {
     "name": "stdout",
     "output_type": "stream",
     "text": [
      "Location of my Insurance Folder:  /Users/zatoichi59/Desktop/troll_tweets01\n",
      "-------------------------------\n",
      "Files in Insurance Folder: \n",
      " ['IRAhandle_tweets_1.csv', 'IRAhandle_tweets_2.csv', 'IRAhandle_tweets_3.csv', 'IRAhandle_tweets_4.csv', 'IRAhandle_tweets_5.csv', 'IRAhandle_tweets_6.csv', 'IRAhandle_tweets_7.csv', 'IRAhandle_tweets_8.csv', 'IRAhandle_tweets_9.csv', 'russian-troll-tweets.zip']\n"
     ]
    }
   ],
   "source": [
    "print('Location of my Insurance Folder: ',os_dir_search(troll_tweets_[0]))\n",
    "print('-------------------------------')\n",
    "print('Files in Insurance Folder: \\n',os.listdir(os_dir_search(troll_tweets_[0])))"
   ]
  },
  {
   "cell_type": "code",
   "execution_count": 13,
   "metadata": {},
   "outputs": [],
   "source": [
    "# combine the files into a list\n",
    "\n",
    "my_dir=os_dir_search(troll_tweets_[0])\n",
    "trolls_=[]\n",
    "for file in os.listdir(my_dir):\n",
    "    trolls_.append(file)\n",
    "\n",
    "# pd.read_csv(trolls_[2]).head()"
   ]
  },
  {
   "cell_type": "code",
   "execution_count": 14,
   "metadata": {},
   "outputs": [],
   "source": [
    "# Create DF from each file:\n",
    "\n",
    "k=[]\n",
    "for i in trolls_[:-1]: # last file is .zip exclude it\n",
    "    # read each csv into DF\n",
    "    kaggle_tweets=pd.read_csv(os_dir_search(troll_tweets_[0])+'/'+str(i))\n",
    "    # save all DF's into list\n",
    "    k.append(kaggle_tweets)\n"
   ]
  },
  {
   "cell_type": "code",
   "execution_count": 15,
   "metadata": {},
   "outputs": [
    {
     "data": {
      "text/html": [
       "<div>\n",
       "<style scoped>\n",
       "    .dataframe tbody tr th:only-of-type {\n",
       "        vertical-align: middle;\n",
       "    }\n",
       "\n",
       "    .dataframe tbody tr th {\n",
       "        vertical-align: top;\n",
       "    }\n",
       "\n",
       "    .dataframe thead th {\n",
       "        text-align: right;\n",
       "    }\n",
       "</style>\n",
       "<table border=\"1\" class=\"dataframe\">\n",
       "  <thead>\n",
       "    <tr style=\"text-align: right;\">\n",
       "      <th></th>\n",
       "      <th>external_author_id</th>\n",
       "      <th>author</th>\n",
       "      <th>content</th>\n",
       "      <th>region</th>\n",
       "      <th>language</th>\n",
       "      <th>publish_date</th>\n",
       "      <th>harvested_date</th>\n",
       "      <th>following</th>\n",
       "      <th>followers</th>\n",
       "      <th>updates</th>\n",
       "      <th>post_type</th>\n",
       "      <th>account_type</th>\n",
       "      <th>new_june_2018</th>\n",
       "      <th>retweet</th>\n",
       "      <th>account_category</th>\n",
       "    </tr>\n",
       "  </thead>\n",
       "  <tbody>\n",
       "    <tr>\n",
       "      <th>2973366</th>\n",
       "      <td>3.093874e+09</td>\n",
       "      <td>_YOUR_LIFESTYLE</td>\n",
       "      <td>Санкционный пинг-понг http://t.co/Jz06cndR8q</td>\n",
       "      <td>Unknown</td>\n",
       "      <td>Uzbek</td>\n",
       "      <td>9/7/2015 1:31</td>\n",
       "      <td>9/7/2015 1:31</td>\n",
       "      <td>60</td>\n",
       "      <td>4</td>\n",
       "      <td>412</td>\n",
       "      <td>NaN</td>\n",
       "      <td>Russian</td>\n",
       "      <td>0</td>\n",
       "      <td>0</td>\n",
       "      <td>NonEnglish</td>\n",
       "    </tr>\n",
       "    <tr>\n",
       "      <th>2973367</th>\n",
       "      <td>3.093874e+09</td>\n",
       "      <td>_YOUR_LIFESTYLE</td>\n",
       "      <td>Горизонтальный кальян NanoSmoke http://t.co/rL...</td>\n",
       "      <td>Unknown</td>\n",
       "      <td>Russian</td>\n",
       "      <td>9/8/2015 14:49</td>\n",
       "      <td>9/8/2015 14:49</td>\n",
       "      <td>60</td>\n",
       "      <td>4</td>\n",
       "      <td>416</td>\n",
       "      <td>NaN</td>\n",
       "      <td>Russian</td>\n",
       "      <td>0</td>\n",
       "      <td>0</td>\n",
       "      <td>NonEnglish</td>\n",
       "    </tr>\n",
       "    <tr>\n",
       "      <th>2973368</th>\n",
       "      <td>3.093874e+09</td>\n",
       "      <td>_YOUR_LIFESTYLE</td>\n",
       "      <td>Фотограф Kai-Hendrik Schroeder http://t.co/q0x...</td>\n",
       "      <td>Unknown</td>\n",
       "      <td>Russian</td>\n",
       "      <td>9/9/2015 18:52</td>\n",
       "      <td>9/9/2015 18:52</td>\n",
       "      <td>60</td>\n",
       "      <td>4</td>\n",
       "      <td>418</td>\n",
       "      <td>NaN</td>\n",
       "      <td>Russian</td>\n",
       "      <td>0</td>\n",
       "      <td>0</td>\n",
       "      <td>NonEnglish</td>\n",
       "    </tr>\n",
       "    <tr>\n",
       "      <th>2973369</th>\n",
       "      <td>3.093874e+09</td>\n",
       "      <td>_YOUR_LIFESTYLE</td>\n",
       "      <td>К чему стремится компания Netflix (США) http:/...</td>\n",
       "      <td>Unknown</td>\n",
       "      <td>Russian</td>\n",
       "      <td>9/9/2015 22:26</td>\n",
       "      <td>9/9/2015 22:27</td>\n",
       "      <td>60</td>\n",
       "      <td>4</td>\n",
       "      <td>419</td>\n",
       "      <td>NaN</td>\n",
       "      <td>Russian</td>\n",
       "      <td>0</td>\n",
       "      <td>0</td>\n",
       "      <td>NonEnglish</td>\n",
       "    </tr>\n",
       "    <tr>\n",
       "      <th>2973370</th>\n",
       "      <td>3.093874e+09</td>\n",
       "      <td>_YOUR_LIFESTYLE</td>\n",
       "      <td>В Петербурге появилось вегетарианское кафе в к...</td>\n",
       "      <td>Unknown</td>\n",
       "      <td>Russian</td>\n",
       "      <td>9/9/2015 8:17</td>\n",
       "      <td>9/9/2015 8:17</td>\n",
       "      <td>60</td>\n",
       "      <td>4</td>\n",
       "      <td>417</td>\n",
       "      <td>NaN</td>\n",
       "      <td>Russian</td>\n",
       "      <td>0</td>\n",
       "      <td>0</td>\n",
       "      <td>NonEnglish</td>\n",
       "    </tr>\n",
       "  </tbody>\n",
       "</table>\n",
       "</div>"
      ],
      "text/plain": [
       "         external_author_id           author  \\\n",
       "2973366        3.093874e+09  _YOUR_LIFESTYLE   \n",
       "2973367        3.093874e+09  _YOUR_LIFESTYLE   \n",
       "2973368        3.093874e+09  _YOUR_LIFESTYLE   \n",
       "2973369        3.093874e+09  _YOUR_LIFESTYLE   \n",
       "2973370        3.093874e+09  _YOUR_LIFESTYLE   \n",
       "\n",
       "                                                   content   region language  \\\n",
       "2973366       Санкционный пинг-понг http://t.co/Jz06cndR8q  Unknown    Uzbek   \n",
       "2973367  Горизонтальный кальян NanoSmoke http://t.co/rL...  Unknown  Russian   \n",
       "2973368  Фотограф Kai-Hendrik Schroeder http://t.co/q0x...  Unknown  Russian   \n",
       "2973369  К чему стремится компания Netflix (США) http:/...  Unknown  Russian   \n",
       "2973370  В Петербурге появилось вегетарианское кафе в к...  Unknown  Russian   \n",
       "\n",
       "           publish_date  harvested_date  following  followers  updates  \\\n",
       "2973366   9/7/2015 1:31   9/7/2015 1:31         60          4      412   \n",
       "2973367  9/8/2015 14:49  9/8/2015 14:49         60          4      416   \n",
       "2973368  9/9/2015 18:52  9/9/2015 18:52         60          4      418   \n",
       "2973369  9/9/2015 22:26  9/9/2015 22:27         60          4      419   \n",
       "2973370   9/9/2015 8:17   9/9/2015 8:17         60          4      417   \n",
       "\n",
       "        post_type account_type  new_june_2018  retweet account_category  \n",
       "2973366       NaN      Russian              0        0       NonEnglish  \n",
       "2973367       NaN      Russian              0        0       NonEnglish  \n",
       "2973368       NaN      Russian              0        0       NonEnglish  \n",
       "2973369       NaN      Russian              0        0       NonEnglish  \n",
       "2973370       NaN      Russian              0        0       NonEnglish  "
      ]
     },
     "execution_count": 15,
     "metadata": {},
     "output_type": "execute_result"
    }
   ],
   "source": [
    "# Almost 3 Million Troll Tweets, combined from 9 files:\n",
    "\n",
    "mega_troll_df=pd.concat(k,axis=0,ignore_index=True)\n",
    "\n",
    "mega_troll_df.tail()"
   ]
  },
  {
   "cell_type": "code",
   "execution_count": 16,
   "metadata": {},
   "outputs": [
    {
     "data": {
      "text/plain": [
       "Index(['external_author_id', 'author', 'content', 'region', 'language',\n",
       "       'publish_date', 'harvested_date', 'following', 'followers', 'updates',\n",
       "       'post_type', 'account_type', 'new_june_2018', 'retweet',\n",
       "       'account_category'],\n",
       "      dtype='object')"
      ]
     },
     "execution_count": 16,
     "metadata": {},
     "output_type": "execute_result"
    }
   ],
   "source": [
    "mega_troll_df.columns"
   ]
  },
  {
   "cell_type": "code",
   "execution_count": 17,
   "metadata": {},
   "outputs": [
    {
     "data": {
      "text/plain": [
       "post_type             1662425\n",
       "region                   8843\n",
       "account_type              363\n",
       "external_author_id          4\n",
       "content                     1\n",
       "account_category            0\n",
       "retweet                     0\n",
       "new_june_2018               0\n",
       "updates                     0\n",
       "followers                   0\n",
       "following                   0\n",
       "harvested_date              0\n",
       "publish_date                0\n",
       "language                    0\n",
       "author                      0\n",
       "dtype: int64"
      ]
     },
     "execution_count": 17,
     "metadata": {},
     "output_type": "execute_result"
    }
   ],
   "source": [
    "# Check for NA's\n",
    "\n",
    "mega_troll_df.isna().sum().sort_values(ascending=False)"
   ]
  },
  {
   "cell_type": "code",
   "execution_count": 18,
   "metadata": {},
   "outputs": [
    {
     "data": {
      "text/plain": [
       "array(['Right', 'Russian', 'Koch', 'Italian', 'left', '?', 'German',\n",
       "       'Spanish', 'Hashtager', 'Arabic', 'local', 'Commercial', 'French',\n",
       "       'Ukranian', 'ZAPOROSHIA', 'news', 'right', 'Uzbek', 'Ebola ', nan,\n",
       "       'Portuguese'], dtype=object)"
      ]
     },
     "execution_count": 18,
     "metadata": {},
     "output_type": "execute_result"
    }
   ],
   "source": [
    "mega_troll_df['account_type'].unique()"
   ]
  },
  {
   "cell_type": "code",
   "execution_count": 19,
   "metadata": {},
   "outputs": [
    {
     "data": {
      "text/plain": [
       "array([nan, 'RETWEET', 'QUOTE_TWEET'], dtype=object)"
      ]
     },
     "execution_count": 19,
     "metadata": {},
     "output_type": "execute_result"
    }
   ],
   "source": [
    "mega_troll_df['post_type'].unique()"
   ]
  },
  {
   "cell_type": "code",
   "execution_count": 20,
   "metadata": {},
   "outputs": [
    {
     "data": {
      "text/plain": [
       "array(['Unknown', nan, 'United States', 'Italy', 'United Arab Emirates',\n",
       "       'Japan', 'Israel', 'Azerbaijan', 'Egypt', 'United Kingdom',\n",
       "       'Russian Federation', 'Turkey', 'Iraq', 'Germany', 'France',\n",
       "       'Ukraine', 'Serbia', 'Hong Kong', 'Austria', 'Belarus', 'Malaysia',\n",
       "       'Spain', 'Samoa', 'India', 'Afghanistan', 'Saudi Arabia',\n",
       "       'Iran, Islamic Republic of', 'Mexico', 'Canada', 'Greece',\n",
       "       'Czech Republic', 'Finland', 'Latvia', 'Estonia', 'Sweden',\n",
       "       'Denmark', 'Switzerland'], dtype=object)"
      ]
     },
     "execution_count": 20,
     "metadata": {},
     "output_type": "execute_result"
    }
   ],
   "source": [
    "mega_troll_df['region'].unique()"
   ]
  },
  {
   "cell_type": "code",
   "execution_count": 21,
   "metadata": {},
   "outputs": [
    {
     "data": {
      "text/plain": [
       "United States           2055882\n",
       "Unknown                  572767\n",
       "Azerbaijan               100755\n",
       "United Arab Emirates      74908\n",
       "Russian Federation        37637\n",
       "Belarus                   29619\n",
       "Germany                   27192\n",
       "United Kingdom            18062\n",
       "Italy                     13494\n",
       "Iraq                      11219\n",
       "Name: region, dtype: int64"
      ]
     },
     "execution_count": 21,
     "metadata": {},
     "output_type": "execute_result"
    }
   ],
   "source": [
    "mega_troll_df['region'].value_counts()[:10]"
   ]
  },
  {
   "cell_type": "code",
   "execution_count": 22,
   "metadata": {},
   "outputs": [
    {
     "data": {
      "text/plain": [
       "Russian       721191\n",
       "Right         718619\n",
       "local         460197\n",
       "left          427811\n",
       "Hashtager     241827\n",
       "news          139097\n",
       "Commercial    122582\n",
       "German         91851\n",
       "Italian        15899\n",
       "?              13542\n",
       "Name: account_type, dtype: int64"
      ]
     },
     "execution_count": 22,
     "metadata": {},
     "output_type": "execute_result"
    }
   ],
   "source": [
    "mega_troll_df['account_type'].value_counts()[:10]"
   ]
  },
  {
   "cell_type": "code",
   "execution_count": 23,
   "metadata": {},
   "outputs": [
    {
     "data": {
      "text/plain": [
       "English               2128963\n",
       "Russian                624124\n",
       "German                  87171\n",
       "Ukrainian               39361\n",
       "Italian                 18254\n",
       "Serbian                  9615\n",
       "Uzbek                    9491\n",
       "Bulgarian                9458\n",
       "LANGUAGE UNDEFINED       8325\n",
       "Arabic                   7595\n",
       "Name: language, dtype: int64"
      ]
     },
     "execution_count": 23,
     "metadata": {},
     "output_type": "execute_result"
    }
   ],
   "source": [
    "mega_troll_df['language'].value_counts()[:10]\n",
    "\n",
    "\n",
    "# .value_count(normalize=True) if you want proportions"
   ]
  },
  {
   "cell_type": "code",
   "execution_count": 24,
   "metadata": {},
   "outputs": [
    {
     "data": {
      "text/plain": [
       "EXQUOTE            59652\n",
       "SCREAMYMONKEY      44041\n",
       "WORLDNEWSPOLI      36974\n",
       "AMELIEBALDWIN      35371\n",
       "TODAYPITTSBURGH    33602\n",
       "SPECIALAFFAIR      32588\n",
       "SEATTLE_POST       30800\n",
       "FINDDIET           29038\n",
       "KANSASDAILYNEWS    28890\n",
       "ROOMOFRUMOR        28360\n",
       "DAILYSANFRAN       28076\n",
       "WORLDOFHASHTAGS    23724\n",
       "COVFEFENATIONUS    23544\n",
       "POLITICS_T0DAY     23034\n",
       "RIAFANRU           22886\n",
       "JENN_ABRAMS        22861\n",
       "CHICAGODAILYNEW    22236\n",
       "FUNDDIET           20192\n",
       "BERLINBOTE         19748\n",
       "CHESPLAYSCHESS     19216\n",
       "Name: author, dtype: int64"
      ]
     },
     "execution_count": 24,
     "metadata": {},
     "output_type": "execute_result"
    }
   ],
   "source": [
    "mega_troll_df['author'].value_counts()[:20]\n",
    "\n",
    "# .plot(kind='bar') if you want to visualize"
   ]
  },
  {
   "cell_type": "markdown",
   "metadata": {},
   "source": [
    "# `Start Cleaning:`"
   ]
  },
  {
   "cell_type": "code",
   "execution_count": 25,
   "metadata": {},
   "outputs": [],
   "source": [
    "# there were a large number of nan's needing to be replaced:\n",
    "mega_troll_df['post_type'].fillna(value='Other_Tweet',\n",
    "                                        inplace = True)\n",
    "\n",
    "mega_troll_df['region'].fillna(value='Unknown',\n",
    "                                            inplace = True)\n",
    "\n",
    "mega_troll_df['account_type']=mega_troll_df['account_type'].\\\n",
    "replace('?','Unknown')\n",
    "\n",
    "\n",
    "mega_troll_df['account_type'].fillna(value='Unknown',\n",
    "                                            inplace = True)"
   ]
  },
  {
   "cell_type": "code",
   "execution_count": 26,
   "metadata": {},
   "outputs": [
    {
     "data": {
      "text/plain": [
       "array(['Right', 'Russian', 'Koch', 'Italian', 'left', 'Unknown', 'German',\n",
       "       'Spanish', 'Hashtager', 'Arabic', 'local', 'Commercial', 'French',\n",
       "       'Ukranian', 'ZAPOROSHIA', 'news', 'right', 'Uzbek', 'Ebola ',\n",
       "       'Portuguese'], dtype=object)"
      ]
     },
     "execution_count": 26,
     "metadata": {},
     "output_type": "execute_result"
    }
   ],
   "source": [
    "mega_troll_df['account_type'].unique()"
   ]
  },
  {
   "cell_type": "code",
   "execution_count": 27,
   "metadata": {},
   "outputs": [
    {
     "data": {
      "text/plain": [
       "external_author_id    4\n",
       "content               1\n",
       "account_category      0\n",
       "retweet               0\n",
       "new_june_2018         0\n",
       "account_type          0\n",
       "post_type             0\n",
       "updates               0\n",
       "followers             0\n",
       "following             0\n",
       "harvested_date        0\n",
       "publish_date          0\n",
       "language              0\n",
       "region                0\n",
       "author                0\n",
       "dtype: int64"
      ]
     },
     "execution_count": 27,
     "metadata": {},
     "output_type": "execute_result"
    }
   ],
   "source": [
    "mega_troll_df.isna().sum().sort_values(ascending=False)"
   ]
  },
  {
   "cell_type": "code",
   "execution_count": 28,
   "metadata": {},
   "outputs": [],
   "source": [
    "# Let's Investigate the Nan values for each of the columns:\n",
    "\n",
    "# we will drop this useless row:\n",
    "mega_troll_df[mega_troll_df.loc[:,'content'].isna()==True]\n",
    "\n",
    "row_to_drop=mega_troll_df[mega_troll_df.loc[:,'content'].\\\n",
    "                          isna()==True].index[0]\n",
    "\n",
    "mega_troll_df.drop(row_to_drop,axis='index',inplace=True)"
   ]
  },
  {
   "cell_type": "code",
   "execution_count": 29,
   "metadata": {},
   "outputs": [
    {
     "data": {
      "text/html": [
       "<div>\n",
       "<style scoped>\n",
       "    .dataframe tbody tr th:only-of-type {\n",
       "        vertical-align: middle;\n",
       "    }\n",
       "\n",
       "    .dataframe tbody tr th {\n",
       "        vertical-align: top;\n",
       "    }\n",
       "\n",
       "    .dataframe thead th {\n",
       "        text-align: right;\n",
       "    }\n",
       "</style>\n",
       "<table border=\"1\" class=\"dataframe\">\n",
       "  <thead>\n",
       "    <tr style=\"text-align: right;\">\n",
       "      <th></th>\n",
       "      <th>external_author_id</th>\n",
       "      <th>author</th>\n",
       "      <th>content</th>\n",
       "      <th>region</th>\n",
       "      <th>language</th>\n",
       "      <th>publish_date</th>\n",
       "      <th>harvested_date</th>\n",
       "      <th>following</th>\n",
       "      <th>followers</th>\n",
       "      <th>updates</th>\n",
       "      <th>post_type</th>\n",
       "      <th>account_type</th>\n",
       "      <th>new_june_2018</th>\n",
       "      <th>retweet</th>\n",
       "      <th>account_category</th>\n",
       "    </tr>\n",
       "  </thead>\n",
       "  <tbody>\n",
       "    <tr>\n",
       "      <th>1095528</th>\n",
       "      <td>NaN</td>\n",
       "      <td>FINDDIET</td>\n",
       "      <td>muvva @__SlaYonce Marissa @marissafabrizi_ Taw...</td>\n",
       "      <td>United States</td>\n",
       "      <td>LANGUAGE UNDEFINED</td>\n",
       "      <td>8/12/2015 11:04</td>\n",
       "      <td>8/12/2015 11:12</td>\n",
       "      <td>3</td>\n",
       "      <td>308</td>\n",
       "      <td>29699</td>\n",
       "      <td>Other_Tweet</td>\n",
       "      <td>Commercial</td>\n",
       "      <td>1</td>\n",
       "      <td>0</td>\n",
       "      <td>Commercial</td>\n",
       "    </tr>\n",
       "    <tr>\n",
       "      <th>1096572</th>\n",
       "      <td>NaN</td>\n",
       "      <td>FINDDIET</td>\n",
       "      <td>http://t.co/MKzEwWBPwr Toe @hongtony22 ժɑɾíɑղ ...</td>\n",
       "      <td>United States</td>\n",
       "      <td>LANGUAGE UNDEFINED</td>\n",
       "      <td>8/12/2015 23:08</td>\n",
       "      <td>8/12/2015 23:08</td>\n",
       "      <td>3</td>\n",
       "      <td>331</td>\n",
       "      <td>30648</td>\n",
       "      <td>Other_Tweet</td>\n",
       "      <td>Commercial</td>\n",
       "      <td>1</td>\n",
       "      <td>0</td>\n",
       "      <td>Commercial</td>\n",
       "    </tr>\n",
       "    <tr>\n",
       "      <th>1097335</th>\n",
       "      <td>NaN</td>\n",
       "      <td>FINDDIET</td>\n",
       "      <td>http://t.co/wFGUVzURSM Jay .@Jay_zo Nina .@xxo...</td>\n",
       "      <td>United States</td>\n",
       "      <td>LANGUAGE UNDEFINED</td>\n",
       "      <td>8/13/2015 0:18</td>\n",
       "      <td>8/13/2015 0:19</td>\n",
       "      <td>3</td>\n",
       "      <td>334</td>\n",
       "      <td>30756</td>\n",
       "      <td>Other_Tweet</td>\n",
       "      <td>Commercial</td>\n",
       "      <td>1</td>\n",
       "      <td>0</td>\n",
       "      <td>Commercial</td>\n",
       "    </tr>\n",
       "    <tr>\n",
       "      <th>1098750</th>\n",
       "      <td>NaN</td>\n",
       "      <td>FINDDIET</td>\n",
       "      <td>http://t.co/U4DFGCaSEF Davi_hoops @comiclyfe_1...</td>\n",
       "      <td>United States</td>\n",
       "      <td>LANGUAGE UNDEFINED</td>\n",
       "      <td>8/13/2015 6:27</td>\n",
       "      <td>8/13/2015 6:27</td>\n",
       "      <td>3</td>\n",
       "      <td>350</td>\n",
       "      <td>31267</td>\n",
       "      <td>Other_Tweet</td>\n",
       "      <td>Commercial</td>\n",
       "      <td>1</td>\n",
       "      <td>0</td>\n",
       "      <td>Commercial</td>\n",
       "    </tr>\n",
       "  </tbody>\n",
       "</table>\n",
       "</div>"
      ],
      "text/plain": [
       "         external_author_id    author  \\\n",
       "1095528                 NaN  FINDDIET   \n",
       "1096572                 NaN  FINDDIET   \n",
       "1097335                 NaN  FINDDIET   \n",
       "1098750                 NaN  FINDDIET   \n",
       "\n",
       "                                                   content         region  \\\n",
       "1095528  muvva @__SlaYonce Marissa @marissafabrizi_ Taw...  United States   \n",
       "1096572  http://t.co/MKzEwWBPwr Toe @hongtony22 ժɑɾíɑղ ...  United States   \n",
       "1097335  http://t.co/wFGUVzURSM Jay .@Jay_zo Nina .@xxo...  United States   \n",
       "1098750  http://t.co/U4DFGCaSEF Davi_hoops @comiclyfe_1...  United States   \n",
       "\n",
       "                   language     publish_date   harvested_date  following  \\\n",
       "1095528  LANGUAGE UNDEFINED  8/12/2015 11:04  8/12/2015 11:12          3   \n",
       "1096572  LANGUAGE UNDEFINED  8/12/2015 23:08  8/12/2015 23:08          3   \n",
       "1097335  LANGUAGE UNDEFINED   8/13/2015 0:18   8/13/2015 0:19          3   \n",
       "1098750  LANGUAGE UNDEFINED   8/13/2015 6:27   8/13/2015 6:27          3   \n",
       "\n",
       "         followers  updates    post_type account_type  new_june_2018  retweet  \\\n",
       "1095528        308    29699  Other_Tweet   Commercial              1        0   \n",
       "1096572        331    30648  Other_Tweet   Commercial              1        0   \n",
       "1097335        334    30756  Other_Tweet   Commercial              1        0   \n",
       "1098750        350    31267  Other_Tweet   Commercial              1        0   \n",
       "\n",
       "        account_category  \n",
       "1095528       Commercial  \n",
       "1096572       Commercial  \n",
       "1097335       Commercial  \n",
       "1098750       Commercial  "
      ]
     },
     "execution_count": 29,
     "metadata": {},
     "output_type": "execute_result"
    }
   ],
   "source": [
    "# when you investigate the external_author_id: but we will \n",
    "# remove this columns!\n",
    "mega_troll_df[mega_troll_df.loc[:,'external_author_id'].isna()==True]\n"
   ]
  },
  {
   "cell_type": "code",
   "execution_count": 30,
   "metadata": {},
   "outputs": [
    {
     "data": {
      "text/html": [
       "<div>\n",
       "<style scoped>\n",
       "    .dataframe tbody tr th:only-of-type {\n",
       "        vertical-align: middle;\n",
       "    }\n",
       "\n",
       "    .dataframe tbody tr th {\n",
       "        vertical-align: top;\n",
       "    }\n",
       "\n",
       "    .dataframe thead th {\n",
       "        text-align: right;\n",
       "    }\n",
       "</style>\n",
       "<table border=\"1\" class=\"dataframe\">\n",
       "  <thead>\n",
       "    <tr style=\"text-align: right;\">\n",
       "      <th></th>\n",
       "      <th>author</th>\n",
       "      <th>content</th>\n",
       "      <th>region</th>\n",
       "      <th>language</th>\n",
       "      <th>publish_date</th>\n",
       "      <th>following</th>\n",
       "      <th>followers</th>\n",
       "      <th>updates</th>\n",
       "      <th>post_type</th>\n",
       "      <th>account_type</th>\n",
       "      <th>retweet</th>\n",
       "      <th>account_category</th>\n",
       "    </tr>\n",
       "  </thead>\n",
       "  <tbody>\n",
       "    <tr>\n",
       "      <th>0</th>\n",
       "      <td>10_GOP</td>\n",
       "      <td>\"We have a sitting Democrat US Senator on tria...</td>\n",
       "      <td>Unknown</td>\n",
       "      <td>English</td>\n",
       "      <td>10/1/2017 19:58</td>\n",
       "      <td>1052</td>\n",
       "      <td>9636</td>\n",
       "      <td>253</td>\n",
       "      <td>Other_Tweet</td>\n",
       "      <td>Right</td>\n",
       "      <td>0</td>\n",
       "      <td>RightTroll</td>\n",
       "    </tr>\n",
       "    <tr>\n",
       "      <th>1</th>\n",
       "      <td>10_GOP</td>\n",
       "      <td>Marshawn Lynch arrives to game in anti-Trump s...</td>\n",
       "      <td>Unknown</td>\n",
       "      <td>English</td>\n",
       "      <td>10/1/2017 22:43</td>\n",
       "      <td>1054</td>\n",
       "      <td>9637</td>\n",
       "      <td>254</td>\n",
       "      <td>Other_Tweet</td>\n",
       "      <td>Right</td>\n",
       "      <td>0</td>\n",
       "      <td>RightTroll</td>\n",
       "    </tr>\n",
       "    <tr>\n",
       "      <th>2</th>\n",
       "      <td>10_GOP</td>\n",
       "      <td>Daughter of fallen Navy Sailor delivers powerf...</td>\n",
       "      <td>Unknown</td>\n",
       "      <td>English</td>\n",
       "      <td>10/1/2017 22:50</td>\n",
       "      <td>1054</td>\n",
       "      <td>9637</td>\n",
       "      <td>255</td>\n",
       "      <td>RETWEET</td>\n",
       "      <td>Right</td>\n",
       "      <td>1</td>\n",
       "      <td>RightTroll</td>\n",
       "    </tr>\n",
       "    <tr>\n",
       "      <th>3</th>\n",
       "      <td>10_GOP</td>\n",
       "      <td>JUST IN: President Trump dedicates Presidents ...</td>\n",
       "      <td>Unknown</td>\n",
       "      <td>English</td>\n",
       "      <td>10/1/2017 23:52</td>\n",
       "      <td>1062</td>\n",
       "      <td>9642</td>\n",
       "      <td>256</td>\n",
       "      <td>Other_Tweet</td>\n",
       "      <td>Right</td>\n",
       "      <td>0</td>\n",
       "      <td>RightTroll</td>\n",
       "    </tr>\n",
       "    <tr>\n",
       "      <th>4</th>\n",
       "      <td>10_GOP</td>\n",
       "      <td>19,000 RESPECTING our National Anthem! #StandF...</td>\n",
       "      <td>Unknown</td>\n",
       "      <td>English</td>\n",
       "      <td>10/1/2017 2:13</td>\n",
       "      <td>1050</td>\n",
       "      <td>9645</td>\n",
       "      <td>246</td>\n",
       "      <td>RETWEET</td>\n",
       "      <td>Right</td>\n",
       "      <td>1</td>\n",
       "      <td>RightTroll</td>\n",
       "    </tr>\n",
       "  </tbody>\n",
       "</table>\n",
       "</div>"
      ],
      "text/plain": [
       "   author                                            content   region  \\\n",
       "0  10_GOP  \"We have a sitting Democrat US Senator on tria...  Unknown   \n",
       "1  10_GOP  Marshawn Lynch arrives to game in anti-Trump s...  Unknown   \n",
       "2  10_GOP  Daughter of fallen Navy Sailor delivers powerf...  Unknown   \n",
       "3  10_GOP  JUST IN: President Trump dedicates Presidents ...  Unknown   \n",
       "4  10_GOP  19,000 RESPECTING our National Anthem! #StandF...  Unknown   \n",
       "\n",
       "  language     publish_date  following  followers  updates    post_type  \\\n",
       "0  English  10/1/2017 19:58       1052       9636      253  Other_Tweet   \n",
       "1  English  10/1/2017 22:43       1054       9637      254  Other_Tweet   \n",
       "2  English  10/1/2017 22:50       1054       9637      255      RETWEET   \n",
       "3  English  10/1/2017 23:52       1062       9642      256  Other_Tweet   \n",
       "4  English   10/1/2017 2:13       1050       9645      246      RETWEET   \n",
       "\n",
       "  account_type  retweet account_category  \n",
       "0        Right        0       RightTroll  \n",
       "1        Right        0       RightTroll  \n",
       "2        Right        1       RightTroll  \n",
       "3        Right        0       RightTroll  \n",
       "4        Right        1       RightTroll  "
      ]
     },
     "execution_count": 30,
     "metadata": {},
     "output_type": "execute_result"
    }
   ],
   "source": [
    "# remove useless columns:\n",
    "\n",
    "mega_troll_df=mega_troll_df.drop(['external_author_id',\n",
    "                    'harvested_date','new_june_2018'],axis=1)\n",
    "mega_troll_df.head()"
   ]
  },
  {
   "cell_type": "markdown",
   "metadata": {},
   "source": [
    "# `Start Cleaning Text: Remove Http(s) and replace with empty space`\n",
    "\n",
    "+ these links are an issue:\n",
    "    + They can link to bad webpages, spam, or naughty places\n",
    "    + They are useless for NLP and create useless info"
   ]
  },
  {
   "cell_type": "code",
   "execution_count": 31,
   "metadata": {},
   "outputs": [
    {
     "data": {
      "text/plain": [
       "2973370"
      ]
     },
     "execution_count": 31,
     "metadata": {},
     "output_type": "execute_result"
    }
   ],
   "source": [
    "import re\n",
    "\n",
    "text_wo_http=[]\n",
    "for i in mega_troll_df['content']:\n",
    "    re_pattern=r'\\b(?:http).+\\b'\n",
    "    re_p=r'http\\S+'\n",
    "    if type(i)==str and re.findall(re_pattern,i):\n",
    "        text_wo_http.append(re.sub(re_p,'',i))\n",
    "    else:\n",
    "        text_wo_http.append(i)\n",
    "        \n",
    "len(text_wo_http )"
   ]
  },
  {
   "cell_type": "code",
   "execution_count": 32,
   "metadata": {},
   "outputs": [],
   "source": [
    "mega_troll_df['content without http']=text_wo_http"
   ]
  },
  {
   "cell_type": "code",
   "execution_count": 33,
   "metadata": {},
   "outputs": [
    {
     "data": {
      "text/plain": [
       "Index(['author', 'content', 'region', 'language', 'publish_date', 'following',\n",
       "       'followers', 'updates', 'post_type', 'account_type', 'retweet',\n",
       "       'account_category', 'content without http'],\n",
       "      dtype='object')"
      ]
     },
     "execution_count": 33,
     "metadata": {},
     "output_type": "execute_result"
    }
   ],
   "source": [
    "mega_troll_df.columns"
   ]
  },
  {
   "cell_type": "code",
   "execution_count": 34,
   "metadata": {},
   "outputs": [
    {
     "data": {
      "text/html": [
       "<div>\n",
       "<style scoped>\n",
       "    .dataframe tbody tr th:only-of-type {\n",
       "        vertical-align: middle;\n",
       "    }\n",
       "\n",
       "    .dataframe tbody tr th {\n",
       "        vertical-align: top;\n",
       "    }\n",
       "\n",
       "    .dataframe thead th {\n",
       "        text-align: right;\n",
       "    }\n",
       "</style>\n",
       "<table border=\"1\" class=\"dataframe\">\n",
       "  <thead>\n",
       "    <tr style=\"text-align: right;\">\n",
       "      <th></th>\n",
       "      <th>author</th>\n",
       "      <th>content</th>\n",
       "      <th>region</th>\n",
       "      <th>language</th>\n",
       "      <th>publish_date</th>\n",
       "      <th>following</th>\n",
       "      <th>followers</th>\n",
       "      <th>updates</th>\n",
       "      <th>post_type</th>\n",
       "      <th>account_type</th>\n",
       "      <th>retweet</th>\n",
       "      <th>account_category</th>\n",
       "      <th>content without http</th>\n",
       "    </tr>\n",
       "  </thead>\n",
       "  <tbody>\n",
       "    <tr>\n",
       "      <th>2973364</th>\n",
       "      <td>_YOUR_LIFESTYLE</td>\n",
       "      <td>Художник Шон Йоро http://t.co/S11YeVbFN1</td>\n",
       "      <td>Unknown</td>\n",
       "      <td>Russian</td>\n",
       "      <td>9/7/2015 16:01</td>\n",
       "      <td>60</td>\n",
       "      <td>4</td>\n",
       "      <td>415</td>\n",
       "      <td>Other_Tweet</td>\n",
       "      <td>Russian</td>\n",
       "      <td>0</td>\n",
       "      <td>NonEnglish</td>\n",
       "      <td>Художник Шон Йоро</td>\n",
       "    </tr>\n",
       "    <tr>\n",
       "      <th>2973365</th>\n",
       "      <td>_YOUR_LIFESTYLE</td>\n",
       "      <td>Как путешествовать бесплатно? Спасать черепах ...</td>\n",
       "      <td>Unknown</td>\n",
       "      <td>Russian</td>\n",
       "      <td>9/7/2015 1:31</td>\n",
       "      <td>60</td>\n",
       "      <td>4</td>\n",
       "      <td>413</td>\n",
       "      <td>Other_Tweet</td>\n",
       "      <td>Russian</td>\n",
       "      <td>0</td>\n",
       "      <td>NonEnglish</td>\n",
       "      <td>Как путешествовать бесплатно? Спасать черепах ...</td>\n",
       "    </tr>\n",
       "    <tr>\n",
       "      <th>2973366</th>\n",
       "      <td>_YOUR_LIFESTYLE</td>\n",
       "      <td>Санкционный пинг-понг http://t.co/Jz06cndR8q</td>\n",
       "      <td>Unknown</td>\n",
       "      <td>Uzbek</td>\n",
       "      <td>9/7/2015 1:31</td>\n",
       "      <td>60</td>\n",
       "      <td>4</td>\n",
       "      <td>412</td>\n",
       "      <td>Other_Tweet</td>\n",
       "      <td>Russian</td>\n",
       "      <td>0</td>\n",
       "      <td>NonEnglish</td>\n",
       "      <td>Санкционный пинг-понг</td>\n",
       "    </tr>\n",
       "    <tr>\n",
       "      <th>2973367</th>\n",
       "      <td>_YOUR_LIFESTYLE</td>\n",
       "      <td>Горизонтальный кальян NanoSmoke http://t.co/rL...</td>\n",
       "      <td>Unknown</td>\n",
       "      <td>Russian</td>\n",
       "      <td>9/8/2015 14:49</td>\n",
       "      <td>60</td>\n",
       "      <td>4</td>\n",
       "      <td>416</td>\n",
       "      <td>Other_Tweet</td>\n",
       "      <td>Russian</td>\n",
       "      <td>0</td>\n",
       "      <td>NonEnglish</td>\n",
       "      <td>Горизонтальный кальян NanoSmoke</td>\n",
       "    </tr>\n",
       "    <tr>\n",
       "      <th>2973368</th>\n",
       "      <td>_YOUR_LIFESTYLE</td>\n",
       "      <td>Фотограф Kai-Hendrik Schroeder http://t.co/q0x...</td>\n",
       "      <td>Unknown</td>\n",
       "      <td>Russian</td>\n",
       "      <td>9/9/2015 18:52</td>\n",
       "      <td>60</td>\n",
       "      <td>4</td>\n",
       "      <td>418</td>\n",
       "      <td>Other_Tweet</td>\n",
       "      <td>Russian</td>\n",
       "      <td>0</td>\n",
       "      <td>NonEnglish</td>\n",
       "      <td>Фотограф Kai-Hendrik Schroeder</td>\n",
       "    </tr>\n",
       "    <tr>\n",
       "      <th>2973369</th>\n",
       "      <td>_YOUR_LIFESTYLE</td>\n",
       "      <td>К чему стремится компания Netflix (США) http:/...</td>\n",
       "      <td>Unknown</td>\n",
       "      <td>Russian</td>\n",
       "      <td>9/9/2015 22:26</td>\n",
       "      <td>60</td>\n",
       "      <td>4</td>\n",
       "      <td>419</td>\n",
       "      <td>Other_Tweet</td>\n",
       "      <td>Russian</td>\n",
       "      <td>0</td>\n",
       "      <td>NonEnglish</td>\n",
       "      <td>К чему стремится компания Netflix (США)</td>\n",
       "    </tr>\n",
       "    <tr>\n",
       "      <th>2973370</th>\n",
       "      <td>_YOUR_LIFESTYLE</td>\n",
       "      <td>В Петербурге появилось вегетарианское кафе в к...</td>\n",
       "      <td>Unknown</td>\n",
       "      <td>Russian</td>\n",
       "      <td>9/9/2015 8:17</td>\n",
       "      <td>60</td>\n",
       "      <td>4</td>\n",
       "      <td>417</td>\n",
       "      <td>Other_Tweet</td>\n",
       "      <td>Russian</td>\n",
       "      <td>0</td>\n",
       "      <td>NonEnglish</td>\n",
       "      <td>В Петербурге появилось вегетарианское кафе в к...</td>\n",
       "    </tr>\n",
       "  </tbody>\n",
       "</table>\n",
       "</div>"
      ],
      "text/plain": [
       "                  author                                            content  \\\n",
       "2973364  _YOUR_LIFESTYLE           Художник Шон Йоро http://t.co/S11YeVbFN1   \n",
       "2973365  _YOUR_LIFESTYLE  Как путешествовать бесплатно? Спасать черепах ...   \n",
       "2973366  _YOUR_LIFESTYLE       Санкционный пинг-понг http://t.co/Jz06cndR8q   \n",
       "2973367  _YOUR_LIFESTYLE  Горизонтальный кальян NanoSmoke http://t.co/rL...   \n",
       "2973368  _YOUR_LIFESTYLE  Фотограф Kai-Hendrik Schroeder http://t.co/q0x...   \n",
       "2973369  _YOUR_LIFESTYLE  К чему стремится компания Netflix (США) http:/...   \n",
       "2973370  _YOUR_LIFESTYLE  В Петербурге появилось вегетарианское кафе в к...   \n",
       "\n",
       "          region language    publish_date  following  followers  updates  \\\n",
       "2973364  Unknown  Russian  9/7/2015 16:01         60          4      415   \n",
       "2973365  Unknown  Russian   9/7/2015 1:31         60          4      413   \n",
       "2973366  Unknown    Uzbek   9/7/2015 1:31         60          4      412   \n",
       "2973367  Unknown  Russian  9/8/2015 14:49         60          4      416   \n",
       "2973368  Unknown  Russian  9/9/2015 18:52         60          4      418   \n",
       "2973369  Unknown  Russian  9/9/2015 22:26         60          4      419   \n",
       "2973370  Unknown  Russian   9/9/2015 8:17         60          4      417   \n",
       "\n",
       "           post_type account_type  retweet account_category  \\\n",
       "2973364  Other_Tweet      Russian        0       NonEnglish   \n",
       "2973365  Other_Tweet      Russian        0       NonEnglish   \n",
       "2973366  Other_Tweet      Russian        0       NonEnglish   \n",
       "2973367  Other_Tweet      Russian        0       NonEnglish   \n",
       "2973368  Other_Tweet      Russian        0       NonEnglish   \n",
       "2973369  Other_Tweet      Russian        0       NonEnglish   \n",
       "2973370  Other_Tweet      Russian        0       NonEnglish   \n",
       "\n",
       "                                      content without http  \n",
       "2973364                                 Художник Шон Йоро   \n",
       "2973365  Как путешествовать бесплатно? Спасать черепах ...  \n",
       "2973366                             Санкционный пинг-понг   \n",
       "2973367                   Горизонтальный кальян NanoSmoke   \n",
       "2973368                    Фотограф Kai-Hendrik Schroeder   \n",
       "2973369           К чему стремится компания Netflix (США)   \n",
       "2973370  В Петербурге появилось вегетарианское кафе в к...  "
      ]
     },
     "execution_count": 34,
     "metadata": {},
     "output_type": "execute_result"
    }
   ],
   "source": [
    "# subset columns we will use:\n",
    "\n",
    "mega_troll_df.tail(7)"
   ]
  },
  {
   "cell_type": "markdown",
   "metadata": {},
   "source": [
    "# `There is a lot going with these!`\n",
    "\n",
    "+ We have different languages\n",
    "    + `Googletrans api:` is inconsistent, you will get times where it doesn't even work.\n",
    "    As of *Jan. 5th 2021*. It was NOT working, I downloaded `pip3 install google_trans_new`\n",
    "    + This can work, but if you are using Anaconda, it will not.\n",
    "        + This is because Anaconda doesn't update often I guess.\n",
    "+ If you are in my predicament, I suggest going in a terminal or your favorite IDE and making a script to parse these if you want.\n",
    "    + Understand that you will not be able to ensure that the english will be exactly correction. As of yet, I have seen NO one do analysis with translated data... I will see if I can try."
   ]
  },
  {
   "cell_type": "code",
   "execution_count": 45,
   "metadata": {},
   "outputs": [],
   "source": [
    "# Replace single and double qoutes which are going to mess us up!\n",
    "# this is NOT fast code btw\n",
    "str_repl=[]\n",
    "for i in mega_troll_df['content without http'].values:    \n",
    "    re_pat=r'^\"|\"$'\n",
    "    re_pat2=r\"^'|'$\"\n",
    "#     if type(i)==str and re.findall(re_pat,i):\n",
    "#         str_repl.append(re.sub(r'^\"|\"$', '', i))\n",
    "#         str_repl.append(i.strip('\"'))\n",
    "#     elif type(i)==str and re.findall(re_pat2,i):\n",
    "#         str_repl.append(i.strip(\"'\"))\n",
    "#     else:\n",
    "#     str_repl.append(i.strip('\"').strip(\"'\"))\n",
    "    str_repl.append(i.replace('\"','').replace(\"'\",''))"
   ]
  },
  {
   "cell_type": "code",
   "execution_count": 46,
   "metadata": {},
   "outputs": [
    {
     "data": {
      "text/plain": [
       "['We have a sitting Democrat US Senator on trial for corruption and youve barely heard a peep from the mainstream media. ~ @nedryun ',\n",
       " 'Marshawn Lynch arrives to game in anti-Trump shirt. Judging by his sagging pants the shirt should say Lynch vs. belt ',\n",
       " 'Daughter of fallen Navy Sailor delivers powerful monologue on anthem protests, burns her NFL packers gear.  #BoycottNFL ']"
      ]
     },
     "execution_count": 46,
     "metadata": {},
     "output_type": "execute_result"
    }
   ],
   "source": [
    "str_repl[:3]"
   ]
  },
  {
   "cell_type": "code",
   "execution_count": 48,
   "metadata": {},
   "outputs": [],
   "source": [
    "mega_troll_df['content without http']=str_repl\n",
    "\n",
    "# mega_troll_df.tail()\n",
    "\n",
    "mega_troll_df.to_csv('troll_tweets_vid02.csv')"
   ]
  },
  {
   "cell_type": "markdown",
   "metadata": {},
   "source": [
    "# `Split Data By English & Russian:`"
   ]
  },
  {
   "cell_type": "code",
   "execution_count": null,
   "metadata": {},
   "outputs": [],
   "source": [
    "# ENGLISH:\n",
    "\n",
    "english_tweets=mega_troll_df[mega_troll_df['language']=='English']\n",
    "\n",
    "# Russian\n",
    "\n",
    "Russian_tweets=mega_troll_df[mega_troll_df['language']=='Russian']"
   ]
  },
  {
   "cell_type": "code",
   "execution_count": 206,
   "metadata": {},
   "outputs": [],
   "source": [
    "# Russian_tweets.to_csv('Russian_tweets.csv')"
   ]
  },
  {
   "cell_type": "markdown",
   "metadata": {},
   "source": [
    "# `Translate Tweets to english:`\n",
    "\n",
    "+ I haven't seen this done yet for analysis, but decided it may be useful. I think it may not be needed for some forms of analysis also.\n",
    "\n",
    "**`pip install google_trans_new`**"
   ]
  },
  {
   "cell_type": "markdown",
   "metadata": {},
   "source": [
    "# <font color=red>Like</font>, Share &\n",
    "\n",
    "# <font color=red>SUB</font>scribe\n",
    "\n",
    "**`Help Support The Channel: Patreon @mrfugudatasci`**\n",
    "\n",
    "**`Or Consider: Buy Me A Coffee @mrfugudatasci`**"
   ]
  },
  {
   "cell_type": "markdown",
   "metadata": {},
   "source": [
    "# `Citations & Help:`\n",
    "\n",
    "# ◔̯◔\n",
    "\n",
    "`Kaggle`\n",
    "\n",
    "https://medium.com/@jeff.daniel77/accessing-the-kaggle-com-api-with-jupyter-notebook-on-windows-d6f330bc6953\n",
    "\n",
    "https://github.com/Kaggle/kaggle-api\n",
    "\n",
    "https://technowhisp.com/kaggle-api-python-documentation/\n",
    "\n",
    "https://www.kaggle.com/docs/api#interacting-with-datasets\n",
    "\n",
    "https://www.geeksforgeeks.org/working-zip-files-python/\n",
    "\n",
    "https://medium.com/analytics-vidhya/fetch-data-from-kaggle-with-python-9154a4c610e3\n",
    "\n",
    "https://stackabuse.com/creating-and-deleting-directories-with-python/\n",
    "\n",
    "https://www.kaggle.com/paultimothymooney/exploring-the-kaggle-api\n",
    "\n",
    "https://stackoverflow.com/questions/50836642/i-get-a-bash-command-not-found-when-trying-to-use-the-kaggle-api\n",
    "\n",
    "https://github.com/Kaggle/kaggle-api/issues/29\n",
    "\n",
    "`NLP`\n",
    "\n",
    "https://stackabuse.com/text-translation-with-google-translate-api-in-python/ (translate txt)\n",
    "\n",
    "https://medium.com/analytics-vidhya/how-to-translate-text-with-python-9d203139dcf5 (translation options)\n",
    "\n",
    "\n",
    "`Weird python stuff`\n",
    "\n",
    "https://opensource.com/article/19/5/python-3-default-mac\n",
    "\n",
    "https://stackoverflow.com/questions/11331982/how-to-remove-any-url-within-a-string-in-python"
   ]
  }
 ],
 "metadata": {
  "kernelspec": {
   "display_name": "Python 3",
   "language": "python",
   "name": "python3"
  },
  "language_info": {
   "codemirror_mode": {
    "name": "ipython",
    "version": 3
   },
   "file_extension": ".py",
   "mimetype": "text/x-python",
   "name": "python",
   "nbconvert_exporter": "python",
   "pygments_lexer": "ipython3",
   "version": "3.7.3"
  }
 },
 "nbformat": 4,
 "nbformat_minor": 4
}
