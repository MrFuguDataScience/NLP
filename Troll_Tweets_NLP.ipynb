{
 "cells": [
  {
   "cell_type": "markdown",
   "metadata": {},
   "source": [
    "# `Troll Tweets Using NLP`\n",
    "\n",
    "# <font color=red>Mr Fugu Data Science</font>\n",
    "\n",
    "# (◕‿◕✿)\n",
    "\n",
    "**`Help Support The Channel: Patreon @mrfugudatasci`**\n",
    "\n",
    "**`Or Consider: Buy Me A Coffee @mrfugudatasci`**"
   ]
  },
  {
   "cell_type": "code",
   "execution_count": 4,
   "metadata": {},
   "outputs": [],
   "source": [
    "import pandas as pd\n"
   ]
  },
  {
   "cell_type": "code",
   "execution_count": 1,
   "metadata": {},
   "outputs": [],
   "source": [
    "# Connect to Kaggle Api\n",
    "\n",
    "from kaggle.api.kaggle_api_extended import KaggleApi\n",
    "api = KaggleApi()\n",
    "api.authenticate()"
   ]
  },
  {
   "cell_type": "code",
   "execution_count": 3,
   "metadata": {},
   "outputs": [
    {
     "name": "stdout",
     "output_type": "stream",
     "text": [
      "Warning: Looks like you're using an outdated API Version, please consider updating (server 1.5.10 / client 1.5.4)\n"
     ]
    },
    {
     "data": {
      "text/plain": [
       "[vikasg/russian-troll-tweets,\n",
       " fivethirtyeight/russian-troll-tweets,\n",
       " dataturks/dataset-for-detection-of-cybertrolls,\n",
       " tannergi/microcontroller-detection,\n",
       " kapastor/democratvsrepublicantweets,\n",
       " mohammadqahtani/trolley-dilemma,\n",
       " paultimothymooney/russian-political-influence-campaigns,\n",
       " ixioixi/3-million-russian-troll-tweets-538,\n",
       " kkairu/nbc-russian-troll-tweets,\n",
       " tannergi/microcontroller-segmentation,\n",
       " wadhasnalhamdan/date-fruit-image-dataset-in-controlled-environment,\n",
       " charcoal/controllers,\n",
       " realc9der/datasets-for-controlled-over-fittinghubmap,\n",
       " kani14am/tweets1,\n",
       " hollyhetherington/russian-troll-tweets,\n",
       " omermetinn/tweets-about-the-top-companies-from-2015-to-2020,\n",
       " kishor1123/nnkdataset,\n",
       " aellatif/troll,\n",
       " jnunezp19/microcontroller-detection,\n",
       " dipinpradeep/microcontroller-detection]"
      ]
     },
     "execution_count": 3,
     "metadata": {},
     "output_type": "execute_result"
    }
   ],
   "source": [
    "# all datasets with troll keyword:\n",
    "\n",
    "api.dataset_list(search='Troll')"
   ]
  },
  {
   "cell_type": "code",
   "execution_count": 7,
   "metadata": {},
   "outputs": [
    {
     "data": {
      "text/html": [
       "<div>\n",
       "<style scoped>\n",
       "    .dataframe tbody tr th:only-of-type {\n",
       "        vertical-align: middle;\n",
       "    }\n",
       "\n",
       "    .dataframe tbody tr th {\n",
       "        vertical-align: top;\n",
       "    }\n",
       "\n",
       "    .dataframe thead th {\n",
       "        text-align: right;\n",
       "    }\n",
       "</style>\n",
       "<table border=\"1\" class=\"dataframe\">\n",
       "  <thead>\n",
       "    <tr style=\"text-align: right;\">\n",
       "      <th></th>\n",
       "      <th>id</th>\n",
       "      <th>ref</th>\n",
       "      <th>subtitle</th>\n",
       "      <th>tags</th>\n",
       "      <th>creatorName</th>\n",
       "      <th>creatorUrl</th>\n",
       "      <th>totalBytes</th>\n",
       "      <th>url</th>\n",
       "      <th>lastUpdated</th>\n",
       "      <th>downloadCount</th>\n",
       "      <th>...</th>\n",
       "      <th>ownerRef</th>\n",
       "      <th>kernelCount</th>\n",
       "      <th>title</th>\n",
       "      <th>topicCount</th>\n",
       "      <th>viewCount</th>\n",
       "      <th>voteCount</th>\n",
       "      <th>currentVersionNumber</th>\n",
       "      <th>files</th>\n",
       "      <th>versions</th>\n",
       "      <th>usabilityRating</th>\n",
       "    </tr>\n",
       "  </thead>\n",
       "  <tbody>\n",
       "    <tr>\n",
       "      <th>0</th>\n",
       "      <td>39964</td>\n",
       "      <td>fivethirtyeight/russian-troll-tweets</td>\n",
       "      <td>3 million tweets from accounts associated with...</td>\n",
       "      <td>[{'ref': 'russia', 'competitionCount': 0, 'dat...</td>\n",
       "      <td>Myles O'Neill</td>\n",
       "      <td>mylesoneill</td>\n",
       "      <td>183448163</td>\n",
       "      <td>https://www.kaggle.com/fivethirtyeight/russian...</td>\n",
       "      <td>2018-08-01T09:04:25.733Z</td>\n",
       "      <td>1739</td>\n",
       "      <td>...</td>\n",
       "      <td>fivethirtyeight</td>\n",
       "      <td>11</td>\n",
       "      <td>Russian Troll Tweets</td>\n",
       "      <td>2</td>\n",
       "      <td>18088</td>\n",
       "      <td>87</td>\n",
       "      <td>2</td>\n",
       "      <td>[]</td>\n",
       "      <td>[]</td>\n",
       "      <td>0.705882</td>\n",
       "    </tr>\n",
       "    <tr>\n",
       "      <th>1</th>\n",
       "      <td>40717</td>\n",
       "      <td>paultimothymooney/russian-political-influence-...</td>\n",
       "      <td>Political Propaganda on Facebook - House Intel...</td>\n",
       "      <td>[{'ref': 'united states', 'competitionCount': ...</td>\n",
       "      <td>Paul Mooney</td>\n",
       "      <td>paultimothymooney</td>\n",
       "      <td>0</td>\n",
       "      <td>https://www.kaggle.com/paultimothymooney/russi...</td>\n",
       "      <td>2018-08-03T21:35:48.917Z</td>\n",
       "      <td>858</td>\n",
       "      <td>...</td>\n",
       "      <td>paultimothymooney</td>\n",
       "      <td>3</td>\n",
       "      <td>Internet Research Agency (IRA) Social Media Data</td>\n",
       "      <td>0</td>\n",
       "      <td>14310</td>\n",
       "      <td>32</td>\n",
       "      <td>4</td>\n",
       "      <td>[]</td>\n",
       "      <td>[]</td>\n",
       "      <td>0.750000</td>\n",
       "    </tr>\n",
       "    <tr>\n",
       "      <th>2</th>\n",
       "      <td>39892</td>\n",
       "      <td>ixioixi/3-million-russian-troll-tweets-538</td>\n",
       "      <td>This data was used in the FiveThirtyEight stor...</td>\n",
       "      <td>[{'ref': 'arts and entertainment', 'competitio...</td>\n",
       "      <td>iXiOiXi</td>\n",
       "      <td>ixioixi</td>\n",
       "      <td>183448163</td>\n",
       "      <td>https://www.kaggle.com/ixioixi/3-million-russi...</td>\n",
       "      <td>2018-08-01T01:47:12.597Z</td>\n",
       "      <td>129</td>\n",
       "      <td>...</td>\n",
       "      <td>ixioixi</td>\n",
       "      <td>2</td>\n",
       "      <td>3 Million Russian Troll Tweets (538)</td>\n",
       "      <td>0</td>\n",
       "      <td>1216</td>\n",
       "      <td>5</td>\n",
       "      <td>1</td>\n",
       "      <td>[]</td>\n",
       "      <td>[]</td>\n",
       "      <td>0.470588</td>\n",
       "    </tr>\n",
       "  </tbody>\n",
       "</table>\n",
       "<p>3 rows × 26 columns</p>\n",
       "</div>"
      ],
      "text/plain": [
       "      id                                                ref  \\\n",
       "0  39964               fivethirtyeight/russian-troll-tweets   \n",
       "1  40717  paultimothymooney/russian-political-influence-...   \n",
       "2  39892         ixioixi/3-million-russian-troll-tweets-538   \n",
       "\n",
       "                                            subtitle  \\\n",
       "0  3 million tweets from accounts associated with...   \n",
       "1  Political Propaganda on Facebook - House Intel...   \n",
       "2  This data was used in the FiveThirtyEight stor...   \n",
       "\n",
       "                                                tags    creatorName  \\\n",
       "0  [{'ref': 'russia', 'competitionCount': 0, 'dat...  Myles O'Neill   \n",
       "1  [{'ref': 'united states', 'competitionCount': ...    Paul Mooney   \n",
       "2  [{'ref': 'arts and entertainment', 'competitio...        iXiOiXi   \n",
       "\n",
       "          creatorUrl  totalBytes  \\\n",
       "0        mylesoneill   183448163   \n",
       "1  paultimothymooney           0   \n",
       "2            ixioixi   183448163   \n",
       "\n",
       "                                                 url  \\\n",
       "0  https://www.kaggle.com/fivethirtyeight/russian...   \n",
       "1  https://www.kaggle.com/paultimothymooney/russi...   \n",
       "2  https://www.kaggle.com/ixioixi/3-million-russi...   \n",
       "\n",
       "                lastUpdated  downloadCount  ...           ownerRef  \\\n",
       "0  2018-08-01T09:04:25.733Z           1739  ...    fivethirtyeight   \n",
       "1  2018-08-03T21:35:48.917Z            858  ...  paultimothymooney   \n",
       "2  2018-08-01T01:47:12.597Z            129  ...            ixioixi   \n",
       "\n",
       "   kernelCount                                             title topicCount  \\\n",
       "0           11                              Russian Troll Tweets          2   \n",
       "1            3  Internet Research Agency (IRA) Social Media Data          0   \n",
       "2            2              3 Million Russian Troll Tweets (538)          0   \n",
       "\n",
       "  viewCount voteCount currentVersionNumber  files versions  usabilityRating  \n",
       "0     18088        87                    2     []       []         0.705882  \n",
       "1     14310        32                    4     []       []         0.750000  \n",
       "2      1216         5                    1     []       []         0.470588  \n",
       "\n",
       "[3 rows x 26 columns]"
      ]
     },
     "execution_count": 7,
     "metadata": {},
     "output_type": "execute_result"
    }
   ],
   "source": [
    "pd.DataFrame(api.datasets_list(search='fivethirtyeight/russian-troll-tweets')).tail()"
   ]
  },
  {
   "cell_type": "code",
   "execution_count": 10,
   "metadata": {},
   "outputs": [
    {
     "data": {
      "text/plain": [
       "[IRAhandle_tweets_1.csv,\n",
       " IRAhandle_tweets_9.csv,\n",
       " IRAhandle_tweets_4.csv,\n",
       " IRAhandle_tweets_5.csv,\n",
       " IRAhandle_tweets_3.csv,\n",
       " IRAhandle_tweets_2.csv,\n",
       " IRAhandle_tweets_6.csv,\n",
       " IRAhandle_tweets_8.csv,\n",
       " IRAhandle_tweets_7.csv]"
      ]
     },
     "execution_count": 10,
     "metadata": {},
     "output_type": "execute_result"
    }
   ],
   "source": [
    "# files in this dataset: total of 9 csv\n",
    "api.dataset_list_files('fivethirtyeight/russian-troll-tweets').files"
   ]
  },
  {
   "cell_type": "markdown",
   "metadata": {},
   "source": [
    "# `Create Folder to Store Troll Tweets Data`"
   ]
  },
  {
   "cell_type": "code",
   "execution_count": 11,
   "metadata": {},
   "outputs": [
    {
     "name": "stdout",
     "output_type": "stream",
     "text": [
      "Successfully created the directory /Users/zatoichi59/Desktop/troll_tweets \n"
     ]
    }
   ],
   "source": [
    "import os\n",
    "\n",
    "# define the name of the directory to be created\n",
    "path = os.getcwd()+\"/troll_tweets\"\n",
    "\n",
    "try:\n",
    "    os.mkdir(path)\n",
    "except OSError:\n",
    "    print (\"Creation of the directory %s failed\" % path)\n",
    "else:\n",
    "    print (\"Successfully created the directory %s \" % path)"
   ]
  },
  {
   "cell_type": "markdown",
   "metadata": {},
   "source": [
    "# `Get all of the datasets reflecting our search:`\n",
    "\n",
    "`api.dataset_download_files('file you want',\n",
    "        'location to send file')`\n"
   ]
  },
  {
   "cell_type": "code",
   "execution_count": 15,
   "metadata": {},
   "outputs": [],
   "source": [
    "# Download dataset: you have an 'onwer/file_name'\n",
    "\n",
    "api.dataset_download_files('fivethirtyeight/russian-troll-tweets',\n",
    "        '/Users/zatoichi59/Desktop/troll_tweets')\n",
    "\n",
    "# you can download unzipped as well"
   ]
  },
  {
   "cell_type": "code",
   "execution_count": 16,
   "metadata": {},
   "outputs": [
    {
     "data": {
      "text/plain": [
       "['russian-troll-tweets.zip']"
      ]
     },
     "execution_count": 16,
     "metadata": {},
     "output_type": "execute_result"
    }
   ],
   "source": [
    "# find what is inside the new folder from downloaded data:\n",
    "troll_tweets_=!ls /Users/zatoichi59/Desktop/troll_tweets\n",
    "troll_tweets_"
   ]
  },
  {
   "cell_type": "code",
   "execution_count": 17,
   "metadata": {},
   "outputs": [
    {
     "data": {
      "text/plain": [
       "'/Users/zatoichi59/Desktop/troll_tweets '"
      ]
     },
     "execution_count": 17,
     "metadata": {},
     "output_type": "execute_result"
    }
   ],
   "source": [
    "def os_dir_search(file):\n",
    "    u=[]\n",
    "    for p,n,f in os.walk(os.getcwd()):\n",
    "        \n",
    "        for a in f:\n",
    "            a = str(a)\n",
    "            if a.endswith(file): # can be (.csv) or a file like I did and search \n",
    "#                 print(a)\n",
    "#                 print(p)\n",
    "                t=p\n",
    "    return t\n",
    "\n",
    "os_dir_search(troll_tweets_[0])"
   ]
  },
  {
   "cell_type": "code",
   "execution_count": 18,
   "metadata": {},
   "outputs": [
    {
     "name": "stdout",
     "output_type": "stream",
     "text": [
      "File Name                                             Modified             Size\n",
      "IRAhandle_tweets_1.csv                         2019-10-03 00:12:48     87874842\n",
      "IRAhandle_tweets_2.csv                         2019-10-03 00:12:56     89384804\n",
      "IRAhandle_tweets_3.csv                         2019-10-03 00:13:02     87696348\n",
      "IRAhandle_tweets_4.csv                         2019-10-03 00:13:10     87771344\n",
      "IRAhandle_tweets_5.csv                         2019-10-03 00:13:18     79412644\n",
      "IRAhandle_tweets_6.csv                         2019-10-03 00:13:24     77962778\n",
      "IRAhandle_tweets_7.csv                         2019-10-03 00:13:32     82408170\n",
      "IRAhandle_tweets_8.csv                         2019-10-03 00:13:38     85947534\n",
      "IRAhandle_tweets_9.csv                         2019-10-03 00:13:46      9444208\n",
      "Extracting all the files now...\n",
      "Done!\n"
     ]
    }
   ],
   "source": [
    "from zipfile import ZipFile\n",
    "# specifying the zip file name \n",
    "\n",
    "file_name=os_dir_search(troll_tweets_[0])+ '/' + troll_tweets_[0]\n",
    "  \n",
    "# opening the zip file in READ mode \n",
    "with ZipFile(file_name, 'r') as zip: \n",
    "    # printing all the contents of the zip file \n",
    "    zip.printdir() \n",
    "  \n",
    "    # extracting all the files \n",
    "    print('Extracting all the files now...') \n",
    "    zip.extractall('/Users/zatoichi59/Desktop/troll_tweets') \n",
    "    print('Done!')\n",
    "\n"
   ]
  },
  {
   "cell_type": "code",
   "execution_count": 22,
   "metadata": {},
   "outputs": [
    {
     "name": "stdout",
     "output_type": "stream",
     "text": [
      "Location of my Insurance Folder:  /Users/zatoichi59/Desktop/troll_tweets\n",
      "-------------------------------\n",
      "Files in Insurance Folder: \n",
      " ['IRAhandle_tweets_1.csv', 'IRAhandle_tweets_2.csv', 'IRAhandle_tweets_3.csv', 'IRAhandle_tweets_4.csv', 'IRAhandle_tweets_5.csv', 'IRAhandle_tweets_6.csv', 'IRAhandle_tweets_7.csv', 'IRAhandle_tweets_8.csv', 'IRAhandle_tweets_9.csv', 'russian-troll-tweets.zip']\n"
     ]
    }
   ],
   "source": [
    "print('Location of my Insurance Folder: ',os_dir_search(troll_tweets_[0]))\n",
    "print('-------------------------------')\n",
    "print('Files in Insurance Folder: \\n',os.listdir(os_dir_search(troll_tweets_[0])))"
   ]
  },
  {
   "cell_type": "code",
   "execution_count": 24,
   "metadata": {},
   "outputs": [],
   "source": [
    "# combine the files into a list\n",
    "\n",
    "my_dir=os_dir_search(troll_tweets_[0])\n",
    "trolls_=[]\n",
    "for file in os.listdir(my_dir):\n",
    "    trolls_.append(file)\n",
    "\n",
    "# pd.read_csv(trolls_[2]).head()"
   ]
  },
  {
   "cell_type": "code",
   "execution_count": 36,
   "metadata": {},
   "outputs": [],
   "source": [
    "# Create DF from each file:\n",
    "\n",
    "k=[]\n",
    "for i in trolls_[:-1]: # last file is .zip exclude it\n",
    "    # read each csv into DF\n",
    "    kaggle_tweets=pd.read_csv(os_dir_search(troll_tweets_[0])+'/'+str(i))\n",
    "    # save all DF's into list\n",
    "    k.append(kaggle_tweets)\n"
   ]
  },
  {
   "cell_type": "code",
   "execution_count": 38,
   "metadata": {},
   "outputs": [
    {
     "data": {
      "text/html": [
       "<div>\n",
       "<style scoped>\n",
       "    .dataframe tbody tr th:only-of-type {\n",
       "        vertical-align: middle;\n",
       "    }\n",
       "\n",
       "    .dataframe tbody tr th {\n",
       "        vertical-align: top;\n",
       "    }\n",
       "\n",
       "    .dataframe thead th {\n",
       "        text-align: right;\n",
       "    }\n",
       "</style>\n",
       "<table border=\"1\" class=\"dataframe\">\n",
       "  <thead>\n",
       "    <tr style=\"text-align: right;\">\n",
       "      <th></th>\n",
       "      <th>external_author_id</th>\n",
       "      <th>author</th>\n",
       "      <th>content</th>\n",
       "      <th>region</th>\n",
       "      <th>language</th>\n",
       "      <th>publish_date</th>\n",
       "      <th>harvested_date</th>\n",
       "      <th>following</th>\n",
       "      <th>followers</th>\n",
       "      <th>updates</th>\n",
       "      <th>post_type</th>\n",
       "      <th>account_type</th>\n",
       "      <th>new_june_2018</th>\n",
       "      <th>retweet</th>\n",
       "      <th>account_category</th>\n",
       "    </tr>\n",
       "  </thead>\n",
       "  <tbody>\n",
       "    <tr>\n",
       "      <th>2973366</th>\n",
       "      <td>3.093874e+09</td>\n",
       "      <td>_YOUR_LIFESTYLE</td>\n",
       "      <td>Санкционный пинг-понг http://t.co/Jz06cndR8q</td>\n",
       "      <td>Unknown</td>\n",
       "      <td>Uzbek</td>\n",
       "      <td>9/7/2015 1:31</td>\n",
       "      <td>9/7/2015 1:31</td>\n",
       "      <td>60</td>\n",
       "      <td>4</td>\n",
       "      <td>412</td>\n",
       "      <td>NaN</td>\n",
       "      <td>Russian</td>\n",
       "      <td>0</td>\n",
       "      <td>0</td>\n",
       "      <td>NonEnglish</td>\n",
       "    </tr>\n",
       "    <tr>\n",
       "      <th>2973367</th>\n",
       "      <td>3.093874e+09</td>\n",
       "      <td>_YOUR_LIFESTYLE</td>\n",
       "      <td>Горизонтальный кальян NanoSmoke http://t.co/rL...</td>\n",
       "      <td>Unknown</td>\n",
       "      <td>Russian</td>\n",
       "      <td>9/8/2015 14:49</td>\n",
       "      <td>9/8/2015 14:49</td>\n",
       "      <td>60</td>\n",
       "      <td>4</td>\n",
       "      <td>416</td>\n",
       "      <td>NaN</td>\n",
       "      <td>Russian</td>\n",
       "      <td>0</td>\n",
       "      <td>0</td>\n",
       "      <td>NonEnglish</td>\n",
       "    </tr>\n",
       "    <tr>\n",
       "      <th>2973368</th>\n",
       "      <td>3.093874e+09</td>\n",
       "      <td>_YOUR_LIFESTYLE</td>\n",
       "      <td>Фотограф Kai-Hendrik Schroeder http://t.co/q0x...</td>\n",
       "      <td>Unknown</td>\n",
       "      <td>Russian</td>\n",
       "      <td>9/9/2015 18:52</td>\n",
       "      <td>9/9/2015 18:52</td>\n",
       "      <td>60</td>\n",
       "      <td>4</td>\n",
       "      <td>418</td>\n",
       "      <td>NaN</td>\n",
       "      <td>Russian</td>\n",
       "      <td>0</td>\n",
       "      <td>0</td>\n",
       "      <td>NonEnglish</td>\n",
       "    </tr>\n",
       "    <tr>\n",
       "      <th>2973369</th>\n",
       "      <td>3.093874e+09</td>\n",
       "      <td>_YOUR_LIFESTYLE</td>\n",
       "      <td>К чему стремится компания Netflix (США) http:/...</td>\n",
       "      <td>Unknown</td>\n",
       "      <td>Russian</td>\n",
       "      <td>9/9/2015 22:26</td>\n",
       "      <td>9/9/2015 22:27</td>\n",
       "      <td>60</td>\n",
       "      <td>4</td>\n",
       "      <td>419</td>\n",
       "      <td>NaN</td>\n",
       "      <td>Russian</td>\n",
       "      <td>0</td>\n",
       "      <td>0</td>\n",
       "      <td>NonEnglish</td>\n",
       "    </tr>\n",
       "    <tr>\n",
       "      <th>2973370</th>\n",
       "      <td>3.093874e+09</td>\n",
       "      <td>_YOUR_LIFESTYLE</td>\n",
       "      <td>В Петербурге появилось вегетарианское кафе в к...</td>\n",
       "      <td>Unknown</td>\n",
       "      <td>Russian</td>\n",
       "      <td>9/9/2015 8:17</td>\n",
       "      <td>9/9/2015 8:17</td>\n",
       "      <td>60</td>\n",
       "      <td>4</td>\n",
       "      <td>417</td>\n",
       "      <td>NaN</td>\n",
       "      <td>Russian</td>\n",
       "      <td>0</td>\n",
       "      <td>0</td>\n",
       "      <td>NonEnglish</td>\n",
       "    </tr>\n",
       "  </tbody>\n",
       "</table>\n",
       "</div>"
      ],
      "text/plain": [
       "         external_author_id           author  \\\n",
       "2973366        3.093874e+09  _YOUR_LIFESTYLE   \n",
       "2973367        3.093874e+09  _YOUR_LIFESTYLE   \n",
       "2973368        3.093874e+09  _YOUR_LIFESTYLE   \n",
       "2973369        3.093874e+09  _YOUR_LIFESTYLE   \n",
       "2973370        3.093874e+09  _YOUR_LIFESTYLE   \n",
       "\n",
       "                                                   content   region language  \\\n",
       "2973366       Санкционный пинг-понг http://t.co/Jz06cndR8q  Unknown    Uzbek   \n",
       "2973367  Горизонтальный кальян NanoSmoke http://t.co/rL...  Unknown  Russian   \n",
       "2973368  Фотограф Kai-Hendrik Schroeder http://t.co/q0x...  Unknown  Russian   \n",
       "2973369  К чему стремится компания Netflix (США) http:/...  Unknown  Russian   \n",
       "2973370  В Петербурге появилось вегетарианское кафе в к...  Unknown  Russian   \n",
       "\n",
       "           publish_date  harvested_date  following  followers  updates  \\\n",
       "2973366   9/7/2015 1:31   9/7/2015 1:31         60          4      412   \n",
       "2973367  9/8/2015 14:49  9/8/2015 14:49         60          4      416   \n",
       "2973368  9/9/2015 18:52  9/9/2015 18:52         60          4      418   \n",
       "2973369  9/9/2015 22:26  9/9/2015 22:27         60          4      419   \n",
       "2973370   9/9/2015 8:17   9/9/2015 8:17         60          4      417   \n",
       "\n",
       "        post_type account_type  new_june_2018  retweet account_category  \n",
       "2973366       NaN      Russian              0        0       NonEnglish  \n",
       "2973367       NaN      Russian              0        0       NonEnglish  \n",
       "2973368       NaN      Russian              0        0       NonEnglish  \n",
       "2973369       NaN      Russian              0        0       NonEnglish  \n",
       "2973370       NaN      Russian              0        0       NonEnglish  "
      ]
     },
     "execution_count": 38,
     "metadata": {},
     "output_type": "execute_result"
    }
   ],
   "source": [
    "# Almost 3 Million Troll Tweets, combined from 9 files:\n",
    "\n",
    "mega_troll_df=pd.concat(k,axis=0,ignore_index=True)\n",
    "\n",
    "mega_troll_df.tail()"
   ]
  },
  {
   "cell_type": "code",
   "execution_count": 39,
   "metadata": {},
   "outputs": [
    {
     "data": {
      "text/plain": [
       "Index(['external_author_id', 'author', 'content', 'region', 'language',\n",
       "       'publish_date', 'harvested_date', 'following', 'followers', 'updates',\n",
       "       'post_type', 'account_type', 'new_june_2018', 'retweet',\n",
       "       'account_category'],\n",
       "      dtype='object')"
      ]
     },
     "execution_count": 39,
     "metadata": {},
     "output_type": "execute_result"
    }
   ],
   "source": [
    "mega_troll_df.columns"
   ]
  },
  {
   "cell_type": "code",
   "execution_count": null,
   "metadata": {},
   "outputs": [],
   "source": []
  },
  {
   "cell_type": "code",
   "execution_count": null,
   "metadata": {},
   "outputs": [],
   "source": []
  },
  {
   "cell_type": "code",
   "execution_count": null,
   "metadata": {},
   "outputs": [],
   "source": []
  },
  {
   "cell_type": "markdown",
   "metadata": {},
   "source": [
    "# <font color=red>Like</font>, Share &\n",
    "\n",
    "# <font color=red>SUB</font>scribe\n",
    "\n",
    "**`Help Support The Channel: Patreon @mrfugudatasci`**\n",
    "\n",
    "**`Or Consider: Buy Me A Coffee @mrfugudatasci`**"
   ]
  },
  {
   "cell_type": "markdown",
   "metadata": {},
   "source": [
    "# `Citations & Help:`\n",
    "\n",
    "# ◔̯◔\n",
    "\n",
    "`Kaggle`\n",
    "\n",
    "https://medium.com/@jeff.daniel77/accessing-the-kaggle-com-api-with-jupyter-notebook-on-windows-d6f330bc6953\n",
    "\n",
    "https://github.com/Kaggle/kaggle-api\n",
    "\n",
    "https://technowhisp.com/kaggle-api-python-documentation/\n",
    "\n",
    "https://www.kaggle.com/docs/api#interacting-with-datasets\n",
    "\n",
    "https://www.geeksforgeeks.org/working-zip-files-python/\n",
    "\n",
    "https://medium.com/analytics-vidhya/fetch-data-from-kaggle-with-python-9154a4c610e3\n",
    "\n",
    "https://stackabuse.com/creating-and-deleting-directories-with-python/\n",
    "\n",
    "https://www.kaggle.com/paultimothymooney/exploring-the-kaggle-api\n",
    "\n",
    "https://stackoverflow.com/questions/50836642/i-get-a-bash-command-not-found-when-trying-to-use-the-kaggle-api\n",
    "\n",
    "https://github.com/Kaggle/kaggle-api/issues/29\n",
    "\n",
    "`NLP`\n",
    "\n"
   ]
  }
 ],
 "metadata": {
  "kernelspec": {
   "display_name": "Python 3",
   "language": "python",
   "name": "python3"
  },
  "language_info": {
   "codemirror_mode": {
    "name": "ipython",
    "version": 3
   },
   "file_extension": ".py",
   "mimetype": "text/x-python",
   "name": "python",
   "nbconvert_exporter": "python",
   "pygments_lexer": "ipython3",
   "version": "3.7.3"
  }
 },
 "nbformat": 4,
 "nbformat_minor": 4
}
