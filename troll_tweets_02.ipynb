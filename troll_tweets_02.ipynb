{
 "cells": [
  {
   "cell_type": "markdown",
   "metadata": {},
   "source": [
    "# `Russian Troll Tweets Part-02`\n",
    "\n",
    "# <font color=red>Mr Fugu Data Science</font>\n",
    "\n",
    "# (◕‿◕✿)\n",
    "\n",
    "\n",
    "<font size=5>**`Help Support The Channel: Patreon @mrfugudatasci`**</font>\n",
    "    \n",
    "**`Or Consider: Buy Me A Coffee @mrfugudatasci`**"
   ]
  },
  {
   "cell_type": "code",
   "execution_count": 1,
   "metadata": {},
   "outputs": [],
   "source": [
    "import pandas as pd\n",
    "import numpy as np\n",
    "import matplotlib as plt\n",
    "\n",
    "%matplotlib inline"
   ]
  },
  {
   "cell_type": "code",
   "execution_count": null,
   "metadata": {},
   "outputs": [],
   "source": []
  },
  {
   "cell_type": "code",
   "execution_count": 14,
   "metadata": {},
   "outputs": [
    {
     "data": {
      "text/html": [
       "<div>\n",
       "<style scoped>\n",
       "    .dataframe tbody tr th:only-of-type {\n",
       "        vertical-align: middle;\n",
       "    }\n",
       "\n",
       "    .dataframe tbody tr th {\n",
       "        vertical-align: top;\n",
       "    }\n",
       "\n",
       "    .dataframe thead th {\n",
       "        text-align: right;\n",
       "    }\n",
       "</style>\n",
       "<table border=\"1\" class=\"dataframe\">\n",
       "  <thead>\n",
       "    <tr style=\"text-align: right;\">\n",
       "      <th></th>\n",
       "      <th>author</th>\n",
       "      <th>region</th>\n",
       "      <th>language</th>\n",
       "      <th>publish_date</th>\n",
       "      <th>following</th>\n",
       "      <th>followers</th>\n",
       "      <th>updates</th>\n",
       "      <th>post_type</th>\n",
       "      <th>account_type</th>\n",
       "      <th>retweet</th>\n",
       "      <th>account_category</th>\n",
       "      <th>content without http</th>\n",
       "    </tr>\n",
       "  </thead>\n",
       "  <tbody>\n",
       "    <tr>\n",
       "      <th>0</th>\n",
       "      <td>10_GOP</td>\n",
       "      <td>Unknown</td>\n",
       "      <td>English</td>\n",
       "      <td>10/1/2017 19:58</td>\n",
       "      <td>1052</td>\n",
       "      <td>9636</td>\n",
       "      <td>253</td>\n",
       "      <td>Other_Tweet</td>\n",
       "      <td>Right</td>\n",
       "      <td>0</td>\n",
       "      <td>RightTroll</td>\n",
       "      <td>We have a sitting Democrat US Senator on trial...</td>\n",
       "    </tr>\n",
       "    <tr>\n",
       "      <th>1</th>\n",
       "      <td>10_GOP</td>\n",
       "      <td>Unknown</td>\n",
       "      <td>English</td>\n",
       "      <td>10/1/2017 22:43</td>\n",
       "      <td>1054</td>\n",
       "      <td>9637</td>\n",
       "      <td>254</td>\n",
       "      <td>Other_Tweet</td>\n",
       "      <td>Right</td>\n",
       "      <td>0</td>\n",
       "      <td>RightTroll</td>\n",
       "      <td>Marshawn Lynch arrives to game in anti-Trump s...</td>\n",
       "    </tr>\n",
       "    <tr>\n",
       "      <th>2</th>\n",
       "      <td>10_GOP</td>\n",
       "      <td>Unknown</td>\n",
       "      <td>English</td>\n",
       "      <td>10/1/2017 22:50</td>\n",
       "      <td>1054</td>\n",
       "      <td>9637</td>\n",
       "      <td>255</td>\n",
       "      <td>RETWEET</td>\n",
       "      <td>Right</td>\n",
       "      <td>1</td>\n",
       "      <td>RightTroll</td>\n",
       "      <td>Daughter of fallen Navy Sailor delivers powerf...</td>\n",
       "    </tr>\n",
       "    <tr>\n",
       "      <th>3</th>\n",
       "      <td>10_GOP</td>\n",
       "      <td>Unknown</td>\n",
       "      <td>English</td>\n",
       "      <td>10/1/2017 23:52</td>\n",
       "      <td>1062</td>\n",
       "      <td>9642</td>\n",
       "      <td>256</td>\n",
       "      <td>Other_Tweet</td>\n",
       "      <td>Right</td>\n",
       "      <td>0</td>\n",
       "      <td>RightTroll</td>\n",
       "      <td>JUST IN: President Trump dedicates Presidents ...</td>\n",
       "    </tr>\n",
       "    <tr>\n",
       "      <th>4</th>\n",
       "      <td>10_GOP</td>\n",
       "      <td>Unknown</td>\n",
       "      <td>English</td>\n",
       "      <td>10/1/2017 2:13</td>\n",
       "      <td>1050</td>\n",
       "      <td>9645</td>\n",
       "      <td>246</td>\n",
       "      <td>RETWEET</td>\n",
       "      <td>Right</td>\n",
       "      <td>1</td>\n",
       "      <td>RightTroll</td>\n",
       "      <td>19,000 RESPECTING our National Anthem! #StandF...</td>\n",
       "    </tr>\n",
       "  </tbody>\n",
       "</table>\n",
       "</div>"
      ],
      "text/plain": [
       "   author   region language     publish_date  following  followers  updates  \\\n",
       "0  10_GOP  Unknown  English  10/1/2017 19:58       1052       9636      253   \n",
       "1  10_GOP  Unknown  English  10/1/2017 22:43       1054       9637      254   \n",
       "2  10_GOP  Unknown  English  10/1/2017 22:50       1054       9637      255   \n",
       "3  10_GOP  Unknown  English  10/1/2017 23:52       1062       9642      256   \n",
       "4  10_GOP  Unknown  English   10/1/2017 2:13       1050       9645      246   \n",
       "\n",
       "     post_type account_type  retweet account_category  \\\n",
       "0  Other_Tweet        Right        0       RightTroll   \n",
       "1  Other_Tweet        Right        0       RightTroll   \n",
       "2      RETWEET        Right        1       RightTroll   \n",
       "3  Other_Tweet        Right        0       RightTroll   \n",
       "4      RETWEET        Right        1       RightTroll   \n",
       "\n",
       "                                content without http  \n",
       "0  We have a sitting Democrat US Senator on trial...  \n",
       "1  Marshawn Lynch arrives to game in anti-Trump s...  \n",
       "2  Daughter of fallen Navy Sailor delivers powerf...  \n",
       "3  JUST IN: President Trump dedicates Presidents ...  \n",
       "4  19,000 RESPECTING our National Anthem! #StandF...  "
      ]
     },
     "execution_count": 14,
     "metadata": {},
     "output_type": "execute_result"
    }
   ],
   "source": [
    "troll_02=pd.read_csv('troll_tweets_vid02.csv')\n",
    "\n",
    "troll_02=troll_02.drop(['content','Unnamed: 0'],axis = 1)\n",
    "\n",
    "troll_02.head()"
   ]
  },
  {
   "cell_type": "code",
   "execution_count": 15,
   "metadata": {},
   "outputs": [],
   "source": [
    "# Due to complications with translating API's and Cost I WILL NOT DO THIS...\n",
    "tr_russ=troll_02[troll_02['language']=='Russian']\n",
    "\n",
    "\n",
    "tr_eng=troll_02[troll_02['language']=='English']"
   ]
  },
  {
   "cell_type": "code",
   "execution_count": 16,
   "metadata": {},
   "outputs": [
    {
     "data": {
      "text/plain": [
       "array(['Right', 'Koch', 'Italian', 'Russian', 'left', 'Unknown', 'German',\n",
       "       'Hashtager', 'Arabic', 'local', 'Commercial', 'French',\n",
       "       'ZAPOROSHIA', 'news', 'right', 'Ebola ', 'Spanish', 'Portuguese'],\n",
       "      dtype=object)"
      ]
     },
     "execution_count": 16,
     "metadata": {},
     "output_type": "execute_result"
    }
   ],
   "source": [
    "# forgot to look closer at this yesterday, format names\n",
    "tr_eng['account_type'].unique()"
   ]
  },
  {
   "cell_type": "code",
   "execution_count": 19,
   "metadata": {},
   "outputs": [],
   "source": [
    "# convert column values to lowercase: \n",
    "tr_eng_lwr = tr_eng[\"account_type\"].map(lambda x: x.lower())"
   ]
  },
  {
   "cell_type": "code",
   "execution_count": 20,
   "metadata": {},
   "outputs": [
    {
     "name": "stderr",
     "output_type": "stream",
     "text": [
      "/Users/zatoichi59/anaconda3/lib/python3.7/site-packages/ipykernel_launcher.py:1: SettingWithCopyWarning: \n",
      "A value is trying to be set on a copy of a slice from a DataFrame.\n",
      "Try using .loc[row_indexer,col_indexer] = value instead\n",
      "\n",
      "See the caveats in the documentation: https://pandas.pydata.org/pandas-docs/stable/user_guide/indexing.html#returning-a-view-versus-a-copy\n",
      "  \"\"\"Entry point for launching an IPython kernel.\n"
     ]
    },
    {
     "data": {
      "text/plain": [
       "array(['right', 'koch', 'italian', 'russian', 'left', 'unknown', 'german',\n",
       "       'hashtager', 'arabic', 'local', 'commercial', 'french',\n",
       "       'zaporoshia', 'news', 'ebola ', 'spanish', 'portuguese'],\n",
       "      dtype=object)"
      ]
     },
     "execution_count": 20,
     "metadata": {},
     "output_type": "execute_result"
    }
   ],
   "source": [
    "tr_eng[\"account_type\"]=tr_eng_lwr\n",
    "\n",
    "tr_eng['account_type'].unique()"
   ]
  },
  {
   "cell_type": "markdown",
   "metadata": {},
   "source": [
    "# `Plotting to get general idea of further EDA`"
   ]
  },
  {
   "cell_type": "code",
   "execution_count": null,
   "metadata": {
    "scrolled": true
   },
   "outputs": [],
   "source": [
    "# import files and datetime formatting, json parsing\n",
    "import datetime\n",
    "\n",
    "pd.set_option('mode.chained_assignment', None) # ignore pandas warning: \n",
    "# \"A value is trying to be set on a copy of a slice from a DataFrame\"\n",
    "\n",
    "type(tr_eng['publish_date'][0]) #returns string, need to format\n",
    "\n",
    "\n",
    "# Convert str to date/time with pandas\n",
    "tr_eng.loc['publish_date']=pd.to_datetime(tr_eng['publish_date'],\n",
    "                    infer_datetime_format=True)\n",
    "\n",
    "# # Change formating to US dates\n",
    "tr_eng['publish_date_Only']=tr_eng['publish_date'].dt.strftime('%m/%d/%Y')\n",
    "\n",
    "tr_eng.head()"
   ]
  },
  {
   "cell_type": "code",
   "execution_count": 24,
   "metadata": {},
   "outputs": [],
   "source": [
    "\n",
    "\n"
   ]
  },
  {
   "cell_type": "code",
   "execution_count": null,
   "metadata": {},
   "outputs": [],
   "source": []
  },
  {
   "cell_type": "code",
   "execution_count": null,
   "metadata": {},
   "outputs": [],
   "source": []
  },
  {
   "cell_type": "markdown",
   "metadata": {},
   "source": [
    "# <font color=red>Like</font>, Share &\n",
    "\n",
    "# <font color=red>SUB</font>scribe\n",
    "\n",
    "<font size=5>**`Help Support The Channel: Patreon @mrfugudatasci`**</font>\n",
    "    \n",
    "**`Or Consider: Buy Me A Coffee @mrfugudatasci`**"
   ]
  },
  {
   "cell_type": "markdown",
   "metadata": {},
   "source": [
    "# `Citations & Help:`\n",
    "\n",
    "# ◔̯◔\n",
    "\n",
    "`Batch Language Translating Google`\n",
    "\n",
    "https://cloud.google.com/translate/docs/advanced/batch-translation#translate_v3_batch_translate_text-python\n",
    "\n",
    "https://builtvisible.com/rapid-bulk-translation-in-excel-with-the-google-translate-api/\n",
    "\n",
    "https://www.dataquest.io/blog/settingwithcopywarning/ (dealing with pandas warning above)"
   ]
  }
 ],
 "metadata": {
  "kernelspec": {
   "display_name": "Python 3",
   "language": "python",
   "name": "python3"
  },
  "language_info": {
   "codemirror_mode": {
    "name": "ipython",
    "version": 3
   },
   "file_extension": ".py",
   "mimetype": "text/x-python",
   "name": "python",
   "nbconvert_exporter": "python",
   "pygments_lexer": "ipython3",
   "version": "3.7.3"
  }
 },
 "nbformat": 4,
 "nbformat_minor": 4
}
