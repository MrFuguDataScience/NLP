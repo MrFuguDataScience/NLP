{
 "cells": [
  {
   "cell_type": "markdown",
   "metadata": {},
   "source": [
    "# `Russian Troll Tweets Part-02`\n",
    "\n",
    "# <font color=red>Mr Fugu Data Science</font>\n",
    "\n",
    "# (◕‿◕✿)\n",
    "\n",
    "\n",
    "<font size=5>**`Help Support The Channel: Patreon @mrfugudatasci`**</font>\n",
    "    \n",
    "**`Or Consider: Buy Me A Coffee @mrfugudatasci`**"
   ]
  },
  {
   "cell_type": "code",
   "execution_count": 1,
   "metadata": {},
   "outputs": [],
   "source": [
    "import pandas as pd\n",
    "import numpy as np\n",
    "import matplotlib as plt\n",
    "\n",
    "%matplotlib inline"
   ]
  },
  {
   "cell_type": "code",
   "execution_count": null,
   "metadata": {},
   "outputs": [],
   "source": []
  },
  {
   "cell_type": "code",
   "execution_count": 60,
   "metadata": {},
   "outputs": [
    {
     "data": {
      "text/html": [
       "<div>\n",
       "<style scoped>\n",
       "    .dataframe tbody tr th:only-of-type {\n",
       "        vertical-align: middle;\n",
       "    }\n",
       "\n",
       "    .dataframe tbody tr th {\n",
       "        vertical-align: top;\n",
       "    }\n",
       "\n",
       "    .dataframe thead th {\n",
       "        text-align: right;\n",
       "    }\n",
       "</style>\n",
       "<table border=\"1\" class=\"dataframe\">\n",
       "  <thead>\n",
       "    <tr style=\"text-align: right;\">\n",
       "      <th></th>\n",
       "      <th>author</th>\n",
       "      <th>region</th>\n",
       "      <th>language</th>\n",
       "      <th>publish_date</th>\n",
       "      <th>following</th>\n",
       "      <th>followers</th>\n",
       "      <th>updates</th>\n",
       "      <th>post_type</th>\n",
       "      <th>account_type</th>\n",
       "      <th>retweet</th>\n",
       "      <th>account_category</th>\n",
       "      <th>content without http</th>\n",
       "    </tr>\n",
       "  </thead>\n",
       "  <tbody>\n",
       "    <tr>\n",
       "      <th>2973365</th>\n",
       "      <td>_YOUR_LIFESTYLE</td>\n",
       "      <td>Unknown</td>\n",
       "      <td>Uzbek</td>\n",
       "      <td>9/7/2015 1:31</td>\n",
       "      <td>60</td>\n",
       "      <td>4</td>\n",
       "      <td>412</td>\n",
       "      <td>Other_Tweet</td>\n",
       "      <td>Russian</td>\n",
       "      <td>0</td>\n",
       "      <td>NonEnglish</td>\n",
       "      <td>Санкционный пинг-понг</td>\n",
       "    </tr>\n",
       "    <tr>\n",
       "      <th>2973366</th>\n",
       "      <td>_YOUR_LIFESTYLE</td>\n",
       "      <td>Unknown</td>\n",
       "      <td>Russian</td>\n",
       "      <td>9/8/2015 14:49</td>\n",
       "      <td>60</td>\n",
       "      <td>4</td>\n",
       "      <td>416</td>\n",
       "      <td>Other_Tweet</td>\n",
       "      <td>Russian</td>\n",
       "      <td>0</td>\n",
       "      <td>NonEnglish</td>\n",
       "      <td>Горизонтальный кальян NanoSmoke</td>\n",
       "    </tr>\n",
       "    <tr>\n",
       "      <th>2973367</th>\n",
       "      <td>_YOUR_LIFESTYLE</td>\n",
       "      <td>Unknown</td>\n",
       "      <td>Russian</td>\n",
       "      <td>9/9/2015 18:52</td>\n",
       "      <td>60</td>\n",
       "      <td>4</td>\n",
       "      <td>418</td>\n",
       "      <td>Other_Tweet</td>\n",
       "      <td>Russian</td>\n",
       "      <td>0</td>\n",
       "      <td>NonEnglish</td>\n",
       "      <td>Фотограф Kai-Hendrik Schroeder</td>\n",
       "    </tr>\n",
       "    <tr>\n",
       "      <th>2973368</th>\n",
       "      <td>_YOUR_LIFESTYLE</td>\n",
       "      <td>Unknown</td>\n",
       "      <td>Russian</td>\n",
       "      <td>9/9/2015 22:26</td>\n",
       "      <td>60</td>\n",
       "      <td>4</td>\n",
       "      <td>419</td>\n",
       "      <td>Other_Tweet</td>\n",
       "      <td>Russian</td>\n",
       "      <td>0</td>\n",
       "      <td>NonEnglish</td>\n",
       "      <td>К чему стремится компания Netflix (США)</td>\n",
       "    </tr>\n",
       "    <tr>\n",
       "      <th>2973369</th>\n",
       "      <td>_YOUR_LIFESTYLE</td>\n",
       "      <td>Unknown</td>\n",
       "      <td>Russian</td>\n",
       "      <td>9/9/2015 8:17</td>\n",
       "      <td>60</td>\n",
       "      <td>4</td>\n",
       "      <td>417</td>\n",
       "      <td>Other_Tweet</td>\n",
       "      <td>Russian</td>\n",
       "      <td>0</td>\n",
       "      <td>NonEnglish</td>\n",
       "      <td>В Петербурге появилось вегетарианское кафе в к...</td>\n",
       "    </tr>\n",
       "  </tbody>\n",
       "</table>\n",
       "</div>"
      ],
      "text/plain": [
       "                  author   region language    publish_date  following  \\\n",
       "2973365  _YOUR_LIFESTYLE  Unknown    Uzbek   9/7/2015 1:31         60   \n",
       "2973366  _YOUR_LIFESTYLE  Unknown  Russian  9/8/2015 14:49         60   \n",
       "2973367  _YOUR_LIFESTYLE  Unknown  Russian  9/9/2015 18:52         60   \n",
       "2973368  _YOUR_LIFESTYLE  Unknown  Russian  9/9/2015 22:26         60   \n",
       "2973369  _YOUR_LIFESTYLE  Unknown  Russian   9/9/2015 8:17         60   \n",
       "\n",
       "         followers  updates    post_type account_type  retweet  \\\n",
       "2973365          4      412  Other_Tweet      Russian        0   \n",
       "2973366          4      416  Other_Tweet      Russian        0   \n",
       "2973367          4      418  Other_Tweet      Russian        0   \n",
       "2973368          4      419  Other_Tweet      Russian        0   \n",
       "2973369          4      417  Other_Tweet      Russian        0   \n",
       "\n",
       "        account_category                               content without http  \n",
       "2973365       NonEnglish                             Санкционный пинг-понг   \n",
       "2973366       NonEnglish                   Горизонтальный кальян NanoSmoke   \n",
       "2973367       NonEnglish                    Фотограф Kai-Hendrik Schroeder   \n",
       "2973368       NonEnglish           К чему стремится компания Netflix (США)   \n",
       "2973369       NonEnglish  В Петербурге появилось вегетарианское кафе в к...  "
      ]
     },
     "execution_count": 60,
     "metadata": {},
     "output_type": "execute_result"
    }
   ],
   "source": [
    "troll_02=pd.read_csv('troll_tweets_vid02.csv')\n",
    "\n",
    "troll_02=troll_02.drop(['content','Unnamed: 0'],axis = 1)\n",
    "\n",
    "troll_02.tail()"
   ]
  },
  {
   "cell_type": "code",
   "execution_count": 61,
   "metadata": {},
   "outputs": [],
   "source": [
    "# Due to complications with translating API's and Cost I WILL NOT DO THIS...\n",
    "# tr_russ=troll_02[troll_02['language']=='Russian']\n",
    "\n",
    "\n",
    "tr_eng=troll_02[troll_02['language']=='English']"
   ]
  },
  {
   "cell_type": "code",
   "execution_count": 62,
   "metadata": {},
   "outputs": [
    {
     "data": {
      "text/plain": [
       "array(['Right', 'Koch', 'Italian', 'Russian', 'left', 'Unknown', 'German',\n",
       "       'Hashtager', 'Arabic', 'local', 'Commercial', 'French',\n",
       "       'ZAPOROSHIA', 'news', 'right', 'Ebola ', 'Spanish', 'Portuguese'],\n",
       "      dtype=object)"
      ]
     },
     "execution_count": 62,
     "metadata": {},
     "output_type": "execute_result"
    }
   ],
   "source": [
    "# forgot to look closer at this yesterday, format names\n",
    "tr_eng['account_type'].unique()"
   ]
  },
  {
   "cell_type": "code",
   "execution_count": 63,
   "metadata": {},
   "outputs": [],
   "source": [
    "# convert column values to lowercase: \n",
    "tr_eng_lwr = tr_eng[\"account_type\"].map(lambda x: x.lower())"
   ]
  },
  {
   "cell_type": "code",
   "execution_count": 64,
   "metadata": {},
   "outputs": [
    {
     "data": {
      "text/plain": [
       "array(['right', 'koch', 'italian', 'russian', 'left', 'unknown', 'german',\n",
       "       'hashtager', 'arabic', 'local', 'commercial', 'french',\n",
       "       'zaporoshia', 'news', 'ebola ', 'spanish', 'portuguese'],\n",
       "      dtype=object)"
      ]
     },
     "execution_count": 64,
     "metadata": {},
     "output_type": "execute_result"
    }
   ],
   "source": [
    "tr_eng[\"account_type\"]=tr_eng_lwr\n",
    "\n",
    "tr_eng['account_type'].unique()"
   ]
  },
  {
   "cell_type": "markdown",
   "metadata": {},
   "source": [
    "# `Plotting to get general idea of further EDA`"
   ]
  },
  {
   "cell_type": "code",
   "execution_count": 72,
   "metadata": {
    "scrolled": false
   },
   "outputs": [
    {
     "data": {
      "text/html": [
       "<div>\n",
       "<style scoped>\n",
       "    .dataframe tbody tr th:only-of-type {\n",
       "        vertical-align: middle;\n",
       "    }\n",
       "\n",
       "    .dataframe tbody tr th {\n",
       "        vertical-align: top;\n",
       "    }\n",
       "\n",
       "    .dataframe thead th {\n",
       "        text-align: right;\n",
       "    }\n",
       "</style>\n",
       "<table border=\"1\" class=\"dataframe\">\n",
       "  <thead>\n",
       "    <tr style=\"text-align: right;\">\n",
       "      <th></th>\n",
       "      <th>author</th>\n",
       "      <th>region</th>\n",
       "      <th>language</th>\n",
       "      <th>publish_date</th>\n",
       "      <th>following</th>\n",
       "      <th>followers</th>\n",
       "      <th>updates</th>\n",
       "      <th>post_type</th>\n",
       "      <th>account_type</th>\n",
       "      <th>retweet</th>\n",
       "      <th>account_category</th>\n",
       "      <th>content without http</th>\n",
       "      <th>publish_date_Only</th>\n",
       "    </tr>\n",
       "  </thead>\n",
       "  <tbody>\n",
       "    <tr>\n",
       "      <th>687349</th>\n",
       "      <td>CRYSTAL1JOHNSON</td>\n",
       "      <td>United States</td>\n",
       "      <td>English</td>\n",
       "      <td>2012-02-06 20:24:00</td>\n",
       "      <td>4</td>\n",
       "      <td>0</td>\n",
       "      <td>2</td>\n",
       "      <td>Other_Tweet</td>\n",
       "      <td>left</td>\n",
       "      <td>0</td>\n",
       "      <td>LeftTroll</td>\n",
       "      <td>Resale homes sales R up. As we learned from th...</td>\n",
       "      <td>02/06/2012</td>\n",
       "    </tr>\n",
       "    <tr>\n",
       "      <th>687369</th>\n",
       "      <td>CRYSTAL1JOHNSON</td>\n",
       "      <td>United States</td>\n",
       "      <td>English</td>\n",
       "      <td>2012-02-07 13:24:00</td>\n",
       "      <td>4</td>\n",
       "      <td>0</td>\n",
       "      <td>4</td>\n",
       "      <td>Other_Tweet</td>\n",
       "      <td>left</td>\n",
       "      <td>0</td>\n",
       "      <td>LeftTroll</td>\n",
       "      <td>Good morning! There is so much we have to be t...</td>\n",
       "      <td>02/07/2012</td>\n",
       "    </tr>\n",
       "    <tr>\n",
       "      <th>687391</th>\n",
       "      <td>CRYSTAL1JOHNSON</td>\n",
       "      <td>United States</td>\n",
       "      <td>English</td>\n",
       "      <td>2012-02-08 13:37:00</td>\n",
       "      <td>7</td>\n",
       "      <td>0</td>\n",
       "      <td>4</td>\n",
       "      <td>Other_Tweet</td>\n",
       "      <td>left</td>\n",
       "      <td>0</td>\n",
       "      <td>LeftTroll</td>\n",
       "      <td>The reality is becoming increasingly pellucid:...</td>\n",
       "      <td>02/08/2012</td>\n",
       "    </tr>\n",
       "    <tr>\n",
       "      <th>686933</th>\n",
       "      <td>CRYSTAL1JOHNSON</td>\n",
       "      <td>United States</td>\n",
       "      <td>English</td>\n",
       "      <td>2012-02-14 12:45:00</td>\n",
       "      <td>7</td>\n",
       "      <td>1</td>\n",
       "      <td>8</td>\n",
       "      <td>Other_Tweet</td>\n",
       "      <td>left</td>\n",
       "      <td>0</td>\n",
       "      <td>LeftTroll</td>\n",
       "      <td>“The content of your character is your choice....</td>\n",
       "      <td>02/14/2012</td>\n",
       "    </tr>\n",
       "    <tr>\n",
       "      <th>687259</th>\n",
       "      <td>CRYSTAL1JOHNSON</td>\n",
       "      <td>United States</td>\n",
       "      <td>English</td>\n",
       "      <td>2012-02-29 14:32:00</td>\n",
       "      <td>7</td>\n",
       "      <td>2</td>\n",
       "      <td>9</td>\n",
       "      <td>Other_Tweet</td>\n",
       "      <td>left</td>\n",
       "      <td>0</td>\n",
       "      <td>LeftTroll</td>\n",
       "      <td>Coming together is a beginning. Keeping togeth...</td>\n",
       "      <td>02/29/2012</td>\n",
       "    </tr>\n",
       "  </tbody>\n",
       "</table>\n",
       "</div>"
      ],
      "text/plain": [
       "                 author         region language        publish_date  \\\n",
       "687349  CRYSTAL1JOHNSON  United States  English 2012-02-06 20:24:00   \n",
       "687369  CRYSTAL1JOHNSON  United States  English 2012-02-07 13:24:00   \n",
       "687391  CRYSTAL1JOHNSON  United States  English 2012-02-08 13:37:00   \n",
       "686933  CRYSTAL1JOHNSON  United States  English 2012-02-14 12:45:00   \n",
       "687259  CRYSTAL1JOHNSON  United States  English 2012-02-29 14:32:00   \n",
       "\n",
       "        following  followers  updates    post_type account_type  retweet  \\\n",
       "687349          4          0        2  Other_Tweet         left        0   \n",
       "687369          4          0        4  Other_Tweet         left        0   \n",
       "687391          7          0        4  Other_Tweet         left        0   \n",
       "686933          7          1        8  Other_Tweet         left        0   \n",
       "687259          7          2        9  Other_Tweet         left        0   \n",
       "\n",
       "       account_category                               content without http  \\\n",
       "687349        LeftTroll  Resale homes sales R up. As we learned from th...   \n",
       "687369        LeftTroll  Good morning! There is so much we have to be t...   \n",
       "687391        LeftTroll  The reality is becoming increasingly pellucid:...   \n",
       "686933        LeftTroll  “The content of your character is your choice....   \n",
       "687259        LeftTroll  Coming together is a beginning. Keeping togeth...   \n",
       "\n",
       "       publish_date_Only  \n",
       "687349        02/06/2012  \n",
       "687369        02/07/2012  \n",
       "687391        02/08/2012  \n",
       "686933        02/14/2012  \n",
       "687259        02/29/2012  "
      ]
     },
     "execution_count": 72,
     "metadata": {},
     "output_type": "execute_result"
    }
   ],
   "source": [
    "# import files and datetime formatting, json parsing\n",
    "import datetime\n",
    "\n",
    "pd.set_option('mode.chained_assignment', None) # ignore pandas warning: \n",
    "# \"A value is trying to be set on a copy of a slice from a DataFrame\"\n",
    "\n",
    "type(tr_eng['publish_date'][0]) #returns string, need to format\n",
    "\n",
    "\n",
    "# Convert str to date/time with pandas\n",
    "tr_eng['publish_date']=pd.to_datetime(tr_eng['publish_date'],\n",
    "                                          infer_datetime_format=True)\n",
    "\n",
    "tr_eng.sort_values('publish_date',ascending=True)\n",
    "\n",
    "# Change formating to US dates\n",
    "tr_eng['publish_date_Only']=tr_eng['publish_date'].dt.strftime('%m/%d/%Y')\n",
    "\n",
    "\n",
    "tr_eng.head()"
   ]
  },
  {
   "cell_type": "code",
   "execution_count": 73,
   "metadata": {},
   "outputs": [],
   "source": [
    "# Setup another column: Month/Yr\n",
    "tr_eng['Month_Yr']=tr_eng['publish_date'].dt.strftime('%m/%Y')\n"
   ]
  },
  {
   "cell_type": "code",
   "execution_count": 74,
   "metadata": {},
   "outputs": [
    {
     "data": {
      "text/html": [
       "<div>\n",
       "<style scoped>\n",
       "    .dataframe tbody tr th:only-of-type {\n",
       "        vertical-align: middle;\n",
       "    }\n",
       "\n",
       "    .dataframe tbody tr th {\n",
       "        vertical-align: top;\n",
       "    }\n",
       "\n",
       "    .dataframe thead th {\n",
       "        text-align: right;\n",
       "    }\n",
       "</style>\n",
       "<table border=\"1\" class=\"dataframe\">\n",
       "  <thead>\n",
       "    <tr style=\"text-align: right;\">\n",
       "      <th></th>\n",
       "      <th>author</th>\n",
       "      <th>region</th>\n",
       "      <th>language</th>\n",
       "      <th>publish_date</th>\n",
       "      <th>following</th>\n",
       "      <th>followers</th>\n",
       "      <th>updates</th>\n",
       "      <th>post_type</th>\n",
       "      <th>account_type</th>\n",
       "      <th>retweet</th>\n",
       "      <th>account_category</th>\n",
       "      <th>content without http</th>\n",
       "      <th>publish_date_Only</th>\n",
       "      <th>Month_Yr</th>\n",
       "    </tr>\n",
       "  </thead>\n",
       "  <tbody>\n",
       "    <tr>\n",
       "      <th>687349</th>\n",
       "      <td>CRYSTAL1JOHNSON</td>\n",
       "      <td>United States</td>\n",
       "      <td>English</td>\n",
       "      <td>2012-02-06 20:24:00</td>\n",
       "      <td>4</td>\n",
       "      <td>0</td>\n",
       "      <td>2</td>\n",
       "      <td>Other_Tweet</td>\n",
       "      <td>left</td>\n",
       "      <td>0</td>\n",
       "      <td>LeftTroll</td>\n",
       "      <td>Resale homes sales R up. As we learned from th...</td>\n",
       "      <td>02/06/2012</td>\n",
       "      <td>02/2012</td>\n",
       "    </tr>\n",
       "    <tr>\n",
       "      <th>687369</th>\n",
       "      <td>CRYSTAL1JOHNSON</td>\n",
       "      <td>United States</td>\n",
       "      <td>English</td>\n",
       "      <td>2012-02-07 13:24:00</td>\n",
       "      <td>4</td>\n",
       "      <td>0</td>\n",
       "      <td>4</td>\n",
       "      <td>Other_Tweet</td>\n",
       "      <td>left</td>\n",
       "      <td>0</td>\n",
       "      <td>LeftTroll</td>\n",
       "      <td>Good morning! There is so much we have to be t...</td>\n",
       "      <td>02/07/2012</td>\n",
       "      <td>02/2012</td>\n",
       "    </tr>\n",
       "    <tr>\n",
       "      <th>687391</th>\n",
       "      <td>CRYSTAL1JOHNSON</td>\n",
       "      <td>United States</td>\n",
       "      <td>English</td>\n",
       "      <td>2012-02-08 13:37:00</td>\n",
       "      <td>7</td>\n",
       "      <td>0</td>\n",
       "      <td>4</td>\n",
       "      <td>Other_Tweet</td>\n",
       "      <td>left</td>\n",
       "      <td>0</td>\n",
       "      <td>LeftTroll</td>\n",
       "      <td>The reality is becoming increasingly pellucid:...</td>\n",
       "      <td>02/08/2012</td>\n",
       "      <td>02/2012</td>\n",
       "    </tr>\n",
       "    <tr>\n",
       "      <th>686933</th>\n",
       "      <td>CRYSTAL1JOHNSON</td>\n",
       "      <td>United States</td>\n",
       "      <td>English</td>\n",
       "      <td>2012-02-14 12:45:00</td>\n",
       "      <td>7</td>\n",
       "      <td>1</td>\n",
       "      <td>8</td>\n",
       "      <td>Other_Tweet</td>\n",
       "      <td>left</td>\n",
       "      <td>0</td>\n",
       "      <td>LeftTroll</td>\n",
       "      <td>“The content of your character is your choice....</td>\n",
       "      <td>02/14/2012</td>\n",
       "      <td>02/2012</td>\n",
       "    </tr>\n",
       "    <tr>\n",
       "      <th>687259</th>\n",
       "      <td>CRYSTAL1JOHNSON</td>\n",
       "      <td>United States</td>\n",
       "      <td>English</td>\n",
       "      <td>2012-02-29 14:32:00</td>\n",
       "      <td>7</td>\n",
       "      <td>2</td>\n",
       "      <td>9</td>\n",
       "      <td>Other_Tweet</td>\n",
       "      <td>left</td>\n",
       "      <td>0</td>\n",
       "      <td>LeftTroll</td>\n",
       "      <td>Coming together is a beginning. Keeping togeth...</td>\n",
       "      <td>02/29/2012</td>\n",
       "      <td>02/2012</td>\n",
       "    </tr>\n",
       "  </tbody>\n",
       "</table>\n",
       "</div>"
      ],
      "text/plain": [
       "                 author         region language        publish_date  \\\n",
       "687349  CRYSTAL1JOHNSON  United States  English 2012-02-06 20:24:00   \n",
       "687369  CRYSTAL1JOHNSON  United States  English 2012-02-07 13:24:00   \n",
       "687391  CRYSTAL1JOHNSON  United States  English 2012-02-08 13:37:00   \n",
       "686933  CRYSTAL1JOHNSON  United States  English 2012-02-14 12:45:00   \n",
       "687259  CRYSTAL1JOHNSON  United States  English 2012-02-29 14:32:00   \n",
       "\n",
       "        following  followers  updates    post_type account_type  retweet  \\\n",
       "687349          4          0        2  Other_Tweet         left        0   \n",
       "687369          4          0        4  Other_Tweet         left        0   \n",
       "687391          7          0        4  Other_Tweet         left        0   \n",
       "686933          7          1        8  Other_Tweet         left        0   \n",
       "687259          7          2        9  Other_Tweet         left        0   \n",
       "\n",
       "       account_category                               content without http  \\\n",
       "687349        LeftTroll  Resale homes sales R up. As we learned from th...   \n",
       "687369        LeftTroll  Good morning! There is so much we have to be t...   \n",
       "687391        LeftTroll  The reality is becoming increasingly pellucid:...   \n",
       "686933        LeftTroll  “The content of your character is your choice....   \n",
       "687259        LeftTroll  Coming together is a beginning. Keeping togeth...   \n",
       "\n",
       "       publish_date_Only Month_Yr  \n",
       "687349        02/06/2012  02/2012  \n",
       "687369        02/07/2012  02/2012  \n",
       "687391        02/08/2012  02/2012  \n",
       "686933        02/14/2012  02/2012  \n",
       "687259        02/29/2012  02/2012  "
      ]
     },
     "execution_count": 74,
     "metadata": {},
     "output_type": "execute_result"
    }
   ],
   "source": [
    "\n",
    "tr_eng.head()"
   ]
  },
  {
   "cell_type": "code",
   "execution_count": 56,
   "metadata": {},
   "outputs": [
    {
     "data": {
      "text/plain": [
       "pandas._libs.tslibs.timestamps.Timestamp"
      ]
     },
     "execution_count": 56,
     "metadata": {},
     "output_type": "execute_result"
    }
   ],
   "source": [
    "# RUN THIS CODE TWICE if: font sizes doesn't enlarge\n",
    "\n",
    "# import matplotlib.pyplot as plt\n",
    "\n",
    "# plt.figure(figsize=(20,10))\n",
    "# plt.rc('xtick', labelsize=25) \n",
    "# plt.rc('ytick', labelsize=25) \n",
    "\n",
    "# labels_=['January','February','March','April','May',\n",
    "# 'June','July','August','September','October','November','December']\n",
    "\n",
    "# plt.bar(labels_,ff,\n",
    "# align='center', alpha=0.5)\n",
    "# plt.xticks(labels_,rotation=65)\n",
    "\n",
    "# plt.ylabel('Sales Total '+ '('+u'\\u00A3'+')',size=25)\n",
    "# plt.title('Total Sales By Month',size=25)\n",
    "\n",
    "# plt.show()\n",
    "\n",
    "\n",
    "type(tr_eng['Month_Yr'][0])"
   ]
  },
  {
   "cell_type": "code",
   "execution_count": 85,
   "metadata": {},
   "outputs": [
    {
     "data": {
      "text/plain": [
       "68"
      ]
     },
     "execution_count": 85,
     "metadata": {},
     "output_type": "execute_result"
    }
   ],
   "source": [
    "ordered_dates=follow_followers.Month_Yr.unique()\n",
    "\n",
    "len(ordered_dates)"
   ]
  },
  {
   "cell_type": "code",
   "execution_count": 145,
   "metadata": {},
   "outputs": [],
   "source": [
    "# acct_type=tr_eng.loc[:,['account_type',\n",
    "#     'Month_Yr']]\n",
    "\n",
    "# acct_type.groupby('Month_Yr').sum()['account_type']\n",
    "# # .sort_values('Month_Yr')\n",
    "\n",
    "# store_=[]\n",
    "# names_=acct_type['account_type'].unique()\n",
    "# for i in names_:\n",
    "#     mm=acct_type.loc[acct_type['account_type']==i]\n",
    "#     store_.append(list(mm.groupby('account_type').sum()['Month_Yr']))\n",
    "\n",
    "# follow_followers.head()\n",
    "\n",
    "mask = (tr_eng['publish_date'] > '07/31/2016') &\\\n",
    "(tr_eng['publish_date']  <= '01/01/2017')\n",
    "\n",
    "tr_en_msk=tr_eng[mask].sort_values('publish_date')\n",
    "# .sort_values('publish_date',ascending=True)\n",
    "# tr_eng['publish_date_Only']"
   ]
  },
  {
   "cell_type": "code",
   "execution_count": 146,
   "metadata": {},
   "outputs": [
    {
     "data": {
      "text/plain": [
       "<matplotlib.axes._subplots.AxesSubplot at 0x274386c88>"
      ]
     },
     "execution_count": 146,
     "metadata": {},
     "output_type": "execute_result"
    },
    {
     "data": {
      "image/png": "[encoded data removed]",
      "text/plain": [
       "<Figure size 1152x576 with 1 Axes>"
      ]
     },
     "metadata": {
      "needs_background": "light"
     },
     "output_type": "display_data"
    }
   ],
   "source": [
    "# Count the number of times a date appears and convert to dataframe\n",
    "tweet_trend = pd.DataFrame(tr_en_msk['publish_date_Only'].value_counts())\n",
    "\n",
    "# index is date, columns indicate tweet count on that day\n",
    "tweet_trend.columns = ['tweet_count']\n",
    "\n",
    "# sort the dataframe by the dates to have them in order\n",
    "tweet_trend.sort_index(ascending = True, inplace = True)\n",
    "\n",
    "# plot\n",
    "tweet_trend['tweet_count'].plot(x=tr_eng['publish_date_Only'].unique(),linestyle = \"-\", figsize = (16,8), color = 'blue')\n",
    "\n",
    "# plt.xlabel('Date', fontsize = 13)\n",
    "# plt.ylabel('Tweet Count', fontsize = 13)"
   ]
  },
  {
   "cell_type": "code",
   "execution_count": null,
   "metadata": {},
   "outputs": [],
   "source": [
    "# Do same plot for Russians and compare"
   ]
  },
  {
   "cell_type": "code",
   "execution_count": null,
   "metadata": {},
   "outputs": [],
   "source": [
    "# Do the moving 30 average and Trump important dates"
   ]
  },
  {
   "cell_type": "code",
   "execution_count": null,
   "metadata": {},
   "outputs": [],
   "source": []
  },
  {
   "cell_type": "code",
   "execution_count": null,
   "metadata": {},
   "outputs": [],
   "source": [
    "# Evaluate top 10 Users over time"
   ]
  },
  {
   "cell_type": "code",
   "execution_count": null,
   "metadata": {},
   "outputs": [],
   "source": []
  },
  {
   "cell_type": "code",
   "execution_count": null,
   "metadata": {},
   "outputs": [],
   "source": []
  },
  {
   "cell_type": "code",
   "execution_count": 97,
   "metadata": {},
   "outputs": [],
   "source": [
    "# grid=[x for x in ordered_dates]\n",
    "# graphs=store_\n",
    "# plt.figure(figsize=(12,8))\n",
    "# for gg,graph in enumerate(graphs):\n",
    "#         plt.plot(grid,graph,label=ppp.loc[:,'Country'].unique()[gg])\n",
    "                \n",
    "# plt.ylabel('Sales Total '+ '('+u'\\u00A3'+')',size=25)\n",
    "# plt.title('October 2011 Sales By Country/day',size=25)\n",
    "# plt.legend(loc=\"upper left\")\n",
    "# plt.xticks(ppp.loc[:,'Date'].unique(),rotation=45,ha=\"right\",size=9)\n",
    "# plt.grid(True)\n",
    "# plt.show()"
   ]
  },
  {
   "cell_type": "code",
   "execution_count": 147,
   "metadata": {},
   "outputs": [],
   "source": []
  },
  {
   "cell_type": "code",
   "execution_count": null,
   "metadata": {},
   "outputs": [],
   "source": []
  },
  {
   "cell_type": "markdown",
   "metadata": {},
   "source": [
    "# <font color=red>Like</font>, Share &\n",
    "\n",
    "# <font color=red>SUB</font>scribe\n",
    "\n",
    "<font size=5>**`Help Support The Channel: Patreon @mrfugudatasci`**</font>\n",
    "    \n",
    "**`Or Consider: Buy Me A Coffee @mrfugudatasci`**"
   ]
  },
  {
   "cell_type": "markdown",
   "metadata": {},
   "source": [
    "# `Citations & Help:`\n",
    "\n",
    "# ◔̯◔\n",
    "\n",
    "`Batch Language Translating Google`\n",
    "\n",
    "https://cloud.google.com/translate/docs/advanced/batch-translation#translate_v3_batch_translate_text-python\n",
    "\n",
    "https://builtvisible.com/rapid-bulk-translation-in-excel-with-the-google-translate-api/\n",
    "\n",
    "https://www.dataquest.io/blog/settingwithcopywarning/ (dealing with pandas warning above)\n",
    "\n",
    "https://stackoverflow.com/questions/29370057/select-dataframe-rows-between-two-dates"
   ]
  }
 ],
 "metadata": {
  "kernelspec": {
   "display_name": "Python 3",
   "language": "python",
   "name": "python3"
  },
  "language_info": {
   "codemirror_mode": {
    "name": "ipython",
    "version": 3
   },
   "file_extension": ".py",
   "mimetype": "text/x-python",
   "name": "python",
   "nbconvert_exporter": "python",
   "pygments_lexer": "ipython3",
   "version": "3.7.3"
  }
 },
 "nbformat": 4,
 "nbformat_minor": 4
}
