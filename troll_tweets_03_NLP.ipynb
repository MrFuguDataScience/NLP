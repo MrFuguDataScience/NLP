{
 "cells": [
  {
   "cell_type": "markdown",
   "metadata": {},
   "source": [
    "# `Russian Troll Tweets Part-03 NLP pre-processing`\n",
    "\n",
    "# <font color=red>Mr Fugu Data Science</font>\n",
    "\n",
    "# (◕‿◕✿)\n",
    "\n",
    "<font size=5>**`Help Support Channel: Patreon @mrfugudatasci`**</font>\n",
    "    \n",
    "**`Or Consider: Buy Me A Coffee @mrfugudatasci`**"
   ]
  },
  {
   "cell_type": "markdown",
   "metadata": {},
   "source": [
    "**PLEASE READ THIS:**\n",
    "\n",
    "**`In order to use the CSV, you will need to start from the first notebook due to size of file`**\n",
    "\n",
    "+ These are sequential videos doing steps to get to this point. You can directly download from Kaggle. I showed how to do this in a previous video. [Kaggle api](https://youtu.be/mmxbyfhG6Ss)"
   ]
  },
  {
   "cell_type": "code",
   "execution_count": 4,
   "metadata": {},
   "outputs": [],
   "source": [
    "import pandas as pd\n",
    "import numpy as np\n",
    "import re\n",
    "\n",
    "# plotting image with word cloud\n",
    "from PIL import Image                    # for our images\n",
    "import numpy as np                       # convert image to np arrays\n",
    "from wordcloud import WordCloud,ImageColorGenerator,STOPWORDS # generate word cloud\n",
    "import matplotlib.pyplot as plt          # plotting\n",
    "import seaborn as sns\n",
    "\n",
    "# nlp\n",
    "import nltk                              # text processing\n",
    "from nltk import word_tokenize           # split sentence into list of words\n",
    "from nltk.corpus import stopwords        # remove: and,it,i,etc\n",
    "import string                            # remove punctuation\n",
    "from collections import defaultdict      # dictionary with values as lists\n",
    "from nltk.stem import WordNetLemmatizer  # remove word endings etc\n",
    "\n",
    "%matplotlib inline"
   ]
  },
  {
   "cell_type": "code",
   "execution_count": 276,
   "metadata": {},
   "outputs": [
    {
     "data": {
      "text/html": [
       "<div>\n",
       "<style scoped>\n",
       "    .dataframe tbody tr th:only-of-type {\n",
       "        vertical-align: middle;\n",
       "    }\n",
       "\n",
       "    .dataframe tbody tr th {\n",
       "        vertical-align: top;\n",
       "    }\n",
       "\n",
       "    .dataframe thead th {\n",
       "        text-align: right;\n",
       "    }\n",
       "</style>\n",
       "<table border=\"1\" class=\"dataframe\">\n",
       "  <thead>\n",
       "    <tr style=\"text-align: right;\">\n",
       "      <th></th>\n",
       "      <th>author</th>\n",
       "      <th>region</th>\n",
       "      <th>language</th>\n",
       "      <th>publish_date</th>\n",
       "      <th>following</th>\n",
       "      <th>followers</th>\n",
       "      <th>updates</th>\n",
       "      <th>post_type</th>\n",
       "      <th>account_type</th>\n",
       "      <th>retweet</th>\n",
       "      <th>account_category</th>\n",
       "      <th>content without http</th>\n",
       "    </tr>\n",
       "  </thead>\n",
       "  <tbody>\n",
       "    <tr>\n",
       "      <th>2973365</th>\n",
       "      <td>_YOUR_LIFESTYLE</td>\n",
       "      <td>Unknown</td>\n",
       "      <td>Uzbek</td>\n",
       "      <td>9/7/2015 1:31</td>\n",
       "      <td>60</td>\n",
       "      <td>4</td>\n",
       "      <td>412</td>\n",
       "      <td>Other_Tweet</td>\n",
       "      <td>Russian</td>\n",
       "      <td>0</td>\n",
       "      <td>NonEnglish</td>\n",
       "      <td>Санкционный пинг-понг</td>\n",
       "    </tr>\n",
       "    <tr>\n",
       "      <th>2973366</th>\n",
       "      <td>_YOUR_LIFESTYLE</td>\n",
       "      <td>Unknown</td>\n",
       "      <td>Russian</td>\n",
       "      <td>9/8/2015 14:49</td>\n",
       "      <td>60</td>\n",
       "      <td>4</td>\n",
       "      <td>416</td>\n",
       "      <td>Other_Tweet</td>\n",
       "      <td>Russian</td>\n",
       "      <td>0</td>\n",
       "      <td>NonEnglish</td>\n",
       "      <td>Горизонтальный кальян NanoSmoke</td>\n",
       "    </tr>\n",
       "    <tr>\n",
       "      <th>2973367</th>\n",
       "      <td>_YOUR_LIFESTYLE</td>\n",
       "      <td>Unknown</td>\n",
       "      <td>Russian</td>\n",
       "      <td>9/9/2015 18:52</td>\n",
       "      <td>60</td>\n",
       "      <td>4</td>\n",
       "      <td>418</td>\n",
       "      <td>Other_Tweet</td>\n",
       "      <td>Russian</td>\n",
       "      <td>0</td>\n",
       "      <td>NonEnglish</td>\n",
       "      <td>Фотограф Kai-Hendrik Schroeder</td>\n",
       "    </tr>\n",
       "    <tr>\n",
       "      <th>2973368</th>\n",
       "      <td>_YOUR_LIFESTYLE</td>\n",
       "      <td>Unknown</td>\n",
       "      <td>Russian</td>\n",
       "      <td>9/9/2015 22:26</td>\n",
       "      <td>60</td>\n",
       "      <td>4</td>\n",
       "      <td>419</td>\n",
       "      <td>Other_Tweet</td>\n",
       "      <td>Russian</td>\n",
       "      <td>0</td>\n",
       "      <td>NonEnglish</td>\n",
       "      <td>К чему стремится компания Netflix (США)</td>\n",
       "    </tr>\n",
       "    <tr>\n",
       "      <th>2973369</th>\n",
       "      <td>_YOUR_LIFESTYLE</td>\n",
       "      <td>Unknown</td>\n",
       "      <td>Russian</td>\n",
       "      <td>9/9/2015 8:17</td>\n",
       "      <td>60</td>\n",
       "      <td>4</td>\n",
       "      <td>417</td>\n",
       "      <td>Other_Tweet</td>\n",
       "      <td>Russian</td>\n",
       "      <td>0</td>\n",
       "      <td>NonEnglish</td>\n",
       "      <td>В Петербурге появилось вегетарианское кафе в к...</td>\n",
       "    </tr>\n",
       "  </tbody>\n",
       "</table>\n",
       "</div>"
      ],
      "text/plain": [
       "                  author   region language    publish_date  following  \\\n",
       "2973365  _YOUR_LIFESTYLE  Unknown    Uzbek   9/7/2015 1:31         60   \n",
       "2973366  _YOUR_LIFESTYLE  Unknown  Russian  9/8/2015 14:49         60   \n",
       "2973367  _YOUR_LIFESTYLE  Unknown  Russian  9/9/2015 18:52         60   \n",
       "2973368  _YOUR_LIFESTYLE  Unknown  Russian  9/9/2015 22:26         60   \n",
       "2973369  _YOUR_LIFESTYLE  Unknown  Russian   9/9/2015 8:17         60   \n",
       "\n",
       "         followers  updates    post_type account_type  retweet  \\\n",
       "2973365          4      412  Other_Tweet      Russian        0   \n",
       "2973366          4      416  Other_Tweet      Russian        0   \n",
       "2973367          4      418  Other_Tweet      Russian        0   \n",
       "2973368          4      419  Other_Tweet      Russian        0   \n",
       "2973369          4      417  Other_Tweet      Russian        0   \n",
       "\n",
       "        account_category                               content without http  \n",
       "2973365       NonEnglish                             Санкционный пинг-понг   \n",
       "2973366       NonEnglish                   Горизонтальный кальян NanoSmoke   \n",
       "2973367       NonEnglish                    Фотограф Kai-Hendrik Schroeder   \n",
       "2973368       NonEnglish           К чему стремится компания Netflix (США)   \n",
       "2973369       NonEnglish  В Петербурге появилось вегетарианское кафе в к...  "
      ]
     },
     "execution_count": 276,
     "metadata": {},
     "output_type": "execute_result"
    }
   ],
   "source": [
    "troll_02=pd.read_csv('troll_tweets_vid02.csv')\n",
    "\n",
    "troll_02=troll_02.drop(['content','Unnamed: 0'],axis = 1)\n",
    "\n",
    "troll_02.tail()"
   ]
  },
  {
   "cell_type": "markdown",
   "metadata": {},
   "source": [
    "# We need to do some formatting of these data for NLP!\n",
    "\n",
    "+ Depending on our analysis dictates what we do..."
   ]
  },
  {
   "cell_type": "code",
   "execution_count": 278,
   "metadata": {},
   "outputs": [
    {
     "data": {
      "text/plain": [
       "0          19:58\n",
       "1          22:43\n",
       "2          22:50\n",
       "3          23:52\n",
       "4          02:13\n",
       "           ...  \n",
       "2973365    01:31\n",
       "2973366    14:49\n",
       "2973367    18:52\n",
       "2973368    22:26\n",
       "2973369    08:17\n",
       "Name: publish_date, Length: 2973370, dtype: object"
      ]
     },
     "execution_count": 278,
     "metadata": {},
     "output_type": "execute_result"
    }
   ],
   "source": [
    "round(troll_02['retweet'].mean(),3)\n",
    "\n",
    "# troll_02['publish_date']=pd.to_datetime(troll_02['publish_date'],\n",
    "#                                         infer_datetime_format=True)\n",
    "\n",
    "# troll_02['publish_date'].\\\n",
    "# dt.strftime('%H')"
   ]
  },
  {
   "cell_type": "code",
   "execution_count": 279,
   "metadata": {},
   "outputs": [],
   "source": [
    "# Convert str to date/time with pandas\n",
    "troll_02['publish_date']=pd.to_datetime(troll_02['publish_date'],\n",
    "                                        infer_datetime_format=True)\n",
    "\n",
    "troll_02.sort_values('publish_date',ascending=True)\n",
    "\n",
    "# Change formating to US dates\n",
    "troll_02['publish_date_Only']=troll_02['publish_date'].\\\n",
    "dt.strftime('%m/%d/%Y')\n",
    "\n",
    "troll_02['time']=troll_02['publish_date'].\\\n",
    "dt.strftime('%H')\n"
   ]
  },
  {
   "cell_type": "code",
   "execution_count": 280,
   "metadata": {},
   "outputs": [],
   "source": [
    "troll_02['publish_date_Only']=pd.to_datetime(troll_02['publish_date_Only'],\n",
    "                                        infer_datetime_format=True)\n",
    "\n",
    "# get range to encapsulate before and after election 2016\n",
    "mask = (troll_02['publish_date_Only'] > '08/31/2016') &\\\n",
    "(troll_02['publish_date_Only']  <= '01/01/02017')\n"
   ]
  },
  {
   "cell_type": "code",
   "execution_count": 281,
   "metadata": {},
   "outputs": [],
   "source": [
    "\n",
    "troll_dt_rng=troll_02[troll_02[\"publish_date_Only\"].isin(pd.date_range('2016-10-01', '2017-01-01'))].\\\n",
    "sort_values('publish_date_Only')"
   ]
  },
  {
   "cell_type": "code",
   "execution_count": 282,
   "metadata": {},
   "outputs": [
    {
     "data": {
      "text/plain": [
       "'@SenatorMenendez @CarmenYulinCruz Doesnt matter that CNN doesnt report on your crimes. This wont change the fact that youre going down.'"
      ]
     },
     "execution_count": 282,
     "metadata": {},
     "output_type": "execute_result"
    }
   ],
   "source": [
    "troll_02.loc[7,'content without http']"
   ]
  },
  {
   "cell_type": "markdown",
   "metadata": {},
   "source": [
    "# `Create Hashtag and Retweet columns:`\n",
    "\n",
    "We have some simple solutions but there are issues:\n",
    "This works but provides us with only first occurence `troll_02['content without http'].str.extract(r'@(\\S+)')`\n",
    "\n",
    "If we need a to find more: use `.extractall()` unfortunately it returns multi-index table and difficult to use.\n",
    "\n",
    "Therefore, I used a loop to deal with this. Unless, you have a good work around beaware of limitations as well as your options."
   ]
  },
  {
   "cell_type": "code",
   "execution_count": 283,
   "metadata": {},
   "outputs": [],
   "source": [
    "# Use this to parse Hashtags and @user\n",
    "\n",
    "def tweet_col_regx(df_col,re_pat):\n",
    "    q=[]\n",
    "    for i in df_col:\n",
    "        if type(i)==str and re.findall(re_pat,i):\n",
    "            q.append(re.findall(re_pat,i))\n",
    "        else:\n",
    "            q.append('None')\n",
    "    return q"
   ]
  },
  {
   "cell_type": "code",
   "execution_count": 284,
   "metadata": {},
   "outputs": [],
   "source": [
    "tweet_ref=tweet_col_regx(troll_dt_rng['content without http'],r'@(\\S+)')\n",
    "\n",
    "troll_dt_rng['tweet_ref']=tweet_ref"
   ]
  },
  {
   "cell_type": "code",
   "execution_count": 285,
   "metadata": {},
   "outputs": [],
   "source": [
    "\n",
    "hashtag_ref=tweet_col_regx(troll_dt_rng['content without http'],r'#(\\S+)')\n",
    "\n",
    "troll_dt_rng['hashtag_ref']=hashtag_ref"
   ]
  },
  {
   "cell_type": "code",
   "execution_count": 286,
   "metadata": {},
   "outputs": [],
   "source": [
    "# troll_dt_rng[troll_dt_rng['tweet_ref']!='None'] #verify it is working in this column"
   ]
  },
  {
   "cell_type": "code",
   "execution_count": 287,
   "metadata": {},
   "outputs": [],
   "source": [
    "# convert author/user name to lowercase for comparisons\n",
    "troll_dt_rng['author']=troll_dt_rng['author'].map(lambda x: x.lower())\n"
   ]
  },
  {
   "cell_type": "code",
   "execution_count": 288,
   "metadata": {},
   "outputs": [
    {
     "name": "stderr",
     "output_type": "stream",
     "text": [
      "/Users/zatoichi59/anaconda3/lib/python3.7/site-packages/ipykernel_launcher.py:9: FutureWarning: elementwise comparison failed; returning scalar instead, but in the future will perform elementwise comparison\n",
      "  if __name__ == '__main__':\n"
     ]
    },
    {
     "data": {
      "text/html": [
       "<div>\n",
       "<style scoped>\n",
       "    .dataframe tbody tr th:only-of-type {\n",
       "        vertical-align: middle;\n",
       "    }\n",
       "\n",
       "    .dataframe tbody tr th {\n",
       "        vertical-align: top;\n",
       "    }\n",
       "\n",
       "    .dataframe thead th {\n",
       "        text-align: right;\n",
       "    }\n",
       "</style>\n",
       "<table border=\"1\" class=\"dataframe\">\n",
       "  <thead>\n",
       "    <tr style=\"text-align: right;\">\n",
       "      <th></th>\n",
       "      <th>author</th>\n",
       "      <th>region</th>\n",
       "      <th>language</th>\n",
       "      <th>publish_date</th>\n",
       "      <th>following</th>\n",
       "      <th>followers</th>\n",
       "      <th>updates</th>\n",
       "      <th>post_type</th>\n",
       "      <th>account_type</th>\n",
       "      <th>retweet</th>\n",
       "      <th>account_category</th>\n",
       "      <th>content without http</th>\n",
       "      <th>publish_date_Only</th>\n",
       "      <th>time</th>\n",
       "      <th>tweet_ref</th>\n",
       "      <th>hashtag_ref</th>\n",
       "    </tr>\n",
       "  </thead>\n",
       "  <tbody>\n",
       "    <tr>\n",
       "      <th>2670625</th>\n",
       "      <td>todayinsyria</td>\n",
       "      <td>United Kingdom</td>\n",
       "      <td>English</td>\n",
       "      <td>2016-12-28 07:26:00</td>\n",
       "      <td>9397</td>\n",
       "      <td>28748</td>\n",
       "      <td>11341</td>\n",
       "      <td>Other_Tweet</td>\n",
       "      <td>news</td>\n",
       "      <td>0</td>\n",
       "      <td>NewsFeed</td>\n",
       "      <td>@todayinsyria its unknown whether he was suppl...</td>\n",
       "      <td>2016-12-28</td>\n",
       "      <td>07</td>\n",
       "      <td>[todayinsyria]</td>\n",
       "      <td>[ISIS]</td>\n",
       "    </tr>\n",
       "    <tr>\n",
       "      <th>2670682</th>\n",
       "      <td>todayinsyria</td>\n",
       "      <td>United Kingdom</td>\n",
       "      <td>English</td>\n",
       "      <td>2016-12-29 08:31:00</td>\n",
       "      <td>7888</td>\n",
       "      <td>28798</td>\n",
       "      <td>11376</td>\n",
       "      <td>Other_Tweet</td>\n",
       "      <td>news</td>\n",
       "      <td>0</td>\n",
       "      <td>NewsFeed</td>\n",
       "      <td>@todayinsyria more than 20 fighters from both ...</td>\n",
       "      <td>2016-12-29</td>\n",
       "      <td>08</td>\n",
       "      <td>[todayinsyria]</td>\n",
       "      <td>None</td>\n",
       "    </tr>\n",
       "    <tr>\n",
       "      <th>2670663</th>\n",
       "      <td>todayinsyria</td>\n",
       "      <td>United Kingdom</td>\n",
       "      <td>English</td>\n",
       "      <td>2016-12-29 13:25:00</td>\n",
       "      <td>7888</td>\n",
       "      <td>28813</td>\n",
       "      <td>11392</td>\n",
       "      <td>Other_Tweet</td>\n",
       "      <td>news</td>\n",
       "      <td>0</td>\n",
       "      <td>NewsFeed</td>\n",
       "      <td>@todayinsyria Iraqi security forces have liber...</td>\n",
       "      <td>2016-12-29</td>\n",
       "      <td>13</td>\n",
       "      <td>[todayinsyria]</td>\n",
       "      <td>[Mosul]</td>\n",
       "    </tr>\n",
       "    <tr>\n",
       "      <th>2665847</th>\n",
       "      <td>todayinsyria</td>\n",
       "      <td>United Kingdom</td>\n",
       "      <td>English</td>\n",
       "      <td>2017-01-01 13:29:00</td>\n",
       "      <td>7391</td>\n",
       "      <td>28783</td>\n",
       "      <td>11419</td>\n",
       "      <td>Other_Tweet</td>\n",
       "      <td>news</td>\n",
       "      <td>0</td>\n",
       "      <td>NewsFeed</td>\n",
       "      <td>@todayinsyria #ISIS releases pictures of bombe...</td>\n",
       "      <td>2017-01-01</td>\n",
       "      <td>13</td>\n",
       "      <td>[todayinsyria]</td>\n",
       "      <td>[ISIS]</td>\n",
       "    </tr>\n",
       "    <tr>\n",
       "      <th>2665850</th>\n",
       "      <td>todayinsyria</td>\n",
       "      <td>United Kingdom</td>\n",
       "      <td>English</td>\n",
       "      <td>2017-01-01 13:53:00</td>\n",
       "      <td>7390</td>\n",
       "      <td>28779</td>\n",
       "      <td>11422</td>\n",
       "      <td>Other_Tweet</td>\n",
       "      <td>news</td>\n",
       "      <td>0</td>\n",
       "      <td>NewsFeed</td>\n",
       "      <td>@todayinsyria #SAA artillery pounded #ISIS mil...</td>\n",
       "      <td>2017-01-01</td>\n",
       "      <td>13</td>\n",
       "      <td>[todayinsyria]</td>\n",
       "      <td>[SAA, ISIS]</td>\n",
       "    </tr>\n",
       "  </tbody>\n",
       "</table>\n",
       "</div>"
      ],
      "text/plain": [
       "               author          region language        publish_date  following  \\\n",
       "2670625  todayinsyria  United Kingdom  English 2016-12-28 07:26:00       9397   \n",
       "2670682  todayinsyria  United Kingdom  English 2016-12-29 08:31:00       7888   \n",
       "2670663  todayinsyria  United Kingdom  English 2016-12-29 13:25:00       7888   \n",
       "2665847  todayinsyria  United Kingdom  English 2017-01-01 13:29:00       7391   \n",
       "2665850  todayinsyria  United Kingdom  English 2017-01-01 13:53:00       7390   \n",
       "\n",
       "         followers  updates    post_type account_type  retweet  \\\n",
       "2670625      28748    11341  Other_Tweet         news        0   \n",
       "2670682      28798    11376  Other_Tweet         news        0   \n",
       "2670663      28813    11392  Other_Tweet         news        0   \n",
       "2665847      28783    11419  Other_Tweet         news        0   \n",
       "2665850      28779    11422  Other_Tweet         news        0   \n",
       "\n",
       "        account_category                               content without http  \\\n",
       "2670625         NewsFeed  @todayinsyria its unknown whether he was suppl...   \n",
       "2670682         NewsFeed  @todayinsyria more than 20 fighters from both ...   \n",
       "2670663         NewsFeed  @todayinsyria Iraqi security forces have liber...   \n",
       "2665847         NewsFeed  @todayinsyria #ISIS releases pictures of bombe...   \n",
       "2665850         NewsFeed  @todayinsyria #SAA artillery pounded #ISIS mil...   \n",
       "\n",
       "        publish_date_Only time       tweet_ref  hashtag_ref  \n",
       "2670625        2016-12-28   07  [todayinsyria]       [ISIS]  \n",
       "2670682        2016-12-29   08  [todayinsyria]         None  \n",
       "2670663        2016-12-29   13  [todayinsyria]      [Mosul]  \n",
       "2665847        2017-01-01   13  [todayinsyria]       [ISIS]  \n",
       "2665850        2017-01-01   13  [todayinsyria]  [SAA, ISIS]  "
      ]
     },
     "execution_count": 288,
     "metadata": {},
     "output_type": "execute_result"
    }
   ],
   "source": [
    "\n",
    "troll_dt_rng.head(9)\n",
    "\n",
    "\n",
    "user_list = troll_dt_rng['author'].unique()\n",
    "\n",
    "#Define a function to test whether a value is part\n",
    "# of the authors (for apply function below)\n",
    "def test_in(el):\n",
    "    return (el in user_list)\n",
    "\n",
    "#create a new column in tweets indicating whether the source \n",
    "# of a retweeted tweet was in our list of user_names\n",
    "\n",
    "troll_dt_rng[troll_dt_rng['tweet_ref'].apply(test_in)==True].tail()"
   ]
  },
  {
   "cell_type": "code",
   "execution_count": 289,
   "metadata": {},
   "outputs": [
    {
     "name": "stdout",
     "output_type": "stream",
     "text": [
      "Proportion of Users w/ High Follower Count (ALL-SUBset data): 0.358\n"
     ]
    }
   ],
   "source": [
    "# Friend To Follower Ratios: \n",
    "troll_dt_rng['follower_to_following_Ratio']=np.where(troll_dt_rng['followers']/\\\n",
    "                        troll_dt_rng['following']==np.inf\n",
    "                     , troll_dt_rng['followers'], \n",
    "         troll_dt_rng['followers']/troll_dt_rng['following'])\n",
    "\n",
    "\n",
    "print('Proportion of Users w/ High Follower Count (ALL-SUBset data):',\\\n",
    "round(troll_dt_rng[troll_dt_rng['follower_to_following_Ratio']>2].shape[0]/\\\n",
    "troll_dt_rng[troll_dt_rng['follower_to_following_Ratio']<2].shape[0],3))"
   ]
  },
  {
   "cell_type": "code",
   "execution_count": 290,
   "metadata": {},
   "outputs": [
    {
     "data": {
      "text/html": [
       "<div>\n",
       "<style scoped>\n",
       "    .dataframe tbody tr th:only-of-type {\n",
       "        vertical-align: middle;\n",
       "    }\n",
       "\n",
       "    .dataframe tbody tr th {\n",
       "        vertical-align: top;\n",
       "    }\n",
       "\n",
       "    .dataframe thead th {\n",
       "        text-align: right;\n",
       "    }\n",
       "</style>\n",
       "<table border=\"1\" class=\"dataframe\">\n",
       "  <thead>\n",
       "    <tr style=\"text-align: right;\">\n",
       "      <th></th>\n",
       "      <th>author</th>\n",
       "      <th>region</th>\n",
       "      <th>language</th>\n",
       "      <th>publish_date</th>\n",
       "      <th>following</th>\n",
       "      <th>followers</th>\n",
       "      <th>updates</th>\n",
       "      <th>post_type</th>\n",
       "      <th>account_type</th>\n",
       "      <th>retweet</th>\n",
       "      <th>account_category</th>\n",
       "      <th>content without http</th>\n",
       "      <th>publish_date_Only</th>\n",
       "      <th>time</th>\n",
       "      <th>tweet_ref</th>\n",
       "      <th>hashtag_ref</th>\n",
       "      <th>follower_to_following_Ratio</th>\n",
       "    </tr>\n",
       "  </thead>\n",
       "  <tbody>\n",
       "    <tr>\n",
       "      <th>1487417</th>\n",
       "      <td>kadirovrussia</td>\n",
       "      <td>Unknown</td>\n",
       "      <td>Russian</td>\n",
       "      <td>2016-12-07 07:55:00</td>\n",
       "      <td>0</td>\n",
       "      <td>95629</td>\n",
       "      <td>11191</td>\n",
       "      <td>Other_Tweet</td>\n",
       "      <td>Russian</td>\n",
       "      <td>0</td>\n",
       "      <td>NonEnglish</td>\n",
       "      <td>Лично договорился?</td>\n",
       "      <td>2016-12-07</td>\n",
       "      <td>07</td>\n",
       "      <td>None</td>\n",
       "      <td>None</td>\n",
       "      <td>95629.0</td>\n",
       "    </tr>\n",
       "    <tr>\n",
       "      <th>1429375</th>\n",
       "      <td>jenn_abrams</td>\n",
       "      <td>United States</td>\n",
       "      <td>English</td>\n",
       "      <td>2016-12-07 07:45:00</td>\n",
       "      <td>0</td>\n",
       "      <td>63581</td>\n",
       "      <td>21385</td>\n",
       "      <td>QUOTE_TWEET</td>\n",
       "      <td>Right</td>\n",
       "      <td>1</td>\n",
       "      <td>RightTroll</td>\n",
       "      <td>Guys, I got blocked, something is wrong with T...</td>\n",
       "      <td>2016-12-07</td>\n",
       "      <td>07</td>\n",
       "      <td>None</td>\n",
       "      <td>None</td>\n",
       "      <td>63581.0</td>\n",
       "    </tr>\n",
       "    <tr>\n",
       "      <th>1429376</th>\n",
       "      <td>jenn_abrams</td>\n",
       "      <td>United States</td>\n",
       "      <td>English</td>\n",
       "      <td>2016-12-07 07:49:00</td>\n",
       "      <td>0</td>\n",
       "      <td>63580</td>\n",
       "      <td>21386</td>\n",
       "      <td>Other_Tweet</td>\n",
       "      <td>Right</td>\n",
       "      <td>0</td>\n",
       "      <td>RightTroll</td>\n",
       "      <td>@Trump_Row @PatriotTrumpet ✋�</td>\n",
       "      <td>2016-12-07</td>\n",
       "      <td>07</td>\n",
       "      <td>[Trump_Row, PatriotTrumpet]</td>\n",
       "      <td>None</td>\n",
       "      <td>63580.0</td>\n",
       "    </tr>\n",
       "    <tr>\n",
       "      <th>1429374</th>\n",
       "      <td>jenn_abrams</td>\n",
       "      <td>United States</td>\n",
       "      <td>English</td>\n",
       "      <td>2016-12-07 07:43:00</td>\n",
       "      <td>0</td>\n",
       "      <td>63578</td>\n",
       "      <td>21383</td>\n",
       "      <td>Other_Tweet</td>\n",
       "      <td>Right</td>\n",
       "      <td>0</td>\n",
       "      <td>RightTroll</td>\n",
       "      <td>@SandyGraves7 @NYCdeb8tr Im not a trump supporter</td>\n",
       "      <td>2016-12-07</td>\n",
       "      <td>07</td>\n",
       "      <td>[SandyGraves7, NYCdeb8tr]</td>\n",
       "      <td>None</td>\n",
       "      <td>63578.0</td>\n",
       "    </tr>\n",
       "    <tr>\n",
       "      <th>1944157</th>\n",
       "      <td>novostiekb</td>\n",
       "      <td>Unknown</td>\n",
       "      <td>Russian</td>\n",
       "      <td>2016-11-29 13:32:00</td>\n",
       "      <td>0</td>\n",
       "      <td>45230</td>\n",
       "      <td>9209</td>\n",
       "      <td>Other_Tweet</td>\n",
       "      <td>Russian</td>\n",
       "      <td>0</td>\n",
       "      <td>NonEnglish</td>\n",
       "      <td>В Екатеринбурге открылся голубиный ресторан</td>\n",
       "      <td>2016-11-29</td>\n",
       "      <td>13</td>\n",
       "      <td>None</td>\n",
       "      <td>None</td>\n",
       "      <td>45230.0</td>\n",
       "    </tr>\n",
       "    <tr>\n",
       "      <th>1969071</th>\n",
       "      <td>novostiomska</td>\n",
       "      <td>Unknown</td>\n",
       "      <td>Russian</td>\n",
       "      <td>2016-11-14 04:32:00</td>\n",
       "      <td>0</td>\n",
       "      <td>40273</td>\n",
       "      <td>7392</td>\n",
       "      <td>Other_Tweet</td>\n",
       "      <td>Russian</td>\n",
       "      <td>0</td>\n",
       "      <td>NonEnglish</td>\n",
       "      <td>Обещанный к 300-летию Омска кинотеатр Первомай...</td>\n",
       "      <td>2016-11-14</td>\n",
       "      <td>04</td>\n",
       "      <td>None</td>\n",
       "      <td>[Омск]</td>\n",
       "      <td>40273.0</td>\n",
       "    </tr>\n",
       "    <tr>\n",
       "      <th>686822</th>\n",
       "      <td>crystal1johnson</td>\n",
       "      <td>United States</td>\n",
       "      <td>English</td>\n",
       "      <td>2016-12-08 01:57:00</td>\n",
       "      <td>0</td>\n",
       "      <td>25443</td>\n",
       "      <td>3091</td>\n",
       "      <td>Other_Tweet</td>\n",
       "      <td>left</td>\n",
       "      <td>0</td>\n",
       "      <td>LeftTroll</td>\n",
       "      <td>My job during my season is to provide cheer, j...</td>\n",
       "      <td>2016-12-08</td>\n",
       "      <td>01</td>\n",
       "      <td>None</td>\n",
       "      <td>None</td>\n",
       "      <td>25443.0</td>\n",
       "    </tr>\n",
       "    <tr>\n",
       "      <th>686823</th>\n",
       "      <td>crystal1johnson</td>\n",
       "      <td>United States</td>\n",
       "      <td>English</td>\n",
       "      <td>2016-12-08 01:58:00</td>\n",
       "      <td>0</td>\n",
       "      <td>25443</td>\n",
       "      <td>3092</td>\n",
       "      <td>QUOTE_TWEET</td>\n",
       "      <td>left</td>\n",
       "      <td>1</td>\n",
       "      <td>LeftTroll</td>\n",
       "      <td>Black Santa is the greatest!</td>\n",
       "      <td>2016-12-08</td>\n",
       "      <td>01</td>\n",
       "      <td>None</td>\n",
       "      <td>None</td>\n",
       "      <td>25443.0</td>\n",
       "    </tr>\n",
       "    <tr>\n",
       "      <th>384865</th>\n",
       "      <td>boeing_is_back</td>\n",
       "      <td>Malaysia</td>\n",
       "      <td>Russian</td>\n",
       "      <td>2016-10-17 10:01:00</td>\n",
       "      <td>0</td>\n",
       "      <td>24235</td>\n",
       "      <td>3036</td>\n",
       "      <td>Other_Tweet</td>\n",
       "      <td>Russian</td>\n",
       "      <td>0</td>\n",
       "      <td>NonEnglish</td>\n",
       "      <td>Все, что вы хотели знать о сыре, но боялись сп...</td>\n",
       "      <td>2016-10-17</td>\n",
       "      <td>10</td>\n",
       "      <td>None</td>\n",
       "      <td>None</td>\n",
       "      <td>24235.0</td>\n",
       "    </tr>\n",
       "    <tr>\n",
       "      <th>1938044</th>\n",
       "      <td>novostidamask</td>\n",
       "      <td>Unknown</td>\n",
       "      <td>Russian</td>\n",
       "      <td>2016-12-06 16:02:00</td>\n",
       "      <td>0</td>\n",
       "      <td>21463</td>\n",
       "      <td>10342</td>\n",
       "      <td>Other_Tweet</td>\n",
       "      <td>Russian</td>\n",
       "      <td>0</td>\n",
       "      <td>NonEnglish</td>\n",
       "      <td>Российские военные доставили гуманитарную помо...</td>\n",
       "      <td>2016-12-06</td>\n",
       "      <td>16</td>\n",
       "      <td>None</td>\n",
       "      <td>None</td>\n",
       "      <td>21463.0</td>\n",
       "    </tr>\n",
       "  </tbody>\n",
       "</table>\n",
       "</div>"
      ],
      "text/plain": [
       "                  author         region language        publish_date  \\\n",
       "1487417    kadirovrussia        Unknown  Russian 2016-12-07 07:55:00   \n",
       "1429375      jenn_abrams  United States  English 2016-12-07 07:45:00   \n",
       "1429376      jenn_abrams  United States  English 2016-12-07 07:49:00   \n",
       "1429374      jenn_abrams  United States  English 2016-12-07 07:43:00   \n",
       "1944157       novostiekb        Unknown  Russian 2016-11-29 13:32:00   \n",
       "1969071     novostiomska        Unknown  Russian 2016-11-14 04:32:00   \n",
       "686822   crystal1johnson  United States  English 2016-12-08 01:57:00   \n",
       "686823   crystal1johnson  United States  English 2016-12-08 01:58:00   \n",
       "384865    boeing_is_back       Malaysia  Russian 2016-10-17 10:01:00   \n",
       "1938044    novostidamask        Unknown  Russian 2016-12-06 16:02:00   \n",
       "\n",
       "         following  followers  updates    post_type account_type  retweet  \\\n",
       "1487417          0      95629    11191  Other_Tweet      Russian        0   \n",
       "1429375          0      63581    21385  QUOTE_TWEET        Right        1   \n",
       "1429376          0      63580    21386  Other_Tweet        Right        0   \n",
       "1429374          0      63578    21383  Other_Tweet        Right        0   \n",
       "1944157          0      45230     9209  Other_Tweet      Russian        0   \n",
       "1969071          0      40273     7392  Other_Tweet      Russian        0   \n",
       "686822           0      25443     3091  Other_Tweet         left        0   \n",
       "686823           0      25443     3092  QUOTE_TWEET         left        1   \n",
       "384865           0      24235     3036  Other_Tweet      Russian        0   \n",
       "1938044          0      21463    10342  Other_Tweet      Russian        0   \n",
       "\n",
       "        account_category                               content without http  \\\n",
       "1487417       NonEnglish                                Лично договорился?    \n",
       "1429375       RightTroll  Guys, I got blocked, something is wrong with T...   \n",
       "1429376       RightTroll                     @Trump_Row @PatriotTrumpet ✋�    \n",
       "1429374       RightTroll  @SandyGraves7 @NYCdeb8tr Im not a trump supporter   \n",
       "1944157       NonEnglish       В Екатеринбурге открылся голубиный ресторан    \n",
       "1969071       NonEnglish  Обещанный к 300-летию Омска кинотеатр Первомай...   \n",
       "686822         LeftTroll  My job during my season is to provide cheer, j...   \n",
       "686823         LeftTroll                      Black Santa is the greatest!    \n",
       "384865        NonEnglish  Все, что вы хотели знать о сыре, но боялись сп...   \n",
       "1938044       NonEnglish  Российские военные доставили гуманитарную помо...   \n",
       "\n",
       "        publish_date_Only time                    tweet_ref hashtag_ref  \\\n",
       "1487417        2016-12-07   07                         None        None   \n",
       "1429375        2016-12-07   07                         None        None   \n",
       "1429376        2016-12-07   07  [Trump_Row, PatriotTrumpet]        None   \n",
       "1429374        2016-12-07   07    [SandyGraves7, NYCdeb8tr]        None   \n",
       "1944157        2016-11-29   13                         None        None   \n",
       "1969071        2016-11-14   04                         None      [Омск]   \n",
       "686822         2016-12-08   01                         None        None   \n",
       "686823         2016-12-08   01                         None        None   \n",
       "384865         2016-10-17   10                         None        None   \n",
       "1938044        2016-12-06   16                         None        None   \n",
       "\n",
       "         follower_to_following_Ratio  \n",
       "1487417                      95629.0  \n",
       "1429375                      63581.0  \n",
       "1429376                      63580.0  \n",
       "1429374                      63578.0  \n",
       "1944157                      45230.0  \n",
       "1969071                      40273.0  \n",
       "686822                       25443.0  \n",
       "686823                       25443.0  \n",
       "384865                       24235.0  \n",
       "1938044                      21463.0  "
      ]
     },
     "execution_count": 290,
     "metadata": {},
     "output_type": "execute_result"
    }
   ],
   "source": [
    "troll_dt_rng.sort_values('follower_to_following_Ratio',ascending=False)[:10]"
   ]
  },
  {
   "cell_type": "markdown",
   "metadata": {},
   "source": [
    "# `Check fraction of tweets as retweets:`"
   ]
  },
  {
   "cell_type": "code",
   "execution_count": 291,
   "metadata": {},
   "outputs": [
    {
     "data": {
      "text/html": [
       "<div>\n",
       "<style scoped>\n",
       "    .dataframe tbody tr th:only-of-type {\n",
       "        vertical-align: middle;\n",
       "    }\n",
       "\n",
       "    .dataframe tbody tr th {\n",
       "        vertical-align: top;\n",
       "    }\n",
       "\n",
       "    .dataframe thead th {\n",
       "        text-align: right;\n",
       "    }\n",
       "</style>\n",
       "<table border=\"1\" class=\"dataframe\">\n",
       "  <thead>\n",
       "    <tr style=\"text-align: right;\">\n",
       "      <th></th>\n",
       "      <th>author</th>\n",
       "      <th>region</th>\n",
       "      <th>language</th>\n",
       "      <th>publish_date</th>\n",
       "      <th>following</th>\n",
       "      <th>followers</th>\n",
       "      <th>updates</th>\n",
       "      <th>post_type</th>\n",
       "      <th>account_type</th>\n",
       "      <th>retweet</th>\n",
       "      <th>account_category</th>\n",
       "      <th>content without http</th>\n",
       "      <th>publish_date_Only</th>\n",
       "      <th>time</th>\n",
       "      <th>tweet_ref</th>\n",
       "      <th>hashtag_ref</th>\n",
       "      <th>follower_to_following_Ratio</th>\n",
       "    </tr>\n",
       "  </thead>\n",
       "  <tbody>\n",
       "    <tr>\n",
       "      <th>2299654</th>\n",
       "      <td>richmondvoice</td>\n",
       "      <td>United States</td>\n",
       "      <td>English</td>\n",
       "      <td>2016-10-01 13:49:00</td>\n",
       "      <td>4731</td>\n",
       "      <td>2811</td>\n",
       "      <td>4778</td>\n",
       "      <td>Other_Tweet</td>\n",
       "      <td>local</td>\n",
       "      <td>0</td>\n",
       "      <td>NewsFeed</td>\n",
       "      <td>Chesterfield County Police respond to a wareho...</td>\n",
       "      <td>2016-10-01</td>\n",
       "      <td>13</td>\n",
       "      <td>None</td>\n",
       "      <td>None</td>\n",
       "      <td>0.594166</td>\n",
       "    </tr>\n",
       "    <tr>\n",
       "      <th>2299655</th>\n",
       "      <td>richmondvoice</td>\n",
       "      <td>United States</td>\n",
       "      <td>English</td>\n",
       "      <td>2016-10-01 14:16:00</td>\n",
       "      <td>4731</td>\n",
       "      <td>2811</td>\n",
       "      <td>4779</td>\n",
       "      <td>Other_Tweet</td>\n",
       "      <td>local</td>\n",
       "      <td>0</td>\n",
       "      <td>NewsFeed</td>\n",
       "      <td>Petersburg Police investigating after deadly s...</td>\n",
       "      <td>2016-10-01</td>\n",
       "      <td>14</td>\n",
       "      <td>None</td>\n",
       "      <td>None</td>\n",
       "      <td>0.594166</td>\n",
       "    </tr>\n",
       "    <tr>\n",
       "      <th>2299656</th>\n",
       "      <td>richmondvoice</td>\n",
       "      <td>United States</td>\n",
       "      <td>English</td>\n",
       "      <td>2016-10-01 15:03:00</td>\n",
       "      <td>4731</td>\n",
       "      <td>2811</td>\n",
       "      <td>4781</td>\n",
       "      <td>Other_Tweet</td>\n",
       "      <td>local</td>\n",
       "      <td>0</td>\n",
       "      <td>NewsFeed</td>\n",
       "      <td>Flint Residents On Federal Aid Deal: Too Littl...</td>\n",
       "      <td>2016-10-01</td>\n",
       "      <td>15</td>\n",
       "      <td>None</td>\n",
       "      <td>None</td>\n",
       "      <td>0.594166</td>\n",
       "    </tr>\n",
       "    <tr>\n",
       "      <th>2299657</th>\n",
       "      <td>richmondvoice</td>\n",
       "      <td>United States</td>\n",
       "      <td>English</td>\n",
       "      <td>2016-10-01 15:06:00</td>\n",
       "      <td>4731</td>\n",
       "      <td>2811</td>\n",
       "      <td>4782</td>\n",
       "      <td>Other_Tweet</td>\n",
       "      <td>local</td>\n",
       "      <td>0</td>\n",
       "      <td>NewsFeed</td>\n",
       "      <td>Mob informant trades witness protection for $1...</td>\n",
       "      <td>2016-10-01</td>\n",
       "      <td>15</td>\n",
       "      <td>None</td>\n",
       "      <td>None</td>\n",
       "      <td>0.594166</td>\n",
       "    </tr>\n",
       "    <tr>\n",
       "      <th>2299658</th>\n",
       "      <td>richmondvoice</td>\n",
       "      <td>United States</td>\n",
       "      <td>English</td>\n",
       "      <td>2016-10-01 15:33:00</td>\n",
       "      <td>4731</td>\n",
       "      <td>2811</td>\n",
       "      <td>4783</td>\n",
       "      <td>Other_Tweet</td>\n",
       "      <td>local</td>\n",
       "      <td>0</td>\n",
       "      <td>NewsFeed</td>\n",
       "      <td>Man found dead outside Petersburg home</td>\n",
       "      <td>2016-10-01</td>\n",
       "      <td>15</td>\n",
       "      <td>None</td>\n",
       "      <td>None</td>\n",
       "      <td>0.594166</td>\n",
       "    </tr>\n",
       "  </tbody>\n",
       "</table>\n",
       "</div>"
      ],
      "text/plain": [
       "                author         region language        publish_date  following  \\\n",
       "2299654  richmondvoice  United States  English 2016-10-01 13:49:00       4731   \n",
       "2299655  richmondvoice  United States  English 2016-10-01 14:16:00       4731   \n",
       "2299656  richmondvoice  United States  English 2016-10-01 15:03:00       4731   \n",
       "2299657  richmondvoice  United States  English 2016-10-01 15:06:00       4731   \n",
       "2299658  richmondvoice  United States  English 2016-10-01 15:33:00       4731   \n",
       "\n",
       "         followers  updates    post_type account_type  retweet  \\\n",
       "2299654       2811     4778  Other_Tweet        local        0   \n",
       "2299655       2811     4779  Other_Tweet        local        0   \n",
       "2299656       2811     4781  Other_Tweet        local        0   \n",
       "2299657       2811     4782  Other_Tweet        local        0   \n",
       "2299658       2811     4783  Other_Tweet        local        0   \n",
       "\n",
       "        account_category                               content without http  \\\n",
       "2299654         NewsFeed  Chesterfield County Police respond to a wareho...   \n",
       "2299655         NewsFeed  Petersburg Police investigating after deadly s...   \n",
       "2299656         NewsFeed  Flint Residents On Federal Aid Deal: Too Littl...   \n",
       "2299657         NewsFeed  Mob informant trades witness protection for $1...   \n",
       "2299658         NewsFeed            Man found dead outside Petersburg home    \n",
       "\n",
       "        publish_date_Only time tweet_ref hashtag_ref  \\\n",
       "2299654        2016-10-01   13      None        None   \n",
       "2299655        2016-10-01   14      None        None   \n",
       "2299656        2016-10-01   15      None        None   \n",
       "2299657        2016-10-01   15      None        None   \n",
       "2299658        2016-10-01   15      None        None   \n",
       "\n",
       "         follower_to_following_Ratio  \n",
       "2299654                     0.594166  \n",
       "2299655                     0.594166  \n",
       "2299656                     0.594166  \n",
       "2299657                     0.594166  \n",
       "2299658                     0.594166  "
      ]
     },
     "execution_count": 291,
     "metadata": {},
     "output_type": "execute_result"
    }
   ],
   "source": [
    "# Subset English: \n",
    "\n",
    "eng_subset=troll_dt_rng[troll_dt_rng['language']=='English']\n",
    "eng_subset.head()"
   ]
  },
  {
   "cell_type": "code",
   "execution_count": 292,
   "metadata": {},
   "outputs": [
    {
     "name": "stdout",
     "output_type": "stream",
     "text": [
      "Proportion of Users w/ High Follower Count (ENGLISH): 0.174\n"
     ]
    }
   ],
   "source": [
    "pd.set_option('mode.chained_assignment', None) # ignore pandas warning: \n",
    "# \"A value is trying to be set on a copy of a slice from a DataFrame\"\n",
    "\n",
    "print('Proportion of Users w/ High Follower Count (ENGLISH):',\\\n",
    "round(eng_subset[eng_subset['follower_to_following_Ratio']>2].shape[0]/\\\n",
    "eng_subset['follower_to_following_Ratio'].shape[0],3))"
   ]
  },
  {
   "cell_type": "code",
   "execution_count": 293,
   "metadata": {},
   "outputs": [
    {
     "data": {
      "text/html": [
       "<div>\n",
       "<style scoped>\n",
       "    .dataframe tbody tr th:only-of-type {\n",
       "        vertical-align: middle;\n",
       "    }\n",
       "\n",
       "    .dataframe tbody tr th {\n",
       "        vertical-align: top;\n",
       "    }\n",
       "\n",
       "    .dataframe thead th {\n",
       "        text-align: right;\n",
       "    }\n",
       "</style>\n",
       "<table border=\"1\" class=\"dataframe\">\n",
       "  <thead>\n",
       "    <tr style=\"text-align: right;\">\n",
       "      <th></th>\n",
       "      <th>author</th>\n",
       "      <th>region</th>\n",
       "      <th>language</th>\n",
       "      <th>publish_date</th>\n",
       "      <th>following</th>\n",
       "      <th>followers</th>\n",
       "      <th>updates</th>\n",
       "      <th>post_type</th>\n",
       "      <th>account_type</th>\n",
       "      <th>retweet</th>\n",
       "      <th>account_category</th>\n",
       "      <th>content without http</th>\n",
       "      <th>publish_date_Only</th>\n",
       "      <th>time</th>\n",
       "      <th>tweet_ref</th>\n",
       "      <th>hashtag_ref</th>\n",
       "      <th>follower_to_following_Ratio</th>\n",
       "    </tr>\n",
       "  </thead>\n",
       "  <tbody>\n",
       "    <tr>\n",
       "      <th>2857939</th>\n",
       "      <td>whitehousecards</td>\n",
       "      <td>United States</td>\n",
       "      <td>Russian</td>\n",
       "      <td>2016-10-01 10:06:00</td>\n",
       "      <td>3974</td>\n",
       "      <td>7927</td>\n",
       "      <td>722</td>\n",
       "      <td>Other_Tweet</td>\n",
       "      <td>Russian</td>\n",
       "      <td>0</td>\n",
       "      <td>NonEnglish</td>\n",
       "      <td>На Newsweek были совершены кибератаки после то...</td>\n",
       "      <td>2016-10-01</td>\n",
       "      <td>10</td>\n",
       "      <td>None</td>\n",
       "      <td>None</td>\n",
       "      <td>1.994716</td>\n",
       "    </tr>\n",
       "    <tr>\n",
       "      <th>1980409</th>\n",
       "      <td>novostispb</td>\n",
       "      <td>Russian Federation</td>\n",
       "      <td>Russian</td>\n",
       "      <td>2016-10-01 17:05:00</td>\n",
       "      <td>8732</td>\n",
       "      <td>105448</td>\n",
       "      <td>38355</td>\n",
       "      <td>Other_Tweet</td>\n",
       "      <td>Russian</td>\n",
       "      <td>0</td>\n",
       "      <td>NonEnglish</td>\n",
       "      <td>Ёжик, блуждая в тумане, забрёл в #Петербург. К...</td>\n",
       "      <td>2016-10-01</td>\n",
       "      <td>17</td>\n",
       "      <td>None</td>\n",
       "      <td>[Петербург.]</td>\n",
       "      <td>12.076042</td>\n",
       "    </tr>\n",
       "    <tr>\n",
       "      <th>1980408</th>\n",
       "      <td>novostispb</td>\n",
       "      <td>Russian Federation</td>\n",
       "      <td>Russian</td>\n",
       "      <td>2016-10-01 14:00:00</td>\n",
       "      <td>8731</td>\n",
       "      <td>105447</td>\n",
       "      <td>38353</td>\n",
       "      <td>Other_Tweet</td>\n",
       "      <td>Russian</td>\n",
       "      <td>0</td>\n",
       "      <td>NonEnglish</td>\n",
       "      <td>Так выглядела Сенная площадь в далеком 1933 году</td>\n",
       "      <td>2016-10-01</td>\n",
       "      <td>14</td>\n",
       "      <td>None</td>\n",
       "      <td>None</td>\n",
       "      <td>12.077311</td>\n",
       "    </tr>\n",
       "    <tr>\n",
       "      <th>1980407</th>\n",
       "      <td>novostispb</td>\n",
       "      <td>Russian Federation</td>\n",
       "      <td>Russian</td>\n",
       "      <td>2016-10-01 13:00:00</td>\n",
       "      <td>8731</td>\n",
       "      <td>105447</td>\n",
       "      <td>38352</td>\n",
       "      <td>Other_Tweet</td>\n",
       "      <td>Russian</td>\n",
       "      <td>0</td>\n",
       "      <td>NonEnglish</td>\n",
       "      <td>Очень актуальная инструкция для Петербурга - к...</td>\n",
       "      <td>2016-10-01</td>\n",
       "      <td>13</td>\n",
       "      <td>None</td>\n",
       "      <td>None</td>\n",
       "      <td>12.077311</td>\n",
       "    </tr>\n",
       "    <tr>\n",
       "      <th>1980406</th>\n",
       "      <td>novostispb</td>\n",
       "      <td>Russian Federation</td>\n",
       "      <td>Russian</td>\n",
       "      <td>2016-10-01 12:00:00</td>\n",
       "      <td>8731</td>\n",
       "      <td>105448</td>\n",
       "      <td>38350</td>\n",
       "      <td>Other_Tweet</td>\n",
       "      <td>Russian</td>\n",
       "      <td>0</td>\n",
       "      <td>NonEnglish</td>\n",
       "      <td>Друзья! Предлагаем Вам небольшую задачку � И н...</td>\n",
       "      <td>2016-10-01</td>\n",
       "      <td>12</td>\n",
       "      <td>None</td>\n",
       "      <td>None</td>\n",
       "      <td>12.077425</td>\n",
       "    </tr>\n",
       "  </tbody>\n",
       "</table>\n",
       "</div>"
      ],
      "text/plain": [
       "                  author              region language        publish_date  \\\n",
       "2857939  whitehousecards       United States  Russian 2016-10-01 10:06:00   \n",
       "1980409       novostispb  Russian Federation  Russian 2016-10-01 17:05:00   \n",
       "1980408       novostispb  Russian Federation  Russian 2016-10-01 14:00:00   \n",
       "1980407       novostispb  Russian Federation  Russian 2016-10-01 13:00:00   \n",
       "1980406       novostispb  Russian Federation  Russian 2016-10-01 12:00:00   \n",
       "\n",
       "         following  followers  updates    post_type account_type  retweet  \\\n",
       "2857939       3974       7927      722  Other_Tweet      Russian        0   \n",
       "1980409       8732     105448    38355  Other_Tweet      Russian        0   \n",
       "1980408       8731     105447    38353  Other_Tweet      Russian        0   \n",
       "1980407       8731     105447    38352  Other_Tweet      Russian        0   \n",
       "1980406       8731     105448    38350  Other_Tweet      Russian        0   \n",
       "\n",
       "        account_category                               content without http  \\\n",
       "2857939       NonEnglish  На Newsweek были совершены кибератаки после то...   \n",
       "1980409       NonEnglish  Ёжик, блуждая в тумане, забрёл в #Петербург. К...   \n",
       "1980408       NonEnglish  Так выглядела Сенная площадь в далеком 1933 году    \n",
       "1980407       NonEnglish  Очень актуальная инструкция для Петербурга - к...   \n",
       "1980406       NonEnglish  Друзья! Предлагаем Вам небольшую задачку � И н...   \n",
       "\n",
       "        publish_date_Only time tweet_ref   hashtag_ref  \\\n",
       "2857939        2016-10-01   10      None          None   \n",
       "1980409        2016-10-01   17      None  [Петербург.]   \n",
       "1980408        2016-10-01   14      None          None   \n",
       "1980407        2016-10-01   13      None          None   \n",
       "1980406        2016-10-01   12      None          None   \n",
       "\n",
       "         follower_to_following_Ratio  \n",
       "2857939                     1.994716  \n",
       "1980409                    12.076042  \n",
       "1980408                    12.077311  \n",
       "1980407                    12.077311  \n",
       "1980406                    12.077425  "
      ]
     },
     "execution_count": 293,
     "metadata": {},
     "output_type": "execute_result"
    }
   ],
   "source": [
    "# Subset Russian:\n",
    "\n",
    "russ_subset=troll_dt_rng[troll_dt_rng['language']=='Russian']\n",
    "russ_subset.head()"
   ]
  },
  {
   "cell_type": "code",
   "execution_count": 294,
   "metadata": {},
   "outputs": [
    {
     "name": "stdout",
     "output_type": "stream",
     "text": [
      "Proportion of Users w/ High Follower Count (RUSSIAN): 0.534\n"
     ]
    }
   ],
   "source": [
    "pd.set_option('mode.chained_assignment', None) # ignore pandas warning: \n",
    "# \"A value is trying to be set on a copy of a slice from a DataFrame\"\n",
    "\n",
    "print('Proportion of Users w/ High Follower Count (RUSSIAN):',\\\n",
    "round(russ_subset[russ_subset['follower_to_following_Ratio']>2].shape[0]/\\\n",
    "russ_subset['follower_to_following_Ratio'].shape[0],3))"
   ]
  },
  {
   "cell_type": "code",
   "execution_count": 295,
   "metadata": {},
   "outputs": [
    {
     "name": "stdout",
     "output_type": "stream",
     "text": [
      "Subset Proportion Retweets: 0.723\n",
      "-----------------------\n",
      "English Subset fraction Retweets: 0.738\n",
      "-----------------------\n",
      "Russian Subset fraction Retweets: 0.675\n"
     ]
    }
   ],
   "source": [
    "\n",
    "print('Subset Proportion Retweets:',round(troll_dt_rng['retweet'].mean(),3))\n",
    "print('-----------------------')\n",
    "print('English Subset fraction Retweets:',round(eng_subset['retweet'].mean(),3))\n",
    "print('-----------------------')\n",
    "print('Russian Subset fraction Retweets:',round(russ_subset['retweet'].mean(),3))"
   ]
  },
  {
   "cell_type": "markdown",
   "metadata": {},
   "source": [
    "# Top Russian & English Users by Number of Followers/Following Ratio:\n",
    "\n",
    "+ People with the most influence. \n",
    "    + But, doesn't mean they are the ones doing the retweeting."
   ]
  },
  {
   "cell_type": "code",
   "execution_count": 296,
   "metadata": {},
   "outputs": [
    {
     "data": {
      "text/plain": [
       "array(['kadirovrussia', 'novostiekb', 'novostiomska', 'boeing_is_back',\n",
       "       'novostidamask', 'novostiputin', 'novostishoigu', 'vestizakharova',\n",
       "       'novostidyumin', 'novostivolodin'], dtype=object)"
      ]
     },
     "execution_count": 296,
     "metadata": {},
     "output_type": "execute_result"
    }
   ],
   "source": [
    "russ_subset.sort_values('follower_to_following_Ratio',ascending=False)[:500]['author'].unique()"
   ]
  },
  {
   "cell_type": "code",
   "execution_count": 297,
   "metadata": {},
   "outputs": [
    {
     "data": {
      "text/plain": [
       "array(['jenn_abrams', 'crystal1johnson', 'blacktolive', 'maxdementiev',\n",
       "       'sergbriantsev', 'manzal_', 'kotovamarys', 'russilanrogov',\n",
       "       'maksblaginin'], dtype=object)"
      ]
     },
     "execution_count": 297,
     "metadata": {},
     "output_type": "execute_result"
    }
   ],
   "source": [
    "eng_subset.sort_values('follower_to_following_Ratio',ascending=False)[:500]['author'].unique()"
   ]
  },
  {
   "cell_type": "markdown",
   "metadata": {},
   "source": [
    "# `Check Who Comes Up The Most for Reteeting:`"
   ]
  },
  {
   "cell_type": "code",
   "execution_count": 298,
   "metadata": {},
   "outputs": [
    {
     "data": {
      "text/plain": [
       "ameliebaldwin      11097\n",
       "hyddrox             5389\n",
       "javonhidp           5135\n",
       "brianaregland       5056\n",
       "worldofhashtags     4792\n",
       "chrixmorgan         4592\n",
       "pamblmdaniels       3906\n",
       "alecmooooody        3398\n",
       "jadonhutchinson     3150\n",
       "mrclydepratt        2775\n",
       "Name: author, dtype: int64"
      ]
     },
     "execution_count": 298,
     "metadata": {},
     "output_type": "execute_result"
    }
   ],
   "source": [
    "# Engl\n",
    "\n",
    "eng_subset[eng_subset['retweet']==1]['author'].value_counts()[:10]"
   ]
  },
  {
   "cell_type": "code",
   "execution_count": 299,
   "metadata": {},
   "outputs": [
    {
     "data": {
      "text/plain": [
       "[ameliebaldwin    0.997125\n",
       " Name: author, dtype: float64,\n",
       " hyddrox    0.992084\n",
       " Name: author, dtype: float64,\n",
       " javonhidp    1.0\n",
       " Name: author, dtype: float64,\n",
       " brianaregland    1.0\n",
       " Name: author, dtype: float64,\n",
       " worldofhashtags    0.98358\n",
       " Name: author, dtype: float64,\n",
       " chrixmorgan    0.865109\n",
       " Name: author, dtype: float64,\n",
       " pamblmdaniels    1.0\n",
       " Name: author, dtype: float64,\n",
       " alecmooooody    1.0\n",
       " Name: author, dtype: float64,\n",
       " jadonhutchinson    1.0\n",
       " Name: author, dtype: float64,\n",
       " mrclydepratt    1.0\n",
       " Name: author, dtype: float64]"
      ]
     },
     "execution_count": 299,
     "metadata": {},
     "output_type": "execute_result"
    }
   ],
   "source": [
    "eng_ppl=list(eng_subset[eng_subset['retweet']==1]['author'].value_counts()[:10].index)\n",
    "\n",
    "e=[]\n",
    "for i in eng_ppl:\n",
    "    e.append(eng_subset[(eng_subset['retweet']==1)&\\\n",
    "    (eng_subset['author']==i)]['author'].value_counts()/\\\n",
    "    eng_subset[eng_subset['author']==i].shape[0])\n",
    "\n",
    "e"
   ]
  },
  {
   "cell_type": "code",
   "execution_count": 300,
   "metadata": {},
   "outputs": [
    {
     "data": {
      "text/plain": [
       "valeyina_dm       4089\n",
       "denn_nikitin      3723\n",
       "med_harley        3141\n",
       "moda_barina       1859\n",
       "rusnevrotik       1858\n",
       "ttlenlen          1810\n",
       "_beglov           1388\n",
       "milimillennium    1345\n",
       "alexharritonov    1290\n",
       "vasilichvasili    1246\n",
       "Name: author, dtype: int64"
      ]
     },
     "execution_count": 300,
     "metadata": {},
     "output_type": "execute_result"
    }
   ],
   "source": [
    "# Top 10 Russians by retweets:\n",
    "russ_subset[russ_subset['retweet']==1]['author'].value_counts()[:10]"
   ]
  },
  {
   "cell_type": "code",
   "execution_count": 301,
   "metadata": {},
   "outputs": [
    {
     "data": {
      "text/plain": [
       "[valeyina_dm    0.998291\n",
       " Name: author, dtype: float64,\n",
       " denn_nikitin    0.998927\n",
       " Name: author, dtype: float64,\n",
       " med_harley    0.99746\n",
       " Name: author, dtype: float64,\n",
       " moda_barina    0.997318\n",
       " Name: author, dtype: float64,\n",
       " rusnevrotik    0.998925\n",
       " Name: author, dtype: float64,\n",
       " ttlenlen    0.998345\n",
       " Name: author, dtype: float64,\n",
       " _beglov    1.0\n",
       " Name: author, dtype: float64,\n",
       " milimillennium    1.0\n",
       " Name: author, dtype: float64,\n",
       " alexharritonov    0.999225\n",
       " Name: author, dtype: float64,\n",
       " vasilichvasili    0.999198\n",
       " Name: author, dtype: float64]"
      ]
     },
     "execution_count": 301,
     "metadata": {},
     "output_type": "execute_result"
    }
   ],
   "source": [
    "# Proportion of their total tweets being retweets:\n",
    "russ_ppl=list(russ_subset[russ_subset['retweet']==1]['author'].value_counts()[:10].index)\n",
    "\n",
    "r=[]\n",
    "for i in russ_ppl:\n",
    "    r.append(russ_subset[(russ_subset['retweet']==1)&\\\n",
    "    (russ_subset['author']==i)]['author'].value_counts()/\\\n",
    "russ_subset[russ_subset['author']==i].shape[0])\n",
    "\n",
    "r"
   ]
  },
  {
   "cell_type": "markdown",
   "metadata": {},
   "source": [
    "# `Check The Top 10 Tweets`\n",
    "\n",
    "+ Illustrate how this tweet network is working\n",
    "+ Show the people from top down trickling tweets \n",
    "    + Understand what is being said and how the information is flowing\n",
    "    \n",
    "    \n",
    "**`Workflow:`**\n",
    "\n",
    "+ Get unique names of top 20 authors who retweet\n",
    "    + subset columns we need\n",
    "    + only take rows that are retweeted\n",
    "    + sort by author then time\n",
    "+ Iterate through the authors and get a value count of each hour they tweet and create a list.\n",
    "    + within this list we will have:\n",
    "        + index of author names, this will be multiplied by the length of our output which is the number of rows we created in the value counts. Each author will have specific number of rows: (hour_tweet, count) not all users tweet through the day.\n",
    "        + In the end we want the name, hour, number of tweets as a tuple\n",
    "+ output will be a list of tuples, we need to take those and find missing hours and make a new list so everyone has 24 hrours and any missing values will have a zero for count"
   ]
  },
  {
   "cell_type": "code",
   "execution_count": 710,
   "metadata": {},
   "outputs": [
    {
     "data": {
      "text/plain": [
       "[('ameliebaldwin', '03', 561),\n",
       " ('ameliebaldwin', '12', 560),\n",
       " ('ameliebaldwin', '18', 521),\n",
       " ('ameliebaldwin', '17', 519),\n",
       " ('ameliebaldwin', '21', 510),\n",
       " ('ameliebaldwin', '16', 507),\n",
       " ('ameliebaldwin', '01', 506),\n",
       " ('ameliebaldwin', '22', 497),\n",
       " ('ameliebaldwin', '20', 494),\n",
       " ('ameliebaldwin', '07', 494),\n",
       " ('ameliebaldwin', '23', 469),\n",
       " ('ameliebaldwin', '15', 461),\n",
       " ('ameliebaldwin', '02', 458),\n",
       " ('ameliebaldwin', '08', 439),\n",
       " ('ameliebaldwin', '13', 438),\n",
       " ('ameliebaldwin', '19', 437),\n",
       " ('ameliebaldwin', '04', 435),\n",
       " ('ameliebaldwin', '14', 434),\n",
       " ('ameliebaldwin', '10', 417),\n",
       " ('ameliebaldwin', '06', 417),\n",
       " ('ameliebaldwin', '05', 406),\n",
       " ('ameliebaldwin', '00', 396),\n",
       " ('ameliebaldwin', '11', 367)]"
      ]
     },
     "execution_count": 710,
     "metadata": {},
     "output_type": "execute_result"
    }
   ],
   "source": [
    "eng_ppl_exp=list(eng_subset[eng_subset['retweet']==1]['author'].\\\n",
    "                 value_counts()[:20].index)\n",
    "\n",
    "top_10_retweeters=eng_subset[eng_subset['author'].isin(eng_ppl_exp)]\n",
    "\n",
    "top_10=top_10_retweeters.loc[:,['author','time','content without http','retweet']]\n",
    " \n",
    "top_10=top_10[top_10['retweet']==1]\n",
    "\n",
    "\n",
    "top_10=top_10.sort_values(['author','time'])\n",
    "top_10\n",
    "\n",
    "val_cnts_authors_by_hr=[]\n",
    "for i in eng_ppl_exp:\n",
    "    val_cnts_authors_by_hr.extend(list(zip(len(top_10[top_10['author']==i]['time'].\\\n",
    "                            value_counts().index)*[i],\n",
    "                            top_10[top_10['author']==i]['time'].value_counts().index,\n",
    "    top_10[top_10['author']==i]['time'].value_counts())))\n",
    "\n",
    "    \n",
    "val_cnts_authors_by_hr[0:23]"
   ]
  },
  {
   "cell_type": "markdown",
   "metadata": {},
   "source": [
    "# `Checking Each List for Length 24:`\n",
    "\n",
    "+ Lists of users < 24 means they don't have 24 hours in their list and we fix:\n",
    "    + by using a set difference of hrs and create a new lists matching each user (name,hour_missing,0)\n",
    "+ a dataframe is created with the above data and a second dataframe with our missing info and appended together, then sorted"
   ]
  },
  {
   "cell_type": "code",
   "execution_count": 713,
   "metadata": {},
   "outputs": [
    {
     "data": {
      "text/html": [
       "<div>\n",
       "<style scoped>\n",
       "    .dataframe tbody tr th:only-of-type {\n",
       "        vertical-align: middle;\n",
       "    }\n",
       "\n",
       "    .dataframe tbody tr th {\n",
       "        vertical-align: top;\n",
       "    }\n",
       "\n",
       "    .dataframe thead th {\n",
       "        text-align: right;\n",
       "    }\n",
       "</style>\n",
       "<table border=\"1\" class=\"dataframe\">\n",
       "  <thead>\n",
       "    <tr style=\"text-align: right;\">\n",
       "      <th></th>\n",
       "      <th>author</th>\n",
       "      <th>time</th>\n",
       "      <th>value</th>\n",
       "    </tr>\n",
       "  </thead>\n",
       "  <tbody>\n",
       "    <tr>\n",
       "      <th>140</th>\n",
       "      <td>alecmooooody</td>\n",
       "      <td>00</td>\n",
       "      <td>173</td>\n",
       "    </tr>\n",
       "    <tr>\n",
       "      <th>147</th>\n",
       "      <td>alecmooooody</td>\n",
       "      <td>01</td>\n",
       "      <td>150</td>\n",
       "    </tr>\n",
       "    <tr>\n",
       "      <th>156</th>\n",
       "      <td>alecmooooody</td>\n",
       "      <td>02</td>\n",
       "      <td>111</td>\n",
       "    </tr>\n",
       "    <tr>\n",
       "      <th>152</th>\n",
       "      <td>alecmooooody</td>\n",
       "      <td>03</td>\n",
       "      <td>130</td>\n",
       "    </tr>\n",
       "    <tr>\n",
       "      <th>154</th>\n",
       "      <td>alecmooooody</td>\n",
       "      <td>04</td>\n",
       "      <td>117</td>\n",
       "    </tr>\n",
       "    <tr>\n",
       "      <th>...</th>\n",
       "      <td>...</td>\n",
       "      <td>...</td>\n",
       "      <td>...</td>\n",
       "    </tr>\n",
       "    <tr>\n",
       "      <th>9</th>\n",
       "      <td>worldofhashtags</td>\n",
       "      <td>19</td>\n",
       "      <td>0</td>\n",
       "    </tr>\n",
       "    <tr>\n",
       "      <th>10</th>\n",
       "      <td>worldofhashtags</td>\n",
       "      <td>20</td>\n",
       "      <td>0</td>\n",
       "    </tr>\n",
       "    <tr>\n",
       "      <th>6</th>\n",
       "      <td>worldofhashtags</td>\n",
       "      <td>21</td>\n",
       "      <td>0</td>\n",
       "    </tr>\n",
       "    <tr>\n",
       "      <th>17</th>\n",
       "      <td>worldofhashtags</td>\n",
       "      <td>22</td>\n",
       "      <td>0</td>\n",
       "    </tr>\n",
       "    <tr>\n",
       "      <th>13</th>\n",
       "      <td>worldofhashtags</td>\n",
       "      <td>23</td>\n",
       "      <td>0</td>\n",
       "    </tr>\n",
       "  </tbody>\n",
       "</table>\n",
       "<p>480 rows × 3 columns</p>\n",
       "</div>"
      ],
      "text/plain": [
       "              author time  value\n",
       "140     alecmooooody   00    173\n",
       "147     alecmooooody   01    150\n",
       "156     alecmooooody   02    111\n",
       "152     alecmooooody   03    130\n",
       "154     alecmooooody   04    117\n",
       "..               ...  ...    ...\n",
       "9    worldofhashtags   19      0\n",
       "10   worldofhashtags   20      0\n",
       "6    worldofhashtags   21      0\n",
       "17   worldofhashtags   22      0\n",
       "13   worldofhashtags   23      0\n",
       "\n",
       "[480 rows x 3 columns]"
      ]
     },
     "execution_count": 713,
     "metadata": {},
     "output_type": "execute_result"
    }
   ],
   "source": [
    "jj=[]\n",
    "for i in eng_ppl_exp:\n",
    "    if len(top_10[top_10['author']==i]['time'].unique())<24:\n",
    "        q=set(top_10['time'].unique())-\\\n",
    "        set(list(top_10[top_10['author']==i]['time'].unique()))\n",
    "        jj.extend(list(zip([i]*len(q),list(q),len(q)*[0])))        \n",
    "\n",
    "A=pd.DataFrame(jj,columns=['author','time','value'])\n",
    "B=pd.DataFrame(val_cnts_authors_by_hr,columns=['author','time','value'])\n",
    "\n",
    "user_by_hr_cnt=A.append(B)\n",
    "\n",
    "\n",
    "user_by_hr_cnt.sort_values(['author','time'])"
   ]
  },
  {
   "cell_type": "markdown",
   "metadata": {},
   "source": [
    "# `Heat Map Cluster: Find Tweeting Trends of Users By Hour`"
   ]
  },
  {
   "cell_type": "code",
   "execution_count": 736,
   "metadata": {},
   "outputs": [
    {
     "data": {
      "text/plain": [
       "<seaborn.matrix.ClusterGrid at 0x1b125ef6a0>"
      ]
     },
     "execution_count": 736,
     "metadata": {},
     "output_type": "execute_result"
    },
    {
     "data": {
      "image/png": "[encoded data removed]",
      "text/plain": [
       "<Figure size 720x720 with 4 Axes>"
      ]
     },
     "metadata": {
      "needs_background": "light"
     },
     "output_type": "display_data"
    }
   ],
   "source": [
    "from collections import defaultdict\n",
    "\n",
    "store_hr_cnts=defaultdict(list)\n",
    "\n",
    "for i in user_by_hr_cnt.sort_values(['author','time']).values:\n",
    "    store_hr_cnts[i[1]].append(i[2])\n",
    "    \n",
    "d1=pd.DataFrame(store_hr_cnts,index=sorted(user_by_hr_cnt['author'].unique()))\n",
    "\n",
    "# I am trying to preserve the HR ordering\n",
    "sns.clustermap(d1,col_cluster=False,robust=True) "
   ]
  },
  {
   "cell_type": "markdown",
   "metadata": {},
   "source": [
    "# `Now Same thing for Russian Retweeters:` <font size=8> 🇷🇺</font>\n"
   ]
  },
  {
   "cell_type": "code",
   "execution_count": 728,
   "metadata": {},
   "outputs": [
    {
     "data": {
      "text/plain": [
       "[('valeyina_dm', '09', 195),\n",
       " ('valeyina_dm', '03', 193),\n",
       " ('valeyina_dm', '20', 192),\n",
       " ('valeyina_dm', '04', 192),\n",
       " ('valeyina_dm', '19', 188),\n",
       " ('valeyina_dm', '14', 186),\n",
       " ('valeyina_dm', '11', 184),\n",
       " ('valeyina_dm', '12', 183),\n",
       " ('valeyina_dm', '21', 182),\n",
       " ('valeyina_dm', '07', 180),\n",
       " ('valeyina_dm', '15', 177),\n",
       " ('valeyina_dm', '13', 175),\n",
       " ('valeyina_dm', '10', 174),\n",
       " ('valeyina_dm', '22', 172),\n",
       " ('valeyina_dm', '08', 170),\n",
       " ('valeyina_dm', '05', 167),\n",
       " ('valeyina_dm', '23', 165),\n",
       " ('valeyina_dm', '17', 165),\n",
       " ('valeyina_dm', '18', 159),\n",
       " ('valeyina_dm', '01', 143),\n",
       " ('valeyina_dm', '00', 142),\n",
       " ('valeyina_dm', '16', 142),\n",
       " ('valeyina_dm', '06', 132)]"
      ]
     },
     "execution_count": 728,
     "metadata": {},
     "output_type": "execute_result"
    }
   ],
   "source": [
    "russ_ppl_exp=list(russ_subset[russ_subset['retweet']==1]['author'].\\\n",
    "                 value_counts()[:20].index)\n",
    "\n",
    "top_10_retweeters_russ=russ_subset[russ_subset['author'].isin(russ_ppl_exp)]\n",
    "\n",
    "top_10_russ=top_10_retweeters_russ.\\\n",
    "loc[:,['author','time','content without http','retweet']]\n",
    " \n",
    "top_10_russ=top_10_russ[top_10_russ['retweet']==1]\n",
    "\n",
    "\n",
    "top_10_russ=top_10_russ.sort_values(['author','time'])\n",
    "top_10_russ\n",
    "\n",
    "val_cnts_authors_by_hr_russ=[]\n",
    "for i in russ_ppl_exp:\n",
    "    val_cnts_authors_by_hr_russ.\\\n",
    "    extend(list(zip(len(top_10_russ[top_10_russ['author']==i]['time'].\\\n",
    "                            value_counts().index)*[i],\n",
    "                            top_10_russ[top_10_russ['author']==i]['time'].\\\n",
    "                    value_counts().index,\n",
    "    top_10_russ[top_10_russ['author']==i]['time'].value_counts())))\n",
    "\n",
    "    \n",
    "val_cnts_authors_by_hr_russ[0:23]"
   ]
  },
  {
   "cell_type": "code",
   "execution_count": 729,
   "metadata": {},
   "outputs": [
    {
     "data": {
      "text/html": [
       "<div>\n",
       "<style scoped>\n",
       "    .dataframe tbody tr th:only-of-type {\n",
       "        vertical-align: middle;\n",
       "    }\n",
       "\n",
       "    .dataframe tbody tr th {\n",
       "        vertical-align: top;\n",
       "    }\n",
       "\n",
       "    .dataframe thead th {\n",
       "        text-align: right;\n",
       "    }\n",
       "</style>\n",
       "<table border=\"1\" class=\"dataframe\">\n",
       "  <thead>\n",
       "    <tr style=\"text-align: right;\">\n",
       "      <th></th>\n",
       "      <th>author</th>\n",
       "      <th>time</th>\n",
       "      <th>value</th>\n",
       "    </tr>\n",
       "  </thead>\n",
       "  <tbody>\n",
       "    <tr>\n",
       "      <th>150</th>\n",
       "      <td>_beglov</td>\n",
       "      <td>00</td>\n",
       "      <td>62</td>\n",
       "    </tr>\n",
       "    <tr>\n",
       "      <th>160</th>\n",
       "      <td>_beglov</td>\n",
       "      <td>01</td>\n",
       "      <td>55</td>\n",
       "    </tr>\n",
       "    <tr>\n",
       "      <th>156</th>\n",
       "      <td>_beglov</td>\n",
       "      <td>02</td>\n",
       "      <td>59</td>\n",
       "    </tr>\n",
       "    <tr>\n",
       "      <th>164</th>\n",
       "      <td>_beglov</td>\n",
       "      <td>03</td>\n",
       "      <td>48</td>\n",
       "    </tr>\n",
       "    <tr>\n",
       "      <th>147</th>\n",
       "      <td>_beglov</td>\n",
       "      <td>04</td>\n",
       "      <td>64</td>\n",
       "    </tr>\n",
       "    <tr>\n",
       "      <th>...</th>\n",
       "      <td>...</td>\n",
       "      <td>...</td>\n",
       "      <td>...</td>\n",
       "    </tr>\n",
       "    <tr>\n",
       "      <th>233</th>\n",
       "      <td>vasilichvasili</td>\n",
       "      <td>19</td>\n",
       "      <td>45</td>\n",
       "    </tr>\n",
       "    <tr>\n",
       "      <th>225</th>\n",
       "      <td>vasilichvasili</td>\n",
       "      <td>20</td>\n",
       "      <td>56</td>\n",
       "    </tr>\n",
       "    <tr>\n",
       "      <th>224</th>\n",
       "      <td>vasilichvasili</td>\n",
       "      <td>21</td>\n",
       "      <td>57</td>\n",
       "    </tr>\n",
       "    <tr>\n",
       "      <th>229</th>\n",
       "      <td>vasilichvasili</td>\n",
       "      <td>22</td>\n",
       "      <td>52</td>\n",
       "    </tr>\n",
       "    <tr>\n",
       "      <th>232</th>\n",
       "      <td>vasilichvasili</td>\n",
       "      <td>23</td>\n",
       "      <td>48</td>\n",
       "    </tr>\n",
       "  </tbody>\n",
       "</table>\n",
       "<p>480 rows × 3 columns</p>\n",
       "</div>"
      ],
      "text/plain": [
       "             author time value\n",
       "150         _beglov   00    62\n",
       "160         _beglov   01    55\n",
       "156         _beglov   02    59\n",
       "164         _beglov   03    48\n",
       "147         _beglov   04    64\n",
       "..              ...  ...   ...\n",
       "233  vasilichvasili   19    45\n",
       "225  vasilichvasili   20    56\n",
       "224  vasilichvasili   21    57\n",
       "229  vasilichvasili   22    52\n",
       "232  vasilichvasili   23    48\n",
       "\n",
       "[480 rows x 3 columns]"
      ]
     },
     "execution_count": 729,
     "metadata": {},
     "output_type": "execute_result"
    }
   ],
   "source": [
    "jj_russ=[]\n",
    "for i in russ_ppl_exp:\n",
    "    if len(top_10_russ[top_10_russ['author']==i]['time'].unique())<24:\n",
    "        q_r=set(top_10_russ['time'].unique())-\\\n",
    "        set(list(top_10_russ[top_10_russ['author']==i]['time'].unique()))\n",
    "        jj_russ.extend(list(zip([i]*len(q_r),list(q_r),len(q_r)*[0])))        \n",
    "\n",
    "A_r=pd.DataFrame(jj_russ,columns=['author','time','value'])\n",
    "B_r=pd.DataFrame(val_cnts_authors_by_hr_russ,columns=['author','time','value'])\n",
    "\n",
    "user_by_hr_cnt_russ=A_r.append(B_r)\n",
    "\n",
    "\n",
    "user_by_hr_cnt_russ.sort_values(['author','time'])"
   ]
  },
  {
   "cell_type": "code",
   "execution_count": 740,
   "metadata": {},
   "outputs": [
    {
     "data": {
      "text/plain": [
       "<seaborn.matrix.ClusterGrid at 0x1a8fa1c0b8>"
      ]
     },
     "execution_count": 740,
     "metadata": {},
     "output_type": "execute_result"
    },
    {
     "data": {
      "image/png": "[encoded data removed]",
      "text/plain": [
       "<Figure size 720x720 with 4 Axes>"
      ]
     },
     "metadata": {
      "needs_background": "light"
     },
     "output_type": "display_data"
    }
   ],
   "source": [
    "store_hr_cnts_r=defaultdict(list)\n",
    "\n",
    "for i in user_by_hr_cnt_russ.sort_values(['author','time']).values:\n",
    "    store_hr_cnts_r[i[1]].append(i[2])\n",
    "    \n",
    "d1_r=pd.DataFrame(store_hr_cnts_r,index=sorted(user_by_hr_cnt_russ['author'].unique()))\n",
    "\n",
    "# I am trying to preserve the HR ordering\n",
    "sns.clustermap(d1_r,col_cluster=False,robust=True) "
   ]
  },
  {
   "cell_type": "markdown",
   "metadata": {},
   "source": [
    "# `What Did We Learn With Russian Reteeters?`\n",
    "\n",
    "+ Some users have no preference at the top. They may be bots doing retweeting\n",
    "+ Other users, do have a strong trend"
   ]
  },
  {
   "cell_type": "markdown",
   "metadata": {},
   "source": [
    "`------------------------------------------------`\n",
    "\n",
    "# `Show how the Large Retweeters Trickle Down:`\n",
    "\n",
    "+ Pick two tweets and show activity by plotting\n",
    "\n",
    "**`Work Flow:`**\n",
    "+ Take the top 10-20 Re-tweeters\n",
    "    + Sort By Tweet then user\n",
    "        + Choose top 10 users for that tweet\n",
    "+ We will need to see the time of posting these tweets to see who posted first and trickle down from there."
   ]
  },
  {
   "cell_type": "code",
   "execution_count": 742,
   "metadata": {},
   "outputs": [],
   "source": [
    "# Get Top 10 Retweeters: English & Russian:\n",
    "eng_top_10=eng_subset[eng_subset['retweet']==1]['author'].value_counts()[:10]\n",
    "\n",
    "russ_top_10=russ_subset[russ_subset['retweet']==1]['author'].value_counts()[:10]\n",
    "\n",
    "# Pull Only Rows with these users:\n"
   ]
  },
  {
   "cell_type": "code",
   "execution_count": null,
   "metadata": {},
   "outputs": [],
   "source": [
    "eng_subset[eng_subset['retweet']==1]['author'].value_counts()[:10]"
   ]
  },
  {
   "cell_type": "code",
   "execution_count": 745,
   "metadata": {},
   "outputs": [
    {
     "data": {
      "text/plain": [
       "Listen to the title track of the upcoming mashup album #TheFourHorsemen #TheArtOfWar ft #T…      387\n",
       "Targeted #ISIS accounts       #targets #iceisis #opiceisis                                       233\n",
       "Just posted a photo                                                                              155\n",
       "Targeted #ISIS accounts    #targets #iceisis #opiceisis                                          128\n",
       "#CommunityEvent Fall Fest on Buddy Holly Ave.  October 29th 2016 #LubbockTexas *1KN              104\n",
       "Have a hit on your hands? You wont want to miss this!! #SongContest #PushPowerHits                89\n",
       "I posted a new video to Facebook                                                                  67\n",
       "6 Reasons Indie Artists Fail                                                                      65\n",
       "#Юмор@rus_improvisation                                                                           65\n",
       "�                                                                                                 55\n",
       "Name: content without http, dtype: int64"
      ]
     },
     "execution_count": 745,
     "metadata": {},
     "output_type": "execute_result"
    }
   ],
   "source": [
    "eng_subset[eng_subset['retweet']==1]['content without http'].value_counts()[:10]"
   ]
  },
  {
   "cell_type": "code",
   "execution_count": 746,
   "metadata": {},
   "outputs": [
    {
     "data": {
      "text/plain": [
       "@WarfareWW                                                        104\n",
       "26 Black Women Who Died In Police Custody                          25\n",
       "Winning numbers drawn in Triple Chance game                        20\n",
       "�                                                                  15\n",
       "AP FACT CHECK: Trump, Clinton and their debate claims               8\n",
       "El Pasos most wanted fugitives of the week                          7\n",
       "Winning numbers drawn in Daily 4 Evening game                       7\n",
       "Berlin truck attack suspect killed in Milan police shootout         6\n",
       "@todayinsyria                                                       5\n",
       "Electoral College meets amid effort to deny Trump presidency        5\n",
       "Name: content without http, dtype: int64"
      ]
     },
     "execution_count": 746,
     "metadata": {},
     "output_type": "execute_result"
    }
   ],
   "source": [
    "eng_subset[eng_subset['retweet']==0]['content without http'].value_counts()[:10]"
   ]
  },
  {
   "cell_type": "code",
   "execution_count": null,
   "metadata": {},
   "outputs": [],
   "source": []
  },
  {
   "cell_type": "code",
   "execution_count": 750,
   "metadata": {},
   "outputs": [
    {
     "data": {
      "text/plain": [
       "318740"
      ]
     },
     "execution_count": 750,
     "metadata": {},
     "output_type": "execute_result"
    }
   ],
   "source": [
    "eng_subset.shape[0]"
   ]
  },
  {
   "cell_type": "code",
   "execution_count": 757,
   "metadata": {},
   "outputs": [],
   "source": [
    "eng_subset['kinda_clean_content']=eng_subset['content without http'].\\\n",
    "str.replace('7yrs','').str.replace(r'(?<=#)[A-Za-z0-9]+','').\\\n",
    "str.replace(r'(?<=@)[A-Za-z0-9]+','').str.strip('[# ]+').str.strip('[@ ]+').\\\n",
    "str.strip(')').str.strip('(').str.strip('-').\\\n",
    "str.strip('lol').str.strip('\"').str.strip(u'\\u2026').str.strip('#').\\\n",
    "str.lstrip(':').str.strip(' ')"
   ]
  },
  {
   "cell_type": "code",
   "execution_count": 792,
   "metadata": {},
   "outputs": [
    {
     "data": {
      "text/plain": [
       "['chesterfield county police respond to a warehouse fire near vsu',\n",
       " 'petersburg police investigating after deadly shooting',\n",
       " 'flint residents on federal aid deal: too little, too late',\n",
       " 'mob informant trades witness protection for $100m']"
      ]
     },
     "execution_count": 792,
     "metadata": {},
     "output_type": "execute_result"
    }
   ],
   "source": [
    "# convert to lowercase()\n",
    "import string\n",
    "\n",
    "clean_up_more=[]\n",
    "for i in range(len(eng_subset['kinda_clean_content'].values)):\n",
    "    if type(eng_subset['kinda_clean_content'].values[i])==str:\n",
    "\n",
    "        clean_up_more.append(eng_subset['kinda_clean_content'].values[i].lower())\n",
    "    else:\n",
    "        clean_up_more.append(eng_subset['kinda_clean_content'].values[i])\n"
   ]
  },
  {
   "cell_type": "code",
   "execution_count": 797,
   "metadata": {},
   "outputs": [],
   "source": [
    "eng_subset['kinda_clean_content']=clean_up_more"
   ]
  },
  {
   "cell_type": "raw",
   "metadata": {},
   "source": [
    "eng_subset[eng_subset['retweet']==0]['kinda_clean_content'].value_counts()[:10]"
   ]
  },
  {
   "cell_type": "code",
   "execution_count": 802,
   "metadata": {},
   "outputs": [
    {
     "data": {
      "text/plain": [
       "                                                                 1897\n",
       "listen to the title track of the upcoming mashup album # # ft     387\n",
       "targeted # accounts                                               361\n",
       "just posted a phot                                                161\n",
       "how to put together a small tour                                  117\n",
       "how to get magazines to review your music                         115\n",
       "best ways to build your fan base                                  115\n",
       "fall fest on buddy holly ave.  october 29th 2016 # *1kn           104\n",
       "�                                                                  92\n",
       "have a hit on your hands? you wont want to miss this!!             89\n",
       "Name: kinda_clean_content, dtype: int64"
      ]
     },
     "execution_count": 802,
     "metadata": {},
     "output_type": "execute_result"
    }
   ],
   "source": [
    "eng_subset[eng_subset['retweet']==1]['kinda_clean_content'].value_counts()[:10]"
   ]
  },
  {
   "cell_type": "markdown",
   "metadata": {},
   "source": [
    "# `How will I illustrate this?`\n",
    "\n",
    "+ find top tweets that were Not retweets (original tweets)\n",
    "    + Then check to see if these tweets match any retweets\n",
    "        + Then find the to people who retweeted, I will use the Top 10 retweeters"
   ]
  },
  {
   "cell_type": "code",
   "execution_count": 838,
   "metadata": {},
   "outputs": [
    {
     "data": {
      "text/plain": [
       "['phx to trump camp: stop using ad with pd in it',\n",
       " 'trump rallies in pennsylvania',\n",
       " 'donald trump doesnt seem to have a clue how to appeal to millennials',\n",
       " 'henrico lawyers sought +$4 million in trump lawsuit, alleged defamation',\n",
       " 'this is great! millennials stand w/ donald trump!']"
      ]
     },
     "execution_count": 838,
     "metadata": {},
     "output_type": "execute_result"
    }
   ],
   "source": [
    "key_wrds=['trump','hilary','climate']\n",
    "str_containing=[]\n",
    "for i in eng_subset[eng_subset['retweet']==0]['kinda_clean_content'].values:\n",
    "    if type(i)==str and re.search(key_wrds[0],i):\n",
    "        str_containing.append(i)\n",
    "        \n",
    "str_containing[:5]"
   ]
  },
  {
   "cell_type": "code",
   "execution_count": 824,
   "metadata": {},
   "outputs": [
    {
     "data": {
      "text/plain": [
       "False    234743\n",
       "True        378\n",
       "Name: kinda_clean_content, dtype: int64"
      ]
     },
     "execution_count": 824,
     "metadata": {},
     "output_type": "execute_result"
    }
   ],
   "source": [
    "eng_subset[eng_subset['retweet']==1]['kinda_clean_content'].\\\n",
    "isin(str_containing).value_counts()"
   ]
  },
  {
   "cell_type": "code",
   "execution_count": 874,
   "metadata": {},
   "outputs": [
    {
     "data": {
      "text/plain": [
       "don’t let trump ruin our country                                                                                           20\n",
       "trump twitter suspended                                                                                                    18\n",
       "donald trump is president.... whhhhaaaattt?                                                                                17\n",
       "whos the better bomb sniffing dog. my moneys on trump                                                                      11\n",
       "the white house chef burned my dinner! people who burn trump steaks should be in jail. sad!                                11\n",
       "http - hitler-trump transilvanian partnership                                                                              10\n",
       "the candidates should have a race. trump rides an elephant, and clinton rides a donkey.                                     8\n",
       "ap fact check: trump, clinton and their debate claims                                                                       8\n",
       "trump                                                                                                                       8\n",
       "a scrabble tournament  on 2nd thought, that might be unfair since trump has all the best words.                             7\n",
       "donald trumps the art of the deal well worn pages and a bookmark made from a chapter 7 court filing.                        7\n",
       "donald trumps twitter account.                                                                                              7\n",
       "a lifelong democrat andrew stein: # trump can shake up our politics and revive the economy  democrats for trump             7\n",
       "electoral college meets amid effort to deny trump presidency                                                                7\n",
       "word president in english replaced by trump from now on                                                                     6\n",
       "cooking competition, heres trumps entry                                                                                     6\n",
       "donald trump hair vs donald trump neurosurgeon                                                                              6\n",
       "the united states defeated fascism, nazism, and communism. now we must defeat radical islamic terrorism. ~ donald trump     6\n",
       "ted cruz vows to do everything humanly possible to defeat hillary clinton  watch him phone-banking for trump:               5\n",
       "trump, clinton trade caustic barbs as roast turns bitter                                                                    5\n",
       "Name: kinda_clean_content, dtype: int64"
      ]
     },
     "execution_count": 874,
     "metadata": {},
     "output_type": "execute_result"
    }
   ],
   "source": [
    "tr_clin_cli_tweets=eng_subset[eng_subset['kinda_clean_content'].\\\n",
    "isin(str_containing)]\n",
    "\n",
    "tr_clin_cli_tweets['kinda_clean_content'].value_counts()[:20]"
   ]
  },
  {
   "cell_type": "markdown",
   "metadata": {},
   "source": [
    "# `Check Which Top 10 Message have most retweets then we will parse and plot`"
   ]
  },
  {
   "cell_type": "code",
   "execution_count": 889,
   "metadata": {},
   "outputs": [],
   "source": [
    "top_20_tweets_TR_CLin=list(tr_clin_cli_tweets['kinda_clean_content'].\\\n",
    "                           value_counts().index[:20])"
   ]
  },
  {
   "cell_type": "code",
   "execution_count": 890,
   "metadata": {},
   "outputs": [
    {
     "data": {
      "text/plain": [
       "don’t let trump ruin our country                                                               19\n",
       "trump twitter suspended                                                                        17\n",
       "donald trump is president.... whhhhaaaattt?                                                    15\n",
       "the white house chef burned my dinner! people who burn trump steaks should be in jail. sad!    10\n",
       "whos the better bomb sniffing dog. my moneys on trump                                          10\n",
       "Name: kinda_clean_content, dtype: int64"
      ]
     },
     "execution_count": 890,
     "metadata": {},
     "output_type": "execute_result"
    }
   ],
   "source": [
    "tmp=tr_clin_cli_tweets[tr_clin_cli_tweets['retweet']==1]\n",
    "\n",
    "tmp[tmp['kinda_clean_content'].\\\n",
    "    isin(top_20_tweets_TR_CLin)]['kinda_clean_content'].value_counts()[:5]"
   ]
  },
  {
   "cell_type": "code",
   "execution_count": 930,
   "metadata": {},
   "outputs": [],
   "source": [
    "tmp=tr_clin_cli_tweets[tr_clin_cli_tweets['retweet']==1]\n",
    "\n",
    "two_tweets_=tmp[tmp['kinda_clean_content'].\\\n",
    "    isin(top_20_tweets_TR_CLin)]['kinda_clean_content'].value_counts().index[:2]\n",
    "\n",
    "# tmp[tmp['kinda_clean_content'].isin(two_tweets_)].sort_values('publish_date')"
   ]
  },
  {
   "cell_type": "code",
   "execution_count": 899,
   "metadata": {},
   "outputs": [],
   "source": []
  },
  {
   "cell_type": "code",
   "execution_count": 1066,
   "metadata": {},
   "outputs": [
    {
     "data": {
      "text/html": [
       "<div>\n",
       "<style scoped>\n",
       "    .dataframe tbody tr th:only-of-type {\n",
       "        vertical-align: middle;\n",
       "    }\n",
       "\n",
       "    .dataframe tbody tr th {\n",
       "        vertical-align: top;\n",
       "    }\n",
       "\n",
       "    .dataframe thead th {\n",
       "        text-align: right;\n",
       "    }\n",
       "</style>\n",
       "<table border=\"1\" class=\"dataframe\">\n",
       "  <thead>\n",
       "    <tr style=\"text-align: right;\">\n",
       "      <th></th>\n",
       "      <th>index</th>\n",
       "      <th>author</th>\n",
       "      <th>region</th>\n",
       "      <th>language</th>\n",
       "      <th>publish_date</th>\n",
       "      <th>following</th>\n",
       "      <th>followers</th>\n",
       "      <th>updates</th>\n",
       "      <th>post_type</th>\n",
       "      <th>account_type</th>\n",
       "      <th>retweet</th>\n",
       "      <th>account_category</th>\n",
       "      <th>content without http</th>\n",
       "      <th>publish_date_Only</th>\n",
       "      <th>time</th>\n",
       "      <th>tweet_ref</th>\n",
       "      <th>hashtag_ref</th>\n",
       "      <th>follower_to_following_Ratio</th>\n",
       "      <th>kinda_clean_content</th>\n",
       "    </tr>\n",
       "  </thead>\n",
       "  <tbody>\n",
       "    <tr>\n",
       "      <th>0</th>\n",
       "      <td>2914564</td>\n",
       "      <td>worldofhashtags</td>\n",
       "      <td>United States</td>\n",
       "      <td>English</td>\n",
       "      <td>2016-11-07 14:45:00</td>\n",
       "      <td>7630</td>\n",
       "      <td>7671</td>\n",
       "      <td>22253</td>\n",
       "      <td>RETWEET</td>\n",
       "      <td>Hashtager</td>\n",
       "      <td>1</td>\n",
       "      <td>HashtagGamer</td>\n",
       "      <td>Trump twitter suspended #2016ElectionIn3Words</td>\n",
       "      <td>2016-11-07</td>\n",
       "      <td>14</td>\n",
       "      <td>None</td>\n",
       "      <td>[2016ElectionIn3Words]</td>\n",
       "      <td>1.005374</td>\n",
       "      <td>trump twitter suspended</td>\n",
       "    </tr>\n",
       "    <tr>\n",
       "      <th>1</th>\n",
       "      <td>1236324</td>\n",
       "      <td>holycrapchrix</td>\n",
       "      <td>United States</td>\n",
       "      <td>English</td>\n",
       "      <td>2016-11-07 15:02:00</td>\n",
       "      <td>2844</td>\n",
       "      <td>2554</td>\n",
       "      <td>4341</td>\n",
       "      <td>RETWEET</td>\n",
       "      <td>Hashtager</td>\n",
       "      <td>1</td>\n",
       "      <td>HashtagGamer</td>\n",
       "      <td>Trump twitter suspended #2016ElectionIn3Words</td>\n",
       "      <td>2016-11-07</td>\n",
       "      <td>15</td>\n",
       "      <td>None</td>\n",
       "      <td>[2016ElectionIn3Words]</td>\n",
       "      <td>0.898031</td>\n",
       "      <td>trump twitter suspended</td>\n",
       "    </tr>\n",
       "    <tr>\n",
       "      <th>2</th>\n",
       "      <td>177791</td>\n",
       "      <td>annieposhes</td>\n",
       "      <td>United States</td>\n",
       "      <td>English</td>\n",
       "      <td>2016-11-07 15:08:00</td>\n",
       "      <td>2647</td>\n",
       "      <td>2508</td>\n",
       "      <td>3448</td>\n",
       "      <td>RETWEET</td>\n",
       "      <td>Hashtager</td>\n",
       "      <td>1</td>\n",
       "      <td>HashtagGamer</td>\n",
       "      <td>Trump twitter suspended #2016ElectionIn3Words</td>\n",
       "      <td>2016-11-07</td>\n",
       "      <td>15</td>\n",
       "      <td>None</td>\n",
       "      <td>[2016ElectionIn3Words]</td>\n",
       "      <td>0.947488</td>\n",
       "      <td>trump twitter suspended</td>\n",
       "    </tr>\n",
       "    <tr>\n",
       "      <th>3</th>\n",
       "      <td>1145443</td>\n",
       "      <td>gab1aldana</td>\n",
       "      <td>United States</td>\n",
       "      <td>English</td>\n",
       "      <td>2016-11-07 15:27:00</td>\n",
       "      <td>3021</td>\n",
       "      <td>3311</td>\n",
       "      <td>3847</td>\n",
       "      <td>RETWEET</td>\n",
       "      <td>Hashtager</td>\n",
       "      <td>1</td>\n",
       "      <td>HashtagGamer</td>\n",
       "      <td>Trump twitter suspended #2016ElectionIn3Words</td>\n",
       "      <td>2016-11-07</td>\n",
       "      <td>15</td>\n",
       "      <td>None</td>\n",
       "      <td>[2016ElectionIn3Words]</td>\n",
       "      <td>1.095995</td>\n",
       "      <td>trump twitter suspended</td>\n",
       "    </tr>\n",
       "    <tr>\n",
       "      <th>4</th>\n",
       "      <td>1830437</td>\n",
       "      <td>mr_clampin</td>\n",
       "      <td>United States</td>\n",
       "      <td>English</td>\n",
       "      <td>2016-11-07 15:32:00</td>\n",
       "      <td>2527</td>\n",
       "      <td>2078</td>\n",
       "      <td>3843</td>\n",
       "      <td>Other_Tweet</td>\n",
       "      <td>Hashtager</td>\n",
       "      <td>0</td>\n",
       "      <td>HashtagGamer</td>\n",
       "      <td>Trump twitter suspended #2016ElectionIn3Words</td>\n",
       "      <td>2016-11-07</td>\n",
       "      <td>15</td>\n",
       "      <td>None</td>\n",
       "      <td>[2016ElectionIn3Words]</td>\n",
       "      <td>0.822319</td>\n",
       "      <td>trump twitter suspended</td>\n",
       "    </tr>\n",
       "  </tbody>\n",
       "</table>\n",
       "</div>"
      ],
      "text/plain": [
       "     index           author         region language        publish_date  \\\n",
       "0  2914564  worldofhashtags  United States  English 2016-11-07 14:45:00   \n",
       "1  1236324    holycrapchrix  United States  English 2016-11-07 15:02:00   \n",
       "2   177791      annieposhes  United States  English 2016-11-07 15:08:00   \n",
       "3  1145443       gab1aldana  United States  English 2016-11-07 15:27:00   \n",
       "4  1830437       mr_clampin  United States  English 2016-11-07 15:32:00   \n",
       "\n",
       "   following  followers  updates    post_type account_type  retweet  \\\n",
       "0       7630       7671    22253      RETWEET    Hashtager        1   \n",
       "1       2844       2554     4341      RETWEET    Hashtager        1   \n",
       "2       2647       2508     3448      RETWEET    Hashtager        1   \n",
       "3       3021       3311     3847      RETWEET    Hashtager        1   \n",
       "4       2527       2078     3843  Other_Tweet    Hashtager        0   \n",
       "\n",
       "  account_category                           content without http  \\\n",
       "0     HashtagGamer  Trump twitter suspended #2016ElectionIn3Words   \n",
       "1     HashtagGamer  Trump twitter suspended #2016ElectionIn3Words   \n",
       "2     HashtagGamer  Trump twitter suspended #2016ElectionIn3Words   \n",
       "3     HashtagGamer  Trump twitter suspended #2016ElectionIn3Words   \n",
       "4     HashtagGamer  Trump twitter suspended #2016ElectionIn3Words   \n",
       "\n",
       "  publish_date_Only time tweet_ref             hashtag_ref  \\\n",
       "0        2016-11-07   14      None  [2016ElectionIn3Words]   \n",
       "1        2016-11-07   15      None  [2016ElectionIn3Words]   \n",
       "2        2016-11-07   15      None  [2016ElectionIn3Words]   \n",
       "3        2016-11-07   15      None  [2016ElectionIn3Words]   \n",
       "4        2016-11-07   15      None  [2016ElectionIn3Words]   \n",
       "\n",
       "   follower_to_following_Ratio      kinda_clean_content  \n",
       "0                     1.005374  trump twitter suspended  \n",
       "1                     0.898031  trump twitter suspended  \n",
       "2                     0.947488  trump twitter suspended  \n",
       "3                     1.095995  trump twitter suspended  \n",
       "4                     0.822319  trump twitter suspended  "
      ]
     },
     "execution_count": 1066,
     "metadata": {},
     "output_type": "execute_result"
    }
   ],
   "source": [
    "two_tweets_=tmp[tmp['kinda_clean_content'].\\\n",
    "    isin(top_20_tweets_TR_CLin)]['kinda_clean_content'].value_counts().index[:2]\n",
    "\n",
    "\n",
    "two_tweets_to_plot=tr_clin_cli_tweets[tr_clin_cli_tweets['kinda_clean_content'].\\\n",
    "                   isin(two_tweets_)].sort_values('publish_date').reset_index()\n",
    "\n",
    "two_tweets_to_plot.head()\n",
    "# .head()"
   ]
  },
  {
   "cell_type": "code",
   "execution_count": 1103,
   "metadata": {},
   "outputs": [],
   "source": [
    "two_tweets_to_plot['new_time']=two_tweets_to_plot['publish_date'].\\\n",
    "dt.strftime('%m/%d/%Y %H:%M')\n"
   ]
  },
  {
   "cell_type": "code",
   "execution_count": 1109,
   "metadata": {},
   "outputs": [],
   "source": [
    "first_tweet=two_tweets_to_plot.iloc[:18,:]\n",
    "\n",
    "second_tweet=two_tweets_to_plot.iloc[18:,:].reset_index()\n"
   ]
  },
  {
   "cell_type": "code",
   "execution_count": 1110,
   "metadata": {},
   "outputs": [],
   "source": [
    "from datetime import datetime\n",
    "\n",
    "\n",
    "def time_to_int(df_to_parse,starting_point):\n",
    "    ll=[]\n",
    "    for i in df_to_parse:\n",
    "        FMT = '%m/%d/%Y %H:%M'\n",
    "        tdelta = datetime.strptime(i, FMT) -\\\n",
    "        datetime.strptime(starting_point, FMT)\n",
    "        convrt_mins=float(tdelta.total_seconds())/60\n",
    "        if tdelta.total_seconds() <10800:\n",
    "            ll.append(int(tdelta.total_seconds())/60)\n",
    "        else:\n",
    "            ll.append('Nope')\n",
    "    return ll\n",
    "# len(ll)\n",
    "\n",
    "first_tweet['min_ints']=time_to_int(first_tweet['new_time'],first_tweet['new_time'][0])\n",
    "\n",
    "# second_tweet"
   ]
  },
  {
   "cell_type": "code",
   "execution_count": 1112,
   "metadata": {},
   "outputs": [],
   "source": [
    "second_tweet['min_ints']=time_to_int(second_tweet['new_time'],second_tweet['new_time'][0])\n"
   ]
  },
  {
   "cell_type": "code",
   "execution_count": null,
   "metadata": {},
   "outputs": [],
   "source": []
  },
  {
   "cell_type": "code",
   "execution_count": 1113,
   "metadata": {},
   "outputs": [
    {
     "data": {
      "text/plain": [
       "<seaborn.axisgrid.FacetGrid at 0x1a86ecc320>"
      ]
     },
     "execution_count": 1113,
     "metadata": {},
     "output_type": "execute_result"
    },
    {
     "data": {
      "image/png": "[encoded data removed]",
      "text/plain": [
       "<Figure size 720x360 with 1 Axes>"
      ]
     },
     "metadata": {
      "needs_background": "light"
     },
     "output_type": "display_data"
    }
   ],
   "source": [
    "\n",
    "\n",
    "sns.catplot(data=first_tweet,x='min_ints',y='author',\n",
    "                    col='kinda_clean_content',aspect=2)"
   ]
  },
  {
   "cell_type": "code",
   "execution_count": 1114,
   "metadata": {},
   "outputs": [
    {
     "data": {
      "text/plain": [
       "<seaborn.axisgrid.FacetGrid at 0x1a86e9cf98>"
      ]
     },
     "execution_count": 1114,
     "metadata": {},
     "output_type": "execute_result"
    },
    {
     "data": {
      "image/png": "[encoded data removed]",
      "text/plain": [
       "<Figure size 720x360 with 1 Axes>"
      ]
     },
     "metadata": {
      "needs_background": "light"
     },
     "output_type": "display_data"
    }
   ],
   "source": [
    "sns.catplot(data=second_tweet,x='min_ints',y='author',\n",
    "                    col='kinda_clean_content',aspect=2)"
   ]
  },
  {
   "cell_type": "code",
   "execution_count": 268,
   "metadata": {},
   "outputs": [],
   "source": [
    "# Top 10 retweeters in english:\n",
    "# eng_ppl=list(eng_subset[eng_subset['retweet']==1]['author'].value_counts()[:200].index)\n",
    "# eng_subset[eng_subset['author'].isin(eng_ppl)==True]['content without http'].value_counts()[:30]"
   ]
  },
  {
   "cell_type": "markdown",
   "metadata": {},
   "source": [
    "# <font color=red>Like</font>, Share &\n",
    "\n",
    "# <font color=red>SUB</font>scribe\n",
    "\n",
    "<font size=5>**`Help Support The Channel: Patreon @mrfugudatasci`**</font>\n",
    "    \n",
    "**`Consider Also: Buy Me A Coffee @mrfugudatasci`**"
   ]
  },
  {
   "cell_type": "markdown",
   "metadata": {},
   "source": [
    "# `Citations & Help:`\n",
    "\n",
    "# ◔̯◔\n",
    "\n",
    "https://www.kaggle.com/auntiebody/coordinating-influence-on-twitter (very good notebook)\n",
    "\n",
    "https://www.kaggle.com/laurenliz22/russian-troll-tweets (other motivation)\n",
    "\n",
    "https://cmdlinetips.com/2020/01/heatmaps-with-seaborns-clustermap/\n",
    "\n",
    "https://pythontic.com/visualization/seaborn/clustermap\n",
    "\n",
    "https://inst.eecs.berkeley.edu/~cs61b/su06/lecnotes/lec28.pdf\n",
    "\n",
    "https://ncss-wpengine.netdna-ssl.com/wp-content/themes/ncss/pdf/Procedures/NCSS/Clustered_Heat_Maps-Double_Dendrograms.pdf"
   ]
  }
 ],
 "metadata": {
  "kernelspec": {
   "display_name": "Python 3",
   "language": "python",
   "name": "python3"
  },
  "language_info": {
   "codemirror_mode": {
    "name": "ipython",
    "version": 3
   },
   "file_extension": ".py",
   "mimetype": "text/x-python",
   "name": "python",
   "nbconvert_exporter": "python",
   "pygments_lexer": "ipython3",
   "version": "3.7.3"
  }
 },
 "nbformat": 4,
 "nbformat_minor": 4
}
